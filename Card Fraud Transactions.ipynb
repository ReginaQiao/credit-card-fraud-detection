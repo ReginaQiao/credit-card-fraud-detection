{
 "cells": [
  {
   "cell_type": "code",
   "execution_count": 1,
   "id": "513e81a3",
   "metadata": {},
   "outputs": [],
   "source": [
    "import numpy as np\n",
    "import pandas as pd\n",
    "import matplotlib.pyplot as plt\n",
    "import seaborn as sns\n",
    "from sklearn.preprocessing import LabelEncoder\n",
    "from sklearn.model_selection import train_test_split, cross_val_score, GridSearchCV\n",
    "from sklearn.ensemble import RandomForestClassifier\n",
    "from xgboost import XGBClassifier\n",
    "from sklearn.svm import SVC\n",
    "import xgboost as xgb\n",
    "from sklearn.metrics import accuracy_score, precision_score, recall_score, f1_score, confusion_matrix \n",
    "from sklearn.metrics import roc_curve, auc"
   ]
  },
  {
   "cell_type": "markdown",
   "id": "7672f533",
   "metadata": {},
   "source": [
    "## Question 1 Load"
   ]
  },
  {
   "cell_type": "markdown",
   "id": "ebea1875",
   "metadata": {},
   "source": [
    "In order to better understand the original dataset itself, in this structure analysis, I will check null values column first, simply remove columns that are all null values and after understanding the raw structure of data, I will fill in other columns with partial null values. Also, I will conduct EDA of each column and provide some visualizations to aid in understanding. Let's take a look at how I get to know this data!"
   ]
  },
  {
   "cell_type": "markdown",
   "id": "ded3bf6f",
   "metadata": {},
   "source": [
    "### 1. Load naive dataset"
   ]
  },
  {
   "cell_type": "code",
   "execution_count": 2,
   "id": "168d3784",
   "metadata": {},
   "outputs": [],
   "source": [
    "# Load dataset\n",
    "data_v0 = pd.read_json('transactions.txt', lines= True)"
   ]
  },
  {
   "cell_type": "code",
   "execution_count": 3,
   "id": "6859efbf",
   "metadata": {},
   "outputs": [],
   "source": [
    "data_v0.replace('', np.nan, inplace = True)"
   ]
  },
  {
   "cell_type": "code",
   "execution_count": 4,
   "id": "c2345323",
   "metadata": {
    "scrolled": true
   },
   "outputs": [
    {
     "data": {
      "text/html": [
       "<div>\n",
       "<style scoped>\n",
       "    .dataframe tbody tr th:only-of-type {\n",
       "        vertical-align: middle;\n",
       "    }\n",
       "\n",
       "    .dataframe tbody tr th {\n",
       "        vertical-align: top;\n",
       "    }\n",
       "\n",
       "    .dataframe thead th {\n",
       "        text-align: right;\n",
       "    }\n",
       "</style>\n",
       "<table border=\"1\" class=\"dataframe\">\n",
       "  <thead>\n",
       "    <tr style=\"text-align: right;\">\n",
       "      <th></th>\n",
       "      <th>accountNumber</th>\n",
       "      <th>customerId</th>\n",
       "      <th>creditLimit</th>\n",
       "      <th>availableMoney</th>\n",
       "      <th>transactionDateTime</th>\n",
       "      <th>transactionAmount</th>\n",
       "      <th>merchantName</th>\n",
       "      <th>acqCountry</th>\n",
       "      <th>merchantCountryCode</th>\n",
       "      <th>posEntryMode</th>\n",
       "      <th>...</th>\n",
       "      <th>echoBuffer</th>\n",
       "      <th>currentBalance</th>\n",
       "      <th>merchantCity</th>\n",
       "      <th>merchantState</th>\n",
       "      <th>merchantZip</th>\n",
       "      <th>cardPresent</th>\n",
       "      <th>posOnPremises</th>\n",
       "      <th>recurringAuthInd</th>\n",
       "      <th>expirationDateKeyInMatch</th>\n",
       "      <th>isFraud</th>\n",
       "    </tr>\n",
       "  </thead>\n",
       "  <tbody>\n",
       "    <tr>\n",
       "      <th>0</th>\n",
       "      <td>737265056</td>\n",
       "      <td>737265056</td>\n",
       "      <td>5000</td>\n",
       "      <td>5000.0</td>\n",
       "      <td>2016-08-13T14:27:32</td>\n",
       "      <td>98.55</td>\n",
       "      <td>Uber</td>\n",
       "      <td>US</td>\n",
       "      <td>US</td>\n",
       "      <td>02</td>\n",
       "      <td>...</td>\n",
       "      <td>NaN</td>\n",
       "      <td>0.0</td>\n",
       "      <td>NaN</td>\n",
       "      <td>NaN</td>\n",
       "      <td>NaN</td>\n",
       "      <td>False</td>\n",
       "      <td>NaN</td>\n",
       "      <td>NaN</td>\n",
       "      <td>False</td>\n",
       "      <td>False</td>\n",
       "    </tr>\n",
       "    <tr>\n",
       "      <th>1</th>\n",
       "      <td>737265056</td>\n",
       "      <td>737265056</td>\n",
       "      <td>5000</td>\n",
       "      <td>5000.0</td>\n",
       "      <td>2016-10-11T05:05:54</td>\n",
       "      <td>74.51</td>\n",
       "      <td>AMC #191138</td>\n",
       "      <td>US</td>\n",
       "      <td>US</td>\n",
       "      <td>09</td>\n",
       "      <td>...</td>\n",
       "      <td>NaN</td>\n",
       "      <td>0.0</td>\n",
       "      <td>NaN</td>\n",
       "      <td>NaN</td>\n",
       "      <td>NaN</td>\n",
       "      <td>True</td>\n",
       "      <td>NaN</td>\n",
       "      <td>NaN</td>\n",
       "      <td>False</td>\n",
       "      <td>False</td>\n",
       "    </tr>\n",
       "    <tr>\n",
       "      <th>2</th>\n",
       "      <td>737265056</td>\n",
       "      <td>737265056</td>\n",
       "      <td>5000</td>\n",
       "      <td>5000.0</td>\n",
       "      <td>2016-11-08T09:18:39</td>\n",
       "      <td>7.47</td>\n",
       "      <td>Play Store</td>\n",
       "      <td>US</td>\n",
       "      <td>US</td>\n",
       "      <td>09</td>\n",
       "      <td>...</td>\n",
       "      <td>NaN</td>\n",
       "      <td>0.0</td>\n",
       "      <td>NaN</td>\n",
       "      <td>NaN</td>\n",
       "      <td>NaN</td>\n",
       "      <td>False</td>\n",
       "      <td>NaN</td>\n",
       "      <td>NaN</td>\n",
       "      <td>False</td>\n",
       "      <td>False</td>\n",
       "    </tr>\n",
       "    <tr>\n",
       "      <th>3</th>\n",
       "      <td>737265056</td>\n",
       "      <td>737265056</td>\n",
       "      <td>5000</td>\n",
       "      <td>5000.0</td>\n",
       "      <td>2016-12-10T02:14:50</td>\n",
       "      <td>7.47</td>\n",
       "      <td>Play Store</td>\n",
       "      <td>US</td>\n",
       "      <td>US</td>\n",
       "      <td>09</td>\n",
       "      <td>...</td>\n",
       "      <td>NaN</td>\n",
       "      <td>0.0</td>\n",
       "      <td>NaN</td>\n",
       "      <td>NaN</td>\n",
       "      <td>NaN</td>\n",
       "      <td>False</td>\n",
       "      <td>NaN</td>\n",
       "      <td>NaN</td>\n",
       "      <td>False</td>\n",
       "      <td>False</td>\n",
       "    </tr>\n",
       "    <tr>\n",
       "      <th>4</th>\n",
       "      <td>830329091</td>\n",
       "      <td>830329091</td>\n",
       "      <td>5000</td>\n",
       "      <td>5000.0</td>\n",
       "      <td>2016-03-24T21:04:46</td>\n",
       "      <td>71.18</td>\n",
       "      <td>Tim Hortons #947751</td>\n",
       "      <td>US</td>\n",
       "      <td>US</td>\n",
       "      <td>02</td>\n",
       "      <td>...</td>\n",
       "      <td>NaN</td>\n",
       "      <td>0.0</td>\n",
       "      <td>NaN</td>\n",
       "      <td>NaN</td>\n",
       "      <td>NaN</td>\n",
       "      <td>True</td>\n",
       "      <td>NaN</td>\n",
       "      <td>NaN</td>\n",
       "      <td>False</td>\n",
       "      <td>False</td>\n",
       "    </tr>\n",
       "  </tbody>\n",
       "</table>\n",
       "<p>5 rows × 29 columns</p>\n",
       "</div>"
      ],
      "text/plain": [
       "   accountNumber  customerId  creditLimit  availableMoney  \\\n",
       "0      737265056   737265056         5000          5000.0   \n",
       "1      737265056   737265056         5000          5000.0   \n",
       "2      737265056   737265056         5000          5000.0   \n",
       "3      737265056   737265056         5000          5000.0   \n",
       "4      830329091   830329091         5000          5000.0   \n",
       "\n",
       "   transactionDateTime  transactionAmount         merchantName acqCountry  \\\n",
       "0  2016-08-13T14:27:32              98.55                 Uber         US   \n",
       "1  2016-10-11T05:05:54              74.51          AMC #191138         US   \n",
       "2  2016-11-08T09:18:39               7.47           Play Store         US   \n",
       "3  2016-12-10T02:14:50               7.47           Play Store         US   \n",
       "4  2016-03-24T21:04:46              71.18  Tim Hortons #947751         US   \n",
       "\n",
       "  merchantCountryCode posEntryMode  ... echoBuffer currentBalance  \\\n",
       "0                  US           02  ...        NaN            0.0   \n",
       "1                  US           09  ...        NaN            0.0   \n",
       "2                  US           09  ...        NaN            0.0   \n",
       "3                  US           09  ...        NaN            0.0   \n",
       "4                  US           02  ...        NaN            0.0   \n",
       "\n",
       "  merchantCity merchantState merchantZip  cardPresent  posOnPremises  \\\n",
       "0          NaN           NaN         NaN        False            NaN   \n",
       "1          NaN           NaN         NaN         True            NaN   \n",
       "2          NaN           NaN         NaN        False            NaN   \n",
       "3          NaN           NaN         NaN        False            NaN   \n",
       "4          NaN           NaN         NaN         True            NaN   \n",
       "\n",
       "   recurringAuthInd expirationDateKeyInMatch  isFraud  \n",
       "0               NaN                    False    False  \n",
       "1               NaN                    False    False  \n",
       "2               NaN                    False    False  \n",
       "3               NaN                    False    False  \n",
       "4               NaN                    False    False  \n",
       "\n",
       "[5 rows x 29 columns]"
      ]
     },
     "execution_count": 4,
     "metadata": {},
     "output_type": "execute_result"
    }
   ],
   "source": [
    "data_v0.head()"
   ]
  },
  {
   "cell_type": "markdown",
   "id": "2c9b6cbd",
   "metadata": {},
   "source": [
    "### 2. Naive Dataset Dimension"
   ]
  },
  {
   "cell_type": "code",
   "execution_count": 5,
   "id": "74e172ee",
   "metadata": {},
   "outputs": [
    {
     "name": "stdout",
     "output_type": "stream",
     "text": [
      "Dataset Size is: 786363 x 29\n"
     ]
    }
   ],
   "source": [
    "# Dataset Dimension\n",
    "m,n = data_v0.shape\n",
    "print('Dataset Size is:', m, 'x',n )"
   ]
  },
  {
   "cell_type": "markdown",
   "id": "df675c81",
   "metadata": {},
   "source": [
    "### 3. Dataset Information Check"
   ]
  },
  {
   "cell_type": "code",
   "execution_count": 6,
   "id": "9830ad12",
   "metadata": {},
   "outputs": [
    {
     "name": "stdout",
     "output_type": "stream",
     "text": [
      "<class 'pandas.core.frame.DataFrame'>\n",
      "RangeIndex: 786363 entries, 0 to 786362\n",
      "Data columns (total 29 columns):\n",
      " #   Column                    Non-Null Count   Dtype  \n",
      "---  ------                    --------------   -----  \n",
      " 0   accountNumber             786363 non-null  int64  \n",
      " 1   customerId                786363 non-null  int64  \n",
      " 2   creditLimit               786363 non-null  int64  \n",
      " 3   availableMoney            786363 non-null  float64\n",
      " 4   transactionDateTime       786363 non-null  object \n",
      " 5   transactionAmount         786363 non-null  float64\n",
      " 6   merchantName              786363 non-null  object \n",
      " 7   acqCountry                781801 non-null  object \n",
      " 8   merchantCountryCode       785639 non-null  object \n",
      " 9   posEntryMode              782309 non-null  object \n",
      " 10  posConditionCode          785954 non-null  object \n",
      " 11  merchantCategoryCode      786363 non-null  object \n",
      " 12  currentExpDate            786363 non-null  object \n",
      " 13  accountOpenDate           786363 non-null  object \n",
      " 14  dateOfLastAddressChange   786363 non-null  object \n",
      " 15  cardCVV                   786363 non-null  int64  \n",
      " 16  enteredCVV                786363 non-null  int64  \n",
      " 17  cardLast4Digits           786363 non-null  int64  \n",
      " 18  transactionType           785665 non-null  object \n",
      " 19  echoBuffer                0 non-null       float64\n",
      " 20  currentBalance            786363 non-null  float64\n",
      " 21  merchantCity              0 non-null       float64\n",
      " 22  merchantState             0 non-null       float64\n",
      " 23  merchantZip               0 non-null       float64\n",
      " 24  cardPresent               786363 non-null  bool   \n",
      " 25  posOnPremises             0 non-null       float64\n",
      " 26  recurringAuthInd          0 non-null       float64\n",
      " 27  expirationDateKeyInMatch  786363 non-null  bool   \n",
      " 28  isFraud                   786363 non-null  bool   \n",
      "dtypes: bool(3), float64(9), int64(6), object(11)\n",
      "memory usage: 158.2+ MB\n"
     ]
    }
   ],
   "source": [
    "# Null value, data type check\n",
    "data_v0.info()"
   ]
  },
  {
   "cell_type": "markdown",
   "id": "8b34a9d0",
   "metadata": {},
   "source": [
    "#### Finding: \n",
    "\n",
    "Through dataset information, I have found that there are 6 columns with completely null values. Let's create a ranking dataframe to check."
   ]
  },
  {
   "cell_type": "code",
   "execution_count": 7,
   "id": "7a9d273b",
   "metadata": {},
   "outputs": [
    {
     "data": {
      "text/html": [
       "<div>\n",
       "<style scoped>\n",
       "    .dataframe tbody tr th:only-of-type {\n",
       "        vertical-align: middle;\n",
       "    }\n",
       "\n",
       "    .dataframe tbody tr th {\n",
       "        vertical-align: top;\n",
       "    }\n",
       "\n",
       "    .dataframe thead th {\n",
       "        text-align: right;\n",
       "    }\n",
       "</style>\n",
       "<table border=\"1\" class=\"dataframe\">\n",
       "  <thead>\n",
       "    <tr style=\"text-align: right;\">\n",
       "      <th></th>\n",
       "      <th>index</th>\n",
       "      <th>0</th>\n",
       "    </tr>\n",
       "  </thead>\n",
       "  <tbody>\n",
       "    <tr>\n",
       "      <th>26</th>\n",
       "      <td>recurringAuthInd</td>\n",
       "      <td>786363</td>\n",
       "    </tr>\n",
       "    <tr>\n",
       "      <th>25</th>\n",
       "      <td>posOnPremises</td>\n",
       "      <td>786363</td>\n",
       "    </tr>\n",
       "    <tr>\n",
       "      <th>23</th>\n",
       "      <td>merchantZip</td>\n",
       "      <td>786363</td>\n",
       "    </tr>\n",
       "    <tr>\n",
       "      <th>22</th>\n",
       "      <td>merchantState</td>\n",
       "      <td>786363</td>\n",
       "    </tr>\n",
       "    <tr>\n",
       "      <th>21</th>\n",
       "      <td>merchantCity</td>\n",
       "      <td>786363</td>\n",
       "    </tr>\n",
       "    <tr>\n",
       "      <th>19</th>\n",
       "      <td>echoBuffer</td>\n",
       "      <td>786363</td>\n",
       "    </tr>\n",
       "    <tr>\n",
       "      <th>7</th>\n",
       "      <td>acqCountry</td>\n",
       "      <td>4562</td>\n",
       "    </tr>\n",
       "    <tr>\n",
       "      <th>9</th>\n",
       "      <td>posEntryMode</td>\n",
       "      <td>4054</td>\n",
       "    </tr>\n",
       "    <tr>\n",
       "      <th>8</th>\n",
       "      <td>merchantCountryCode</td>\n",
       "      <td>724</td>\n",
       "    </tr>\n",
       "    <tr>\n",
       "      <th>18</th>\n",
       "      <td>transactionType</td>\n",
       "      <td>698</td>\n",
       "    </tr>\n",
       "    <tr>\n",
       "      <th>10</th>\n",
       "      <td>posConditionCode</td>\n",
       "      <td>409</td>\n",
       "    </tr>\n",
       "    <tr>\n",
       "      <th>0</th>\n",
       "      <td>accountNumber</td>\n",
       "      <td>0</td>\n",
       "    </tr>\n",
       "    <tr>\n",
       "      <th>17</th>\n",
       "      <td>cardLast4Digits</td>\n",
       "      <td>0</td>\n",
       "    </tr>\n",
       "    <tr>\n",
       "      <th>27</th>\n",
       "      <td>expirationDateKeyInMatch</td>\n",
       "      <td>0</td>\n",
       "    </tr>\n",
       "    <tr>\n",
       "      <th>24</th>\n",
       "      <td>cardPresent</td>\n",
       "      <td>0</td>\n",
       "    </tr>\n",
       "    <tr>\n",
       "      <th>20</th>\n",
       "      <td>currentBalance</td>\n",
       "      <td>0</td>\n",
       "    </tr>\n",
       "    <tr>\n",
       "      <th>14</th>\n",
       "      <td>dateOfLastAddressChange</td>\n",
       "      <td>0</td>\n",
       "    </tr>\n",
       "    <tr>\n",
       "      <th>16</th>\n",
       "      <td>enteredCVV</td>\n",
       "      <td>0</td>\n",
       "    </tr>\n",
       "    <tr>\n",
       "      <th>15</th>\n",
       "      <td>cardCVV</td>\n",
       "      <td>0</td>\n",
       "    </tr>\n",
       "    <tr>\n",
       "      <th>1</th>\n",
       "      <td>customerId</td>\n",
       "      <td>0</td>\n",
       "    </tr>\n",
       "    <tr>\n",
       "      <th>13</th>\n",
       "      <td>accountOpenDate</td>\n",
       "      <td>0</td>\n",
       "    </tr>\n",
       "    <tr>\n",
       "      <th>12</th>\n",
       "      <td>currentExpDate</td>\n",
       "      <td>0</td>\n",
       "    </tr>\n",
       "    <tr>\n",
       "      <th>11</th>\n",
       "      <td>merchantCategoryCode</td>\n",
       "      <td>0</td>\n",
       "    </tr>\n",
       "    <tr>\n",
       "      <th>6</th>\n",
       "      <td>merchantName</td>\n",
       "      <td>0</td>\n",
       "    </tr>\n",
       "    <tr>\n",
       "      <th>5</th>\n",
       "      <td>transactionAmount</td>\n",
       "      <td>0</td>\n",
       "    </tr>\n",
       "    <tr>\n",
       "      <th>4</th>\n",
       "      <td>transactionDateTime</td>\n",
       "      <td>0</td>\n",
       "    </tr>\n",
       "    <tr>\n",
       "      <th>3</th>\n",
       "      <td>availableMoney</td>\n",
       "      <td>0</td>\n",
       "    </tr>\n",
       "    <tr>\n",
       "      <th>2</th>\n",
       "      <td>creditLimit</td>\n",
       "      <td>0</td>\n",
       "    </tr>\n",
       "    <tr>\n",
       "      <th>28</th>\n",
       "      <td>isFraud</td>\n",
       "      <td>0</td>\n",
       "    </tr>\n",
       "  </tbody>\n",
       "</table>\n",
       "</div>"
      ],
      "text/plain": [
       "                       index       0\n",
       "26          recurringAuthInd  786363\n",
       "25             posOnPremises  786363\n",
       "23               merchantZip  786363\n",
       "22             merchantState  786363\n",
       "21              merchantCity  786363\n",
       "19                echoBuffer  786363\n",
       "7                 acqCountry    4562\n",
       "9               posEntryMode    4054\n",
       "8        merchantCountryCode     724\n",
       "18           transactionType     698\n",
       "10          posConditionCode     409\n",
       "0              accountNumber       0\n",
       "17           cardLast4Digits       0\n",
       "27  expirationDateKeyInMatch       0\n",
       "24               cardPresent       0\n",
       "20            currentBalance       0\n",
       "14   dateOfLastAddressChange       0\n",
       "16                enteredCVV       0\n",
       "15                   cardCVV       0\n",
       "1                 customerId       0\n",
       "13           accountOpenDate       0\n",
       "12            currentExpDate       0\n",
       "11      merchantCategoryCode       0\n",
       "6               merchantName       0\n",
       "5          transactionAmount       0\n",
       "4        transactionDateTime       0\n",
       "3             availableMoney       0\n",
       "2                creditLimit       0\n",
       "28                   isFraud       0"
      ]
     },
     "execution_count": 7,
     "metadata": {},
     "output_type": "execute_result"
    }
   ],
   "source": [
    "pd.DataFrame(data_v0.isnull().sum()).reset_index(drop=False).sort_values(by=0,ascending=False)"
   ]
  },
  {
   "cell_type": "markdown",
   "id": "9f8a717b",
   "metadata": {},
   "source": [
    "#### Finding: \n",
    "\n",
    "(1) acqCountry has 4562 null values\n",
    "\n",
    "(2) posEntryMode has 4054 null values\n",
    "\n",
    "(3) merchantCountryCode has 724 null values\n",
    "\n",
    "(4) transactionType\thas 698 null values\n",
    "\n",
    "(5) posConditionCode\thas 409 null values"
   ]
  },
  {
   "cell_type": "markdown",
   "id": "23514863",
   "metadata": {},
   "source": [
    "Now, I plan to remove these 6 columns('echoBuffer', 'merchantCity', 'merchantState', 'merchantZip', 'posOnPremises', 'recurringAuthInd') including all Null values in the dataset to reduce dimensionality."
   ]
  },
  {
   "cell_type": "code",
   "execution_count": 8,
   "id": "833e6576",
   "metadata": {},
   "outputs": [],
   "source": [
    "data_v0.drop(['echoBuffer', 'merchantCity', 'merchantState', 'merchantZip', 'posOnPremises', 'recurringAuthInd'], \n",
    "          axis=1, inplace=True)"
   ]
  },
  {
   "cell_type": "code",
   "execution_count": 9,
   "id": "43a1067e",
   "metadata": {},
   "outputs": [
    {
     "name": "stdout",
     "output_type": "stream",
     "text": [
      "Now, Dataset Size is: 786363 x 23\n"
     ]
    }
   ],
   "source": [
    "# After removing dataset dimension\n",
    "m,n = data_v0.shape\n",
    "print('Now, Dataset Size is:', m, 'x',n )"
   ]
  },
  {
   "cell_type": "markdown",
   "id": "f9cf74c7",
   "metadata": {},
   "source": [
    "### 4. Ensure accountNumber and customerId one-to-one correspondence"
   ]
  },
  {
   "cell_type": "code",
   "execution_count": 10,
   "id": "1da05ac6",
   "metadata": {},
   "outputs": [
    {
     "name": "stdout",
     "output_type": "stream",
     "text": [
      "0\n"
     ]
    }
   ],
   "source": [
    "# Check accountNumber and customerId one-to-one correspondence\n",
    "dif_c = list(data_v0['accountNumber'].unique() == data_v0['customerId'].unique())\n",
    "dif_c_num = 0\n",
    "for i in dif_c:\n",
    "    if i == 'False':\n",
    "        dif_c_num += 1\n",
    "print(dif_c_num)"
   ]
  },
  {
   "cell_type": "code",
   "execution_count": 11,
   "id": "04b9c7ea",
   "metadata": {},
   "outputs": [
    {
     "data": {
      "text/plain": [
       "5000"
      ]
     },
     "execution_count": 11,
     "metadata": {},
     "output_type": "execute_result"
    }
   ],
   "source": [
    "# The number of customers\n",
    "one_to_one = pd.concat([pd.DataFrame(data_v0['accountNumber'].unique()),\n",
    "                      pd.DataFrame(data_v0['customerId'].unique())],\n",
    "                      axis = 1)\n",
    "one_to_one.columns=['accountNumber','customerId']\n",
    "one_to_one[one_to_one['accountNumber']==one_to_one['customerId']].shape[0]"
   ]
  },
  {
   "cell_type": "markdown",
   "id": "1cb4fa8a",
   "metadata": {},
   "source": [
    "#### Finding: \n",
    "\n",
    "Each accountNumber and customerId have a one-to-one correspondence, meaning that each customerId has one accountNumber. The total number of customers is 5,000."
   ]
  },
  {
   "cell_type": "markdown",
   "id": "f35962af",
   "metadata": {},
   "source": [
    "### 5. The number of records about each accountNumber/customerId \n",
    "### Transaction Number and Transaction Type Analysis\n",
    "##### Attention: Transaction Type has null value"
   ]
  },
  {
   "cell_type": "code",
   "execution_count": 12,
   "id": "cf43f9f6",
   "metadata": {},
   "outputs": [
    {
     "data": {
      "text/html": [
       "<div>\n",
       "<style scoped>\n",
       "    .dataframe tbody tr th:only-of-type {\n",
       "        vertical-align: middle;\n",
       "    }\n",
       "\n",
       "    .dataframe tbody tr th {\n",
       "        vertical-align: top;\n",
       "    }\n",
       "\n",
       "    .dataframe thead th {\n",
       "        text-align: right;\n",
       "    }\n",
       "</style>\n",
       "<table border=\"1\" class=\"dataframe\">\n",
       "  <thead>\n",
       "    <tr style=\"text-align: right;\">\n",
       "      <th></th>\n",
       "      <th>transactionNum</th>\n",
       "    </tr>\n",
       "    <tr>\n",
       "      <th>accountNumber</th>\n",
       "      <th></th>\n",
       "    </tr>\n",
       "  </thead>\n",
       "  <tbody>\n",
       "    <tr>\n",
       "      <th>100088067</th>\n",
       "      <td>75</td>\n",
       "    </tr>\n",
       "    <tr>\n",
       "      <th>100108752</th>\n",
       "      <td>18</td>\n",
       "    </tr>\n",
       "    <tr>\n",
       "      <th>100328049</th>\n",
       "      <td>103</td>\n",
       "    </tr>\n",
       "    <tr>\n",
       "      <th>100663626</th>\n",
       "      <td>31</td>\n",
       "    </tr>\n",
       "    <tr>\n",
       "      <th>100737756</th>\n",
       "      <td>178</td>\n",
       "    </tr>\n",
       "    <tr>\n",
       "      <th>...</th>\n",
       "      <td>...</td>\n",
       "    </tr>\n",
       "    <tr>\n",
       "      <th>999086814</th>\n",
       "      <td>677</td>\n",
       "    </tr>\n",
       "    <tr>\n",
       "      <th>999257059</th>\n",
       "      <td>160</td>\n",
       "    </tr>\n",
       "    <tr>\n",
       "      <th>999258704</th>\n",
       "      <td>88</td>\n",
       "    </tr>\n",
       "    <tr>\n",
       "      <th>999283629</th>\n",
       "      <td>141</td>\n",
       "    </tr>\n",
       "    <tr>\n",
       "      <th>999389635</th>\n",
       "      <td>9</td>\n",
       "    </tr>\n",
       "  </tbody>\n",
       "</table>\n",
       "<p>5000 rows × 1 columns</p>\n",
       "</div>"
      ],
      "text/plain": [
       "               transactionNum\n",
       "accountNumber                \n",
       "100088067                  75\n",
       "100108752                  18\n",
       "100328049                 103\n",
       "100663626                  31\n",
       "100737756                 178\n",
       "...                       ...\n",
       "999086814                 677\n",
       "999257059                 160\n",
       "999258704                  88\n",
       "999283629                 141\n",
       "999389635                   9\n",
       "\n",
       "[5000 rows x 1 columns]"
      ]
     },
     "execution_count": 12,
     "metadata": {},
     "output_type": "execute_result"
    }
   ],
   "source": [
    "# Including all transactions\n",
    "customer_transaction_num = pd.DataFrame(data_v0.groupby('accountNumber')['transactionAmount'].count())\n",
    "customer_transaction_num.columns = ['transactionNum']\n",
    "customer_transaction_num"
   ]
  },
  {
   "cell_type": "code",
   "execution_count": 13,
   "id": "611f0137",
   "metadata": {},
   "outputs": [
    {
     "data": {
      "text/html": [
       "<div>\n",
       "<style scoped>\n",
       "    .dataframe tbody tr th:only-of-type {\n",
       "        vertical-align: middle;\n",
       "    }\n",
       "\n",
       "    .dataframe tbody tr th {\n",
       "        vertical-align: top;\n",
       "    }\n",
       "\n",
       "    .dataframe thead th {\n",
       "        text-align: right;\n",
       "    }\n",
       "</style>\n",
       "<table border=\"1\" class=\"dataframe\">\n",
       "  <thead>\n",
       "    <tr style=\"text-align: right;\">\n",
       "      <th></th>\n",
       "      <th>transactionNum</th>\n",
       "    </tr>\n",
       "  </thead>\n",
       "  <tbody>\n",
       "    <tr>\n",
       "      <th>count</th>\n",
       "      <td>5000.00000</td>\n",
       "    </tr>\n",
       "    <tr>\n",
       "      <th>mean</th>\n",
       "      <td>157.27260</td>\n",
       "    </tr>\n",
       "    <tr>\n",
       "      <th>std</th>\n",
       "      <td>655.30506</td>\n",
       "    </tr>\n",
       "    <tr>\n",
       "      <th>min</th>\n",
       "      <td>1.00000</td>\n",
       "    </tr>\n",
       "    <tr>\n",
       "      <th>25%</th>\n",
       "      <td>21.00000</td>\n",
       "    </tr>\n",
       "    <tr>\n",
       "      <th>50%</th>\n",
       "      <td>50.00000</td>\n",
       "    </tr>\n",
       "    <tr>\n",
       "      <th>75%</th>\n",
       "      <td>123.00000</td>\n",
       "    </tr>\n",
       "    <tr>\n",
       "      <th>max</th>\n",
       "      <td>32850.00000</td>\n",
       "    </tr>\n",
       "  </tbody>\n",
       "</table>\n",
       "</div>"
      ],
      "text/plain": [
       "       transactionNum\n",
       "count      5000.00000\n",
       "mean        157.27260\n",
       "std         655.30506\n",
       "min           1.00000\n",
       "25%          21.00000\n",
       "50%          50.00000\n",
       "75%         123.00000\n",
       "max       32850.00000"
      ]
     },
     "execution_count": 13,
     "metadata": {},
     "output_type": "execute_result"
    }
   ],
   "source": [
    "# Statistical information about customer transaction amount\n",
    "customer_transaction_num.describe()"
   ]
  },
  {
   "cell_type": "code",
   "execution_count": 14,
   "id": "8775f268",
   "metadata": {},
   "outputs": [
    {
     "data": {
      "text/plain": [
       "1"
      ]
     },
     "execution_count": 14,
     "metadata": {},
     "output_type": "execute_result"
    }
   ],
   "source": [
    "# The number of customers who had 32580 transactions\n",
    "customer_transaction_num[customer_transaction_num['transactionNum']==32850].shape[0]"
   ]
  },
  {
   "cell_type": "markdown",
   "id": "36ffe619",
   "metadata": {},
   "source": [
    "#### Finding: \n",
    "\n",
    "(1) The minimum cstomer transaction transaction is 1, and the maximum is 32,850 transactions, so big number, amazing, but only one customer!\n",
    "\n",
    "(2) The lower quartile of the data is 21 transactions, the mean is 157 transactions with a standard deviation of 655, the median is 50 transactions, and the upper quartile is 123 transactions. "
   ]
  },
  {
   "cell_type": "code",
   "execution_count": 15,
   "id": "70fbca34",
   "metadata": {},
   "outputs": [
    {
     "data": {
      "text/plain": [
       "array(['PURCHASE', 'ADDRESS_VERIFICATION', 'REVERSAL', nan], dtype=object)"
      ]
     },
     "execution_count": 15,
     "metadata": {},
     "output_type": "execute_result"
    }
   ],
   "source": [
    "data_v0['transactionType'].unique()"
   ]
  },
  {
   "cell_type": "code",
   "execution_count": 16,
   "id": "3caf8a63",
   "metadata": {},
   "outputs": [
    {
     "data": {
      "text/plain": [
       "PURCHASE                745193\n",
       "REVERSAL                 20303\n",
       "ADDRESS_VERIFICATION     20169\n",
       "Name: transactionType, dtype: int64"
      ]
     },
     "execution_count": 16,
     "metadata": {},
     "output_type": "execute_result"
    }
   ],
   "source": [
    "# The number of transactionType \n",
    "transactionType_num = data_v0['transactionType'].value_counts()\n",
    "transactionType_num"
   ]
  },
  {
   "cell_type": "code",
   "execution_count": 17,
   "id": "2fdeac06",
   "metadata": {},
   "outputs": [
    {
     "data": {
      "image/png": "[encoded data removed]",
      "text/plain": [
       "<Figure size 864x360 with 2 Axes>"
      ]
     },
     "metadata": {
      "needs_background": "light"
     },
     "output_type": "display_data"
    }
   ],
   "source": [
    "# Define\n",
    "transaction_types = [\"PURCHASE\", \"REVERSAL\", \"ADDRESS_VERIFICATION\"]\n",
    "transaction_counts = [745891, 20303, 20169]\n",
    "\n",
    "# Create subplots\n",
    "fig, (ax1, ax2) = plt.subplots(1, 2, figsize=(12, 5))\n",
    "\n",
    "# Horizontal bar chart\n",
    "ax1.bar(transaction_types, transaction_counts)\n",
    "ax1.set_xlabel(\"Count\")\n",
    "ax1.set_title(\"Transaction Types\")\n",
    "\n",
    "# Pie chart\n",
    "ax2.pie(transaction_counts, labels=transaction_types, autopct=\"%1.1f%%\")\n",
    "ax2.set_title(\"Transaction Types Percentage\")\n",
    "\n",
    "plt.show()"
   ]
  },
  {
   "cell_type": "markdown",
   "id": "6baf39c3",
   "metadata": {},
   "source": [
    "#### Finding: \n",
    "\n",
    "The majority of transactions(94.8%) are purchase, while reversals(2.6%) and address verifications(2.6%) are relative infrequent."
   ]
  },
  {
   "cell_type": "markdown",
   "id": "98b4473b",
   "metadata": {},
   "source": [
    "#### transactionType null value fill in\n",
    "##### Based on the analysis of the 'transactionType' column in the previous section, where 94.8% of the values belong to 'PURCHASE', I decide to fill the 698 null values in the 'transactionType' column with 'PURCHASE'."
   ]
  },
  {
   "cell_type": "code",
   "execution_count": 18,
   "id": "4893faea",
   "metadata": {},
   "outputs": [
    {
     "data": {
      "text/plain": [
       "PURCHASE                745891\n",
       "REVERSAL                 20303\n",
       "ADDRESS_VERIFICATION     20169\n",
       "Name: transactionType, dtype: int64"
      ]
     },
     "execution_count": 18,
     "metadata": {},
     "output_type": "execute_result"
    }
   ],
   "source": [
    "data_v0['transactionType'] = data_v0['transactionType'].fillna(value='PURCHASE')\n",
    "data_v0['transactionType'].value_counts()"
   ]
  },
  {
   "cell_type": "code",
   "execution_count": 19,
   "id": "67317fdb",
   "metadata": {},
   "outputs": [
    {
     "data": {
      "text/html": [
       "<div>\n",
       "<style scoped>\n",
       "    .dataframe tbody tr th:only-of-type {\n",
       "        vertical-align: middle;\n",
       "    }\n",
       "\n",
       "    .dataframe tbody tr th {\n",
       "        vertical-align: top;\n",
       "    }\n",
       "\n",
       "    .dataframe thead th {\n",
       "        text-align: right;\n",
       "    }\n",
       "</style>\n",
       "<table border=\"1\" class=\"dataframe\">\n",
       "  <thead>\n",
       "    <tr style=\"text-align: right;\">\n",
       "      <th></th>\n",
       "      <th></th>\n",
       "      <th>transactionAmount</th>\n",
       "    </tr>\n",
       "    <tr>\n",
       "      <th>accountNumber</th>\n",
       "      <th>transactionType</th>\n",
       "      <th></th>\n",
       "    </tr>\n",
       "  </thead>\n",
       "  <tbody>\n",
       "    <tr>\n",
       "      <th rowspan=\"2\" valign=\"top\">100088067</th>\n",
       "      <th>PURCHASE</th>\n",
       "      <td>74</td>\n",
       "    </tr>\n",
       "    <tr>\n",
       "      <th>REVERSAL</th>\n",
       "      <td>1</td>\n",
       "    </tr>\n",
       "    <tr>\n",
       "      <th>100108752</th>\n",
       "      <th>PURCHASE</th>\n",
       "      <td>18</td>\n",
       "    </tr>\n",
       "    <tr>\n",
       "      <th rowspan=\"2\" valign=\"top\">100328049</th>\n",
       "      <th>ADDRESS_VERIFICATION</th>\n",
       "      <td>3</td>\n",
       "    </tr>\n",
       "    <tr>\n",
       "      <th>PURCHASE</th>\n",
       "      <td>98</td>\n",
       "    </tr>\n",
       "    <tr>\n",
       "      <th>...</th>\n",
       "      <th>...</th>\n",
       "      <td>...</td>\n",
       "    </tr>\n",
       "    <tr>\n",
       "      <th>999258704</th>\n",
       "      <th>REVERSAL</th>\n",
       "      <td>4</td>\n",
       "    </tr>\n",
       "    <tr>\n",
       "      <th rowspan=\"3\" valign=\"top\">999283629</th>\n",
       "      <th>ADDRESS_VERIFICATION</th>\n",
       "      <td>2</td>\n",
       "    </tr>\n",
       "    <tr>\n",
       "      <th>PURCHASE</th>\n",
       "      <td>135</td>\n",
       "    </tr>\n",
       "    <tr>\n",
       "      <th>REVERSAL</th>\n",
       "      <td>4</td>\n",
       "    </tr>\n",
       "    <tr>\n",
       "      <th>999389635</th>\n",
       "      <th>PURCHASE</th>\n",
       "      <td>9</td>\n",
       "    </tr>\n",
       "  </tbody>\n",
       "</table>\n",
       "<p>11008 rows × 1 columns</p>\n",
       "</div>"
      ],
      "text/plain": [
       "                                    transactionAmount\n",
       "accountNumber transactionType                        \n",
       "100088067     PURCHASE                             74\n",
       "              REVERSAL                              1\n",
       "100108752     PURCHASE                             18\n",
       "100328049     ADDRESS_VERIFICATION                  3\n",
       "              PURCHASE                             98\n",
       "...                                               ...\n",
       "999258704     REVERSAL                              4\n",
       "999283629     ADDRESS_VERIFICATION                  2\n",
       "              PURCHASE                            135\n",
       "              REVERSAL                              4\n",
       "999389635     PURCHASE                              9\n",
       "\n",
       "[11008 rows x 1 columns]"
      ]
     },
     "execution_count": 19,
     "metadata": {},
     "output_type": "execute_result"
    }
   ],
   "source": [
    "# Including each type transactions with each customer\n",
    "customer_transactionAmount_type = pd.DataFrame(data_v0.groupby(['accountNumber','transactionType'])['transactionAmount'].count())\n",
    "customer_transactionAmount_type"
   ]
  },
  {
   "cell_type": "markdown",
   "id": "64fa17c8",
   "metadata": {},
   "source": [
    "### 6. creditLimit and availableMoney Analysis"
   ]
  },
  {
   "cell_type": "markdown",
   "id": "681916e5",
   "metadata": {},
   "source": [
    "#### creditLimit"
   ]
  },
  {
   "cell_type": "code",
   "execution_count": 20,
   "id": "60b59efb",
   "metadata": {},
   "outputs": [
    {
     "data": {
      "text/plain": [
       "500       27097\n",
       "250       34025\n",
       "1000      36430\n",
       "50000     48781\n",
       "10000     56889\n",
       "20000     68629\n",
       "2500      75429\n",
       "7500      97913\n",
       "15000    139307\n",
       "5000     201863\n",
       "Name: creditLimit, dtype: int64"
      ]
     },
     "execution_count": 20,
     "metadata": {},
     "output_type": "execute_result"
    }
   ],
   "source": [
    "data_v0['creditLimit'].value_counts().sort_values()"
   ]
  },
  {
   "cell_type": "markdown",
   "id": "f87eda92",
   "metadata": {},
   "source": [
    "I cannot use all the records to obtain statistical information about the creditLimit, as dataset have 5000 customers but 786363 transactions. Therefore, I used a groupby function based on the accountNumber to obtain the required statistics."
   ]
  },
  {
   "cell_type": "code",
   "execution_count": 21,
   "id": "77cdd46d",
   "metadata": {},
   "outputs": [
    {
     "data": {
      "text/html": [
       "<div>\n",
       "<style scoped>\n",
       "    .dataframe tbody tr th:only-of-type {\n",
       "        vertical-align: middle;\n",
       "    }\n",
       "\n",
       "    .dataframe tbody tr th {\n",
       "        vertical-align: top;\n",
       "    }\n",
       "\n",
       "    .dataframe thead th {\n",
       "        text-align: right;\n",
       "    }\n",
       "</style>\n",
       "<table border=\"1\" class=\"dataframe\">\n",
       "  <thead>\n",
       "    <tr style=\"text-align: right;\">\n",
       "      <th></th>\n",
       "      <th>creditLimit</th>\n",
       "    </tr>\n",
       "    <tr>\n",
       "      <th>accountNumber</th>\n",
       "      <th></th>\n",
       "    </tr>\n",
       "  </thead>\n",
       "  <tbody>\n",
       "    <tr>\n",
       "      <th>100088067</th>\n",
       "      <td>50000</td>\n",
       "    </tr>\n",
       "    <tr>\n",
       "      <th>181877220</th>\n",
       "      <td>50000</td>\n",
       "    </tr>\n",
       "    <tr>\n",
       "      <th>497873281</th>\n",
       "      <td>50000</td>\n",
       "    </tr>\n",
       "    <tr>\n",
       "      <th>498695640</th>\n",
       "      <td>50000</td>\n",
       "    </tr>\n",
       "    <tr>\n",
       "      <th>501222917</th>\n",
       "      <td>50000</td>\n",
       "    </tr>\n",
       "    <tr>\n",
       "      <th>...</th>\n",
       "      <td>...</td>\n",
       "    </tr>\n",
       "    <tr>\n",
       "      <th>432761984</th>\n",
       "      <td>250</td>\n",
       "    </tr>\n",
       "    <tr>\n",
       "      <th>432365357</th>\n",
       "      <td>250</td>\n",
       "    </tr>\n",
       "    <tr>\n",
       "      <th>428856030</th>\n",
       "      <td>250</td>\n",
       "    </tr>\n",
       "    <tr>\n",
       "      <th>799299921</th>\n",
       "      <td>250</td>\n",
       "    </tr>\n",
       "    <tr>\n",
       "      <th>659613654</th>\n",
       "      <td>250</td>\n",
       "    </tr>\n",
       "  </tbody>\n",
       "</table>\n",
       "<p>5000 rows × 1 columns</p>\n",
       "</div>"
      ],
      "text/plain": [
       "               creditLimit\n",
       "accountNumber             \n",
       "100088067            50000\n",
       "181877220            50000\n",
       "497873281            50000\n",
       "498695640            50000\n",
       "501222917            50000\n",
       "...                    ...\n",
       "432761984              250\n",
       "432365357              250\n",
       "428856030              250\n",
       "799299921              250\n",
       "659613654              250\n",
       "\n",
       "[5000 rows x 1 columns]"
      ]
     },
     "execution_count": 21,
     "metadata": {},
     "output_type": "execute_result"
    }
   ],
   "source": [
    "def extract_credit_limit(arr):\n",
    "    return arr[0]\n",
    "creditLimit = pd.DataFrame(data_v0.groupby('accountNumber')['creditLimit'].unique())\n",
    "creditLimit['creditLimit'] = creditLimit['creditLimit'].apply(extract_credit_limit)\n",
    "creditLimit.sort_values(by='creditLimit',ascending=False)                          "
   ]
  },
  {
   "cell_type": "code",
   "execution_count": 22,
   "id": "8e912b2b",
   "metadata": {},
   "outputs": [
    {
     "data": {
      "image/png": "[encoded data removed]",
      "text/plain": [
       "<Figure size 432x288 with 1 Axes>"
      ]
     },
     "metadata": {
      "needs_background": "light"
     },
     "output_type": "display_data"
    }
   ],
   "source": [
    "plt.boxplot(creditLimit['creditLimit'], widths=0.2, showmeans=True)\n",
    "plt.show()"
   ]
  },
  {
   "cell_type": "code",
   "execution_count": 23,
   "id": "abe89566",
   "metadata": {},
   "outputs": [
    {
     "data": {
      "text/plain": [
       "count     5000.000000\n",
       "mean     10149.150000\n",
       "std      10816.765564\n",
       "min        250.000000\n",
       "25%       5000.000000\n",
       "50%       7500.000000\n",
       "75%      15000.000000\n",
       "max      50000.000000\n",
       "Name: creditLimit, dtype: float64"
      ]
     },
     "execution_count": 23,
     "metadata": {},
     "output_type": "execute_result"
    }
   ],
   "source": [
    "creditLimit['creditLimit'].describe()"
   ]
  },
  {
   "cell_type": "code",
   "execution_count": 24,
   "id": "50df5e36",
   "metadata": {},
   "outputs": [
    {
     "data": {
      "text/plain": [
       "246"
      ]
     },
     "execution_count": 24,
     "metadata": {},
     "output_type": "execute_result"
    }
   ],
   "source": [
    "creditLimit[creditLimit['creditLimit']==50000].shape[0]"
   ]
  },
  {
   "cell_type": "code",
   "execution_count": 25,
   "id": "717b87bc",
   "metadata": {},
   "outputs": [
    {
     "name": "stderr",
     "output_type": "stream",
     "text": [
      "/Users/qiaozihui/opt/anaconda3/lib/python3.9/site-packages/seaborn/distributions.py:2619: FutureWarning: `distplot` is a deprecated function and will be removed in a future version. Please adapt your code to use either `displot` (a figure-level function with similar flexibility) or `histplot` (an axes-level function for histograms).\n",
      "  warnings.warn(msg, FutureWarning)\n"
     ]
    },
    {
     "data": {
      "image/png": "[encoded data removed]",
      "text/plain": [
       "<Figure size 432x288 with 1 Axes>"
      ]
     },
     "metadata": {
      "needs_background": "light"
     },
     "output_type": "display_data"
    }
   ],
   "source": [
    "sns.distplot(creditLimit['creditLimit']);"
   ]
  },
  {
   "cell_type": "markdown",
   "id": "88f2ec2b",
   "metadata": {},
   "source": [
    "#### Finding:\n",
    "\n",
    "For all customers:\n",
    "\n",
    "  •  Credit limits only have ten levels.\n",
    "\n",
    "  •  the minimum credit limit is $250.\n",
    "  \n",
    "  •  the maximum credit limit is $50,000.\n",
    "  \n",
    "  •  the minority customer(246 customers) owns a credit limit of $50,000.\n",
    "  \n",
    "  •  credit limit mainly focus on 0-$20,000."
   ]
  },
  {
   "cell_type": "markdown",
   "id": "2f71bb8f",
   "metadata": {},
   "source": [
    "#### availableMoney"
   ]
  },
  {
   "cell_type": "code",
   "execution_count": 26,
   "id": "f33c51ff",
   "metadata": {},
   "outputs": [
    {
     "data": {
      "text/plain": [
       "count    786363.000000\n",
       "mean       6250.725369\n",
       "std        8880.783989\n",
       "min       -1005.630000\n",
       "25%        1077.420000\n",
       "50%        3184.860000\n",
       "75%        7500.000000\n",
       "max       50000.000000\n",
       "Name: availableMoney, dtype: float64"
      ]
     },
     "execution_count": 26,
     "metadata": {},
     "output_type": "execute_result"
    }
   ],
   "source": [
    "data_v0['availableMoney'].describe()"
   ]
  },
  {
   "cell_type": "code",
   "execution_count": 27,
   "id": "18457409",
   "metadata": {},
   "outputs": [
    {
     "name": "stderr",
     "output_type": "stream",
     "text": [
      "/Users/qiaozihui/opt/anaconda3/lib/python3.9/site-packages/seaborn/distributions.py:2619: FutureWarning: `distplot` is a deprecated function and will be removed in a future version. Please adapt your code to use either `displot` (a figure-level function with similar flexibility) or `histplot` (an axes-level function for histograms).\n",
      "  warnings.warn(msg, FutureWarning)\n"
     ]
    },
    {
     "data": {
      "image/png": "[encoded data removed]",
      "text/plain": [
       "<Figure size 432x288 with 1 Axes>"
      ]
     },
     "metadata": {
      "needs_background": "light"
     },
     "output_type": "display_data"
    }
   ],
   "source": [
    "sns.distplot(data_v0['availableMoney']);"
   ]
  },
  {
   "cell_type": "code",
   "execution_count": 28,
   "id": "431f28bd",
   "metadata": {},
   "outputs": [
    {
     "data": {
      "text/plain": [
       "428"
      ]
     },
     "execution_count": 28,
     "metadata": {},
     "output_type": "execute_result"
    }
   ],
   "source": [
    "# The number of customers who exceeded their limit\n",
    "data_v0[data_v0['availableMoney']<0]['accountNumber'].nunique()"
   ]
  },
  {
   "cell_type": "markdown",
   "id": "8407b12d",
   "metadata": {},
   "source": [
    "#### Finding:\n",
    "\n",
    "(1) right skewed\n",
    "\n",
    "(2) This makes sense because you wouldn't find too many people with available funds that match their credit limit, as they may have already spent the money, and 428 customers have exceeded their limit in some transactions."
   ]
  },
  {
   "cell_type": "markdown",
   "id": "f8545bb8",
   "metadata": {},
   "source": [
    "#### creditLimit and availableMoney"
   ]
  },
  {
   "cell_type": "code",
   "execution_count": 29,
   "id": "189ed8f0",
   "metadata": {},
   "outputs": [
    {
     "name": "stderr",
     "output_type": "stream",
     "text": [
      "/var/folders/9b/mzzkk68969n4702kpcrcv8b40000gn/T/ipykernel_12936/826962545.py:3: FutureWarning: Indexing with multiple keys (implicitly converted to a tuple of keys) will be deprecated, use a list instead.\n",
      "  availableMoney = pd.DataFrame(data_v0.groupby(['accountNumber','transactionDateTime'])['availableMoney','creditLimit'].max())\n"
     ]
    },
    {
     "data": {
      "text/html": [
       "<div>\n",
       "<style scoped>\n",
       "    .dataframe tbody tr th:only-of-type {\n",
       "        vertical-align: middle;\n",
       "    }\n",
       "\n",
       "    .dataframe tbody tr th {\n",
       "        vertical-align: top;\n",
       "    }\n",
       "\n",
       "    .dataframe thead th {\n",
       "        text-align: right;\n",
       "    }\n",
       "</style>\n",
       "<table border=\"1\" class=\"dataframe\">\n",
       "  <thead>\n",
       "    <tr style=\"text-align: right;\">\n",
       "      <th></th>\n",
       "      <th></th>\n",
       "      <th>availableMoney</th>\n",
       "      <th>creditLimit</th>\n",
       "    </tr>\n",
       "    <tr>\n",
       "      <th>accountNumber</th>\n",
       "      <th>transactionDateTime</th>\n",
       "      <th></th>\n",
       "      <th></th>\n",
       "    </tr>\n",
       "  </thead>\n",
       "  <tbody>\n",
       "    <tr>\n",
       "      <th rowspan=\"5\" valign=\"top\">999389635</th>\n",
       "      <th>2016-12-24T05:19:30</th>\n",
       "      <td>4714.84</td>\n",
       "      <td>5000</td>\n",
       "    </tr>\n",
       "    <tr>\n",
       "      <th>2016-11-24T00:21:46</th>\n",
       "      <td>4694.46</td>\n",
       "      <td>5000</td>\n",
       "    </tr>\n",
       "    <tr>\n",
       "      <th>2016-10-23T16:47:41</th>\n",
       "      <td>4674.08</td>\n",
       "      <td>5000</td>\n",
       "    </tr>\n",
       "    <tr>\n",
       "      <th>2016-09-22T13:58:30</th>\n",
       "      <td>4653.70</td>\n",
       "      <td>5000</td>\n",
       "    </tr>\n",
       "    <tr>\n",
       "      <th>2016-09-16T15:35:24</th>\n",
       "      <td>4921.32</td>\n",
       "      <td>5000</td>\n",
       "    </tr>\n",
       "    <tr>\n",
       "      <th>...</th>\n",
       "      <th>...</th>\n",
       "      <td>...</td>\n",
       "      <td>...</td>\n",
       "    </tr>\n",
       "    <tr>\n",
       "      <th rowspan=\"5\" valign=\"top\">100088067</th>\n",
       "      <th>2016-02-03T04:48:54</th>\n",
       "      <td>49933.93</td>\n",
       "      <td>50000</td>\n",
       "    </tr>\n",
       "    <tr>\n",
       "      <th>2016-02-02T19:57:18</th>\n",
       "      <td>50000.00</td>\n",
       "      <td>50000</td>\n",
       "    </tr>\n",
       "    <tr>\n",
       "      <th>2016-01-17T15:41:46</th>\n",
       "      <td>49748.44</td>\n",
       "      <td>50000</td>\n",
       "    </tr>\n",
       "    <tr>\n",
       "      <th>2016-01-12T19:49:41</th>\n",
       "      <td>49794.87</td>\n",
       "      <td>50000</td>\n",
       "    </tr>\n",
       "    <tr>\n",
       "      <th>2016-01-12T00:59:52</th>\n",
       "      <td>50000.00</td>\n",
       "      <td>50000</td>\n",
       "    </tr>\n",
       "  </tbody>\n",
       "</table>\n",
       "<p>786323 rows × 2 columns</p>\n",
       "</div>"
      ],
      "text/plain": [
       "                                   availableMoney  creditLimit\n",
       "accountNumber transactionDateTime                             \n",
       "999389635     2016-12-24T05:19:30         4714.84         5000\n",
       "              2016-11-24T00:21:46         4694.46         5000\n",
       "              2016-10-23T16:47:41         4674.08         5000\n",
       "              2016-09-22T13:58:30         4653.70         5000\n",
       "              2016-09-16T15:35:24         4921.32         5000\n",
       "...                                           ...          ...\n",
       "100088067     2016-02-03T04:48:54        49933.93        50000\n",
       "              2016-02-02T19:57:18        50000.00        50000\n",
       "              2016-01-17T15:41:46        49748.44        50000\n",
       "              2016-01-12T19:49:41        49794.87        50000\n",
       "              2016-01-12T00:59:52        50000.00        50000\n",
       "\n",
       "[786323 rows x 2 columns]"
      ]
     },
     "execution_count": 29,
     "metadata": {},
     "output_type": "execute_result"
    }
   ],
   "source": [
    "# according to the transactionDateTime and accountNumber make\n",
    "# comparonsion of each customer's availableMoney and creditLimit\n",
    "availableMoney = pd.DataFrame(data_v0.groupby(['accountNumber','transactionDateTime'])['availableMoney','creditLimit'].max())\n",
    "availableMoney = availableMoney.sort_index(ascending=False)\n",
    "availableMoney"
   ]
  },
  {
   "cell_type": "code",
   "execution_count": 30,
   "id": "144c2fb2",
   "metadata": {},
   "outputs": [
    {
     "data": {
      "text/html": [
       "<div>\n",
       "<style scoped>\n",
       "    .dataframe tbody tr th:only-of-type {\n",
       "        vertical-align: middle;\n",
       "    }\n",
       "\n",
       "    .dataframe tbody tr th {\n",
       "        vertical-align: top;\n",
       "    }\n",
       "\n",
       "    .dataframe thead th {\n",
       "        text-align: right;\n",
       "    }\n",
       "</style>\n",
       "<table border=\"1\" class=\"dataframe\">\n",
       "  <thead>\n",
       "    <tr style=\"text-align: right;\">\n",
       "      <th></th>\n",
       "      <th>availableMoney</th>\n",
       "      <th>creditLimit</th>\n",
       "    </tr>\n",
       "    <tr>\n",
       "      <th>accountNumber</th>\n",
       "      <th></th>\n",
       "      <th></th>\n",
       "    </tr>\n",
       "  </thead>\n",
       "  <tbody>\n",
       "    <tr>\n",
       "      <th>100088067</th>\n",
       "      <td>49424.61</td>\n",
       "      <td>50000</td>\n",
       "    </tr>\n",
       "    <tr>\n",
       "      <th>100108752</th>\n",
       "      <td>4230.85</td>\n",
       "      <td>5000</td>\n",
       "    </tr>\n",
       "    <tr>\n",
       "      <th>100328049</th>\n",
       "      <td>4059.77</td>\n",
       "      <td>5000</td>\n",
       "    </tr>\n",
       "    <tr>\n",
       "      <th>100663626</th>\n",
       "      <td>14127.15</td>\n",
       "      <td>20000</td>\n",
       "    </tr>\n",
       "    <tr>\n",
       "      <th>100737756</th>\n",
       "      <td>119.23</td>\n",
       "      <td>250</td>\n",
       "    </tr>\n",
       "    <tr>\n",
       "      <th>...</th>\n",
       "      <td>...</td>\n",
       "      <td>...</td>\n",
       "    </tr>\n",
       "    <tr>\n",
       "      <th>999086814</th>\n",
       "      <td>3987.23</td>\n",
       "      <td>10000</td>\n",
       "    </tr>\n",
       "    <tr>\n",
       "      <th>999257059</th>\n",
       "      <td>12151.49</td>\n",
       "      <td>15000</td>\n",
       "    </tr>\n",
       "    <tr>\n",
       "      <th>999258704</th>\n",
       "      <td>4233.76</td>\n",
       "      <td>5000</td>\n",
       "    </tr>\n",
       "    <tr>\n",
       "      <th>999283629</th>\n",
       "      <td>1360.38</td>\n",
       "      <td>2500</td>\n",
       "    </tr>\n",
       "    <tr>\n",
       "      <th>999389635</th>\n",
       "      <td>4714.84</td>\n",
       "      <td>5000</td>\n",
       "    </tr>\n",
       "  </tbody>\n",
       "</table>\n",
       "<p>5000 rows × 2 columns</p>\n",
       "</div>"
      ],
      "text/plain": [
       "               availableMoney  creditLimit\n",
       "accountNumber                             \n",
       "100088067            49424.61        50000\n",
       "100108752             4230.85         5000\n",
       "100328049             4059.77         5000\n",
       "100663626            14127.15        20000\n",
       "100737756              119.23          250\n",
       "...                       ...          ...\n",
       "999086814             3987.23        10000\n",
       "999257059            12151.49        15000\n",
       "999258704             4233.76         5000\n",
       "999283629             1360.38         2500\n",
       "999389635             4714.84         5000\n",
       "\n",
       "[5000 rows x 2 columns]"
      ]
     },
     "execution_count": 30,
     "metadata": {},
     "output_type": "execute_result"
    }
   ],
   "source": [
    "# selects the first row of each group to get the most recent availableMoney\n",
    "# for each account number, compared to the creditLimit\n",
    "most_recent_availableMoney = availableMoney.groupby('accountNumber').first()\n",
    "most_recent_availableMoney"
   ]
  },
  {
   "cell_type": "code",
   "execution_count": 31,
   "id": "81ccd9c7",
   "metadata": {},
   "outputs": [
    {
     "data": {
      "text/plain": [
       "399"
      ]
     },
     "execution_count": 31,
     "metadata": {},
     "output_type": "execute_result"
    }
   ],
   "source": [
    "# Get the number of customers who don't have \n",
    "# credit card overlimit or debt in the last record\n",
    "most_recent_availableMoney[most_recent_availableMoney['availableMoney']==most_recent_availableMoney['creditLimit']].shape[0]"
   ]
  },
  {
   "cell_type": "markdown",
   "id": "bbed55e4",
   "metadata": {},
   "source": [
    "#### Finding:\n",
    "\n",
    "399 customers don't have credit card overlimit or debt in the last reccent record"
   ]
  },
  {
   "cell_type": "markdown",
   "id": "37afd0dd",
   "metadata": {},
   "source": [
    "### 7. currentBalance Analysis"
   ]
  },
  {
   "cell_type": "code",
   "execution_count": 32,
   "id": "199df251",
   "metadata": {},
   "outputs": [
    {
     "name": "stderr",
     "output_type": "stream",
     "text": [
      "/Users/qiaozihui/opt/anaconda3/lib/python3.9/site-packages/seaborn/distributions.py:2619: FutureWarning: `distplot` is a deprecated function and will be removed in a future version. Please adapt your code to use either `displot` (a figure-level function with similar flexibility) or `histplot` (an axes-level function for histograms).\n",
      "  warnings.warn(msg, FutureWarning)\n"
     ]
    },
    {
     "data": {
      "image/png": "[encoded data removed]",
      "text/plain": [
       "<Figure size 432x288 with 1 Axes>"
      ]
     },
     "metadata": {
      "needs_background": "light"
     },
     "output_type": "display_data"
    }
   ],
   "source": [
    "sns.distplot(data_v0['currentBalance']);"
   ]
  },
  {
   "cell_type": "code",
   "execution_count": 33,
   "id": "58ccbd80",
   "metadata": {},
   "outputs": [
    {
     "data": {
      "text/plain": [
       "count    786363.000000\n",
       "mean       4508.739089\n",
       "std        6457.442068\n",
       "min           0.000000\n",
       "25%         689.910000\n",
       "50%        2451.760000\n",
       "75%        5291.095000\n",
       "max       47498.810000\n",
       "Name: currentBalance, dtype: float64"
      ]
     },
     "execution_count": 33,
     "metadata": {},
     "output_type": "execute_result"
    }
   ],
   "source": [
    "data_v0['currentBalance'].describe()"
   ]
  },
  {
   "cell_type": "markdown",
   "id": "34c93625",
   "metadata": {},
   "source": [
    "#### Finding:\n",
    "\n",
    "(1) currentBalance is right skewed, show that a relatively small number of cardholders with very high balances, while most cardholders have lower balances.\n",
    "\n",
    "(2) currentBalance shows Balance mean is 4508.739089, median is 2451.76, \n",
    "\n",
    "(3) There will be people who max out their credit limit, and no one has never used a credit card."
   ]
  },
  {
   "cell_type": "markdown",
   "id": "fbc342a1",
   "metadata": {},
   "source": [
    "### 8. transactionDateTime"
   ]
  },
  {
   "cell_type": "code",
   "execution_count": 34,
   "id": "03535d70",
   "metadata": {},
   "outputs": [
    {
     "data": {
      "text/plain": [
       "count                  786363\n",
       "unique                 776637\n",
       "top       2016-12-25T14:04:15\n",
       "freq                        4\n",
       "Name: transactionDateTime, dtype: object"
      ]
     },
     "execution_count": 34,
     "metadata": {},
     "output_type": "execute_result"
    }
   ],
   "source": [
    "data_v0['transactionDateTime'].describe()"
   ]
  },
  {
   "cell_type": "code",
   "execution_count": 35,
   "id": "a7162d81",
   "metadata": {},
   "outputs": [
    {
     "data": {
      "text/plain": [
       "'2016-01-01T00:01:02'"
      ]
     },
     "execution_count": 35,
     "metadata": {},
     "output_type": "execute_result"
    }
   ],
   "source": [
    "# The first transaction in 2016\n",
    "data_v0['transactionDateTime'].min()"
   ]
  },
  {
   "cell_type": "code",
   "execution_count": 36,
   "id": "81b42038",
   "metadata": {},
   "outputs": [
    {
     "data": {
      "text/plain": [
       "'2016-12-30T23:59:45'"
      ]
     },
     "execution_count": 36,
     "metadata": {},
     "output_type": "execute_result"
    }
   ],
   "source": [
    "# The last transaction in 2016\n",
    "data_v0['transactionDateTime'].max()"
   ]
  },
  {
   "cell_type": "markdown",
   "id": "1acf097f",
   "metadata": {},
   "source": [
    "#### Finding:\n",
    "\n",
    "(1) The first transaction in 2016 was on 2016-01-01 00:01:02\n",
    "\n",
    "(2) The last transaction in 2016 was on 2016-12-30 23:59:45\n",
    "\n",
    "(3) There were 4 transactions that happened at the same time on 2016-12-25 14:04:15 (the maximum number of orders placed within the same second)"
   ]
  },
  {
   "cell_type": "markdown",
   "id": "adc4d15a",
   "metadata": {},
   "source": [
    "### 9. accountOpenDate and currentExpDate"
   ]
  },
  {
   "cell_type": "markdown",
   "id": "630f04f2",
   "metadata": {},
   "source": [
    "#### accountOpenDate"
   ]
  },
  {
   "cell_type": "code",
   "execution_count": 37,
   "id": "997a125c",
   "metadata": {},
   "outputs": [
    {
     "data": {
      "text/plain": [
       "count         786363\n",
       "unique          1820\n",
       "top       2014-06-21\n",
       "freq           33623\n",
       "Name: accountOpenDate, dtype: object"
      ]
     },
     "execution_count": 37,
     "metadata": {},
     "output_type": "execute_result"
    }
   ],
   "source": [
    "data_v0['accountOpenDate'].describe()"
   ]
  },
  {
   "cell_type": "code",
   "execution_count": 38,
   "id": "2f42f5ff",
   "metadata": {},
   "outputs": [
    {
     "data": {
      "text/plain": [
       "'1989-08-22'"
      ]
     },
     "execution_count": 38,
     "metadata": {},
     "output_type": "execute_result"
    }
   ],
   "source": [
    "# The earliest accountOpenDate\n",
    "data_v0['accountOpenDate'].min()"
   ]
  },
  {
   "cell_type": "code",
   "execution_count": 39,
   "id": "627395ac",
   "metadata": {},
   "outputs": [
    {
     "data": {
      "text/plain": [
       "'2015-12-31'"
      ]
     },
     "execution_count": 39,
     "metadata": {},
     "output_type": "execute_result"
    }
   ],
   "source": [
    "# The latest accountOpenDate\n",
    "data_v0['accountOpenDate'].max()"
   ]
  },
  {
   "cell_type": "markdown",
   "id": "5bdb99db",
   "metadata": {},
   "source": [
    "#### Finding:\n",
    "\n",
    "The majority of credit cards open date in 2014-06-21, with the earliest open date being 1989-08-22, and the latest open date being 2015-12-31."
   ]
  },
  {
   "cell_type": "markdown",
   "id": "0b02f9a5",
   "metadata": {},
   "source": [
    "#### currentExpDate"
   ]
  },
  {
   "cell_type": "code",
   "execution_count": 40,
   "id": "cb9c7bc0",
   "metadata": {},
   "outputs": [
    {
     "data": {
      "text/plain": [
       "count      786363\n",
       "unique        165\n",
       "top       03/2029\n",
       "freq         5103\n",
       "Name: currentExpDate, dtype: object"
      ]
     },
     "execution_count": 40,
     "metadata": {},
     "output_type": "execute_result"
    }
   ],
   "source": [
    "data_v0['currentExpDate'].describe()"
   ]
  },
  {
   "cell_type": "code",
   "execution_count": 41,
   "id": "37367910",
   "metadata": {},
   "outputs": [
    {
     "data": {
      "text/plain": [
       "'01/2020'"
      ]
     },
     "execution_count": 41,
     "metadata": {},
     "output_type": "execute_result"
    }
   ],
   "source": [
    "# The earliest ExpDate\n",
    "data_v0['currentExpDate'].min()"
   ]
  },
  {
   "cell_type": "code",
   "execution_count": 42,
   "id": "04bfc64d",
   "metadata": {},
   "outputs": [
    {
     "data": {
      "text/plain": [
       "'12/2032'"
      ]
     },
     "execution_count": 42,
     "metadata": {},
     "output_type": "execute_result"
    }
   ],
   "source": [
    "# The latest ExpDate\n",
    "data_v0['currentExpDate'].max()"
   ]
  },
  {
   "cell_type": "markdown",
   "id": "7338bbe3",
   "metadata": {},
   "source": [
    "#### Finding:\n",
    "\n",
    "The majority of credit cards expire in 03/2029, with the earliest expiration date being 01/2020, and the latest expiration date being 12/2032."
   ]
  },
  {
   "cell_type": "markdown",
   "id": "2abc88b5",
   "metadata": {},
   "source": [
    "### 10. dateOfLastAddressChange"
   ]
  },
  {
   "cell_type": "code",
   "execution_count": 43,
   "id": "f16dfa69",
   "metadata": {},
   "outputs": [
    {
     "data": {
      "text/plain": [
       "count         786363\n",
       "unique          2184\n",
       "top       2016-03-15\n",
       "freq            3819\n",
       "Name: dateOfLastAddressChange, dtype: object"
      ]
     },
     "execution_count": 43,
     "metadata": {},
     "output_type": "execute_result"
    }
   ],
   "source": [
    "# Top customer's last address change date\n",
    "data_v0['dateOfLastAddressChange'].describe()"
   ]
  },
  {
   "cell_type": "code",
   "execution_count": 44,
   "id": "ce6fddd8",
   "metadata": {},
   "outputs": [
    {
     "data": {
      "text/plain": [
       "'2016-12-30'"
      ]
     },
     "execution_count": 44,
     "metadata": {},
     "output_type": "execute_result"
    }
   ],
   "source": [
    "# Customer's last address change date (Most recent)\n",
    "data_v0['dateOfLastAddressChange'].max()"
   ]
  },
  {
   "cell_type": "code",
   "execution_count": 45,
   "id": "57e5fac0",
   "metadata": {},
   "outputs": [
    {
     "data": {
      "text/plain": [
       "'1989-08-22'"
      ]
     },
     "execution_count": 45,
     "metadata": {},
     "output_type": "execute_result"
    }
   ],
   "source": [
    "# Customer's last address change date (Earliest)\n",
    "data_v0['dateOfLastAddressChange'].min()"
   ]
  },
  {
   "cell_type": "code",
   "execution_count": 46,
   "id": "72fd1a78",
   "metadata": {},
   "outputs": [
    {
     "data": {
      "text/plain": [
       "4986"
      ]
     },
     "execution_count": 46,
     "metadata": {},
     "output_type": "execute_result"
    }
   ],
   "source": [
    "# The number of customer never changed their Address\n",
    "data_v0[data_v0['dateOfLastAddressChange']==data_v0['accountOpenDate']]['accountNumber'].nunique()"
   ]
  },
  {
   "cell_type": "code",
   "execution_count": 47,
   "id": "cfddbec1",
   "metadata": {},
   "outputs": [
    {
     "data": {
      "text/plain": [
       "accountNumber\n",
       "380680241    32850\n",
       "882815134    13189\n",
       "570884863    10867\n",
       "246251253    10172\n",
       "369308035     7229\n",
       "             ...  \n",
       "787335399        1\n",
       "220057198        1\n",
       "897071504        1\n",
       "622138951        1\n",
       "238928524        1\n",
       "Name: dateOfLastAddressChange, Length: 5000, dtype: int64"
      ]
     },
     "execution_count": 47,
     "metadata": {},
     "output_type": "execute_result"
    }
   ],
   "source": [
    "data_v0.groupby('accountNumber')['dateOfLastAddressChange'].count().sort_values(ascending=False)"
   ]
  },
  {
   "cell_type": "markdown",
   "id": "46c2edf9",
   "metadata": {},
   "source": [
    "#### Finding\n",
    "\n",
    "(1) Interesting! Customer with accountNumber380680241 change address for 32850 times!\n",
    "\n",
    "(2) 4986 customers never changed their address."
   ]
  },
  {
   "cell_type": "markdown",
   "id": "da5e496b",
   "metadata": {},
   "source": [
    "### 11. cardCVV and enteredCVV Analysis"
   ]
  },
  {
   "cell_type": "markdown",
   "id": "703796f9",
   "metadata": {},
   "source": [
    "#### cardCVV "
   ]
  },
  {
   "cell_type": "code",
   "execution_count": 48,
   "id": "ab95acb5",
   "metadata": {},
   "outputs": [
    {
     "data": {
      "text/plain": [
       "899"
      ]
     },
     "execution_count": 48,
     "metadata": {},
     "output_type": "execute_result"
    }
   ],
   "source": [
    "# The number of unique CVV number\n",
    "data_v0['cardCVV'].nunique()"
   ]
  },
  {
   "cell_type": "code",
   "execution_count": 49,
   "id": "da8271d7",
   "metadata": {},
   "outputs": [
    {
     "data": {
      "text/plain": [
       "869    33749\n",
       "289    15509\n",
       "640    10804\n",
       "455    10279\n",
       "959     7024\n",
       "       ...  \n",
       "653       33\n",
       "825       29\n",
       "183       28\n",
       "125       23\n",
       "566       19\n",
       "Name: cardCVV, Length: 899, dtype: int64"
      ]
     },
     "execution_count": 49,
     "metadata": {},
     "output_type": "execute_result"
    }
   ],
   "source": [
    "# cardCVV repeat information\n",
    "data_v0['cardCVV'].value_counts()"
   ]
  },
  {
   "cell_type": "markdown",
   "id": "c341b036",
   "metadata": {},
   "source": [
    "#### Finding:\n",
    "\n",
    "(1) We have 5,000 customers, but only 899 unique card CVV numbers, which means that there are different customers who use identical card CVV numbers. The most frequently used card CVV number is 869. \n",
    "\n",
    "(2) No one has their own unique CardCVV."
   ]
  },
  {
   "cell_type": "markdown",
   "id": "a4b31a29",
   "metadata": {},
   "source": [
    "#### cardCVV and enteredCVV check"
   ]
  },
  {
   "cell_type": "code",
   "execution_count": 50,
   "id": "51a778b5",
   "metadata": {},
   "outputs": [
    {
     "data": {
      "text/plain": [
       "976"
      ]
     },
     "execution_count": 50,
     "metadata": {},
     "output_type": "execute_result"
    }
   ],
   "source": [
    "# The number of unique enteredCVV\n",
    "data_v0['enteredCVV'].nunique()"
   ]
  },
  {
   "cell_type": "markdown",
   "id": "f8454ae8",
   "metadata": {},
   "source": [
    "#### Finding:\n",
    "\n",
    "The number of unique EnteredCVV values is not equal to the number of unique CardCVV values, which means that some customers may have mistakenly input the wrong CVV number during transactions."
   ]
  },
  {
   "cell_type": "code",
   "execution_count": 51,
   "id": "4fcd1fd6",
   "metadata": {},
   "outputs": [
    {
     "name": "stdout",
     "output_type": "stream",
     "text": [
      "7015\n"
     ]
    }
   ],
   "source": [
    "# The number of transactions which EnteredCVV is not equal to the real CardCVV\n",
    "enteredCVV_cardCVV = (data_v0['enteredCVV'] == data_v0['cardCVV']).to_list()\n",
    "dif_num = 0\n",
    "enteredCVV_cardCVV\n",
    "for i in enteredCVV_cardCVV:\n",
    "    if i == False:\n",
    "        dif_num += 1\n",
    "print(dif_num)"
   ]
  },
  {
   "cell_type": "markdown",
   "id": "e02d349c",
   "metadata": {},
   "source": [
    "#### Finding:\n",
    "\n",
    "7,015 transactions may mistakenly input the wrong CVV number."
   ]
  },
  {
   "cell_type": "code",
   "execution_count": 52,
   "id": "b0588456",
   "metadata": {},
   "outputs": [
    {
     "data": {
      "text/html": [
       "<div>\n",
       "<style scoped>\n",
       "    .dataframe tbody tr th:only-of-type {\n",
       "        vertical-align: middle;\n",
       "    }\n",
       "\n",
       "    .dataframe tbody tr th {\n",
       "        vertical-align: top;\n",
       "    }\n",
       "\n",
       "    .dataframe thead th {\n",
       "        text-align: right;\n",
       "    }\n",
       "</style>\n",
       "<table border=\"1\" class=\"dataframe\">\n",
       "  <thead>\n",
       "    <tr style=\"text-align: right;\">\n",
       "      <th></th>\n",
       "      <th>accountNumber</th>\n",
       "      <th>customerId</th>\n",
       "      <th>creditLimit</th>\n",
       "      <th>availableMoney</th>\n",
       "      <th>transactionDateTime</th>\n",
       "      <th>transactionAmount</th>\n",
       "      <th>merchantName</th>\n",
       "      <th>acqCountry</th>\n",
       "      <th>merchantCountryCode</th>\n",
       "      <th>posEntryMode</th>\n",
       "      <th>...</th>\n",
       "      <th>accountOpenDate</th>\n",
       "      <th>dateOfLastAddressChange</th>\n",
       "      <th>cardCVV</th>\n",
       "      <th>enteredCVV</th>\n",
       "      <th>cardLast4Digits</th>\n",
       "      <th>transactionType</th>\n",
       "      <th>currentBalance</th>\n",
       "      <th>cardPresent</th>\n",
       "      <th>expirationDateKeyInMatch</th>\n",
       "      <th>isFraud</th>\n",
       "    </tr>\n",
       "  </thead>\n",
       "  <tbody>\n",
       "    <tr>\n",
       "      <th>19</th>\n",
       "      <td>574788567</td>\n",
       "      <td>574788567</td>\n",
       "      <td>2500</td>\n",
       "      <td>2304.46</td>\n",
       "      <td>2016-01-29T07:33:15</td>\n",
       "      <td>196.07</td>\n",
       "      <td>Shell Auto Body</td>\n",
       "      <td>US</td>\n",
       "      <td>US</td>\n",
       "      <td>09</td>\n",
       "      <td>...</td>\n",
       "      <td>2015-10-13</td>\n",
       "      <td>2015-10-13</td>\n",
       "      <td>579</td>\n",
       "      <td>539</td>\n",
       "      <td>4219</td>\n",
       "      <td>PURCHASE</td>\n",
       "      <td>195.54</td>\n",
       "      <td>True</td>\n",
       "      <td>False</td>\n",
       "      <td>False</td>\n",
       "    </tr>\n",
       "    <tr>\n",
       "      <th>100</th>\n",
       "      <td>924729945</td>\n",
       "      <td>924729945</td>\n",
       "      <td>50000</td>\n",
       "      <td>50000.00</td>\n",
       "      <td>2016-10-04T04:20:04</td>\n",
       "      <td>168.57</td>\n",
       "      <td>discount.com</td>\n",
       "      <td>US</td>\n",
       "      <td>US</td>\n",
       "      <td>05</td>\n",
       "      <td>...</td>\n",
       "      <td>2014-07-25</td>\n",
       "      <td>2014-07-25</td>\n",
       "      <td>205</td>\n",
       "      <td>265</td>\n",
       "      <td>9459</td>\n",
       "      <td>PURCHASE</td>\n",
       "      <td>0.00</td>\n",
       "      <td>False</td>\n",
       "      <td>False</td>\n",
       "      <td>False</td>\n",
       "    </tr>\n",
       "    <tr>\n",
       "      <th>101</th>\n",
       "      <td>924729945</td>\n",
       "      <td>924729945</td>\n",
       "      <td>50000</td>\n",
       "      <td>49831.43</td>\n",
       "      <td>2016-10-19T14:01:45</td>\n",
       "      <td>168.57</td>\n",
       "      <td>discount.com</td>\n",
       "      <td>US</td>\n",
       "      <td>US</td>\n",
       "      <td>05</td>\n",
       "      <td>...</td>\n",
       "      <td>2014-07-25</td>\n",
       "      <td>2014-07-25</td>\n",
       "      <td>205</td>\n",
       "      <td>265</td>\n",
       "      <td>9459</td>\n",
       "      <td>REVERSAL</td>\n",
       "      <td>168.57</td>\n",
       "      <td>False</td>\n",
       "      <td>False</td>\n",
       "      <td>False</td>\n",
       "    </tr>\n",
       "    <tr>\n",
       "      <th>211</th>\n",
       "      <td>984504651</td>\n",
       "      <td>984504651</td>\n",
       "      <td>50000</td>\n",
       "      <td>35211.58</td>\n",
       "      <td>2016-02-16T18:41:33</td>\n",
       "      <td>296.68</td>\n",
       "      <td>WSC #467811</td>\n",
       "      <td>US</td>\n",
       "      <td>US</td>\n",
       "      <td>05</td>\n",
       "      <td>...</td>\n",
       "      <td>2015-07-27</td>\n",
       "      <td>2015-07-27</td>\n",
       "      <td>640</td>\n",
       "      <td>670</td>\n",
       "      <td>8332</td>\n",
       "      <td>PURCHASE</td>\n",
       "      <td>14788.42</td>\n",
       "      <td>False</td>\n",
       "      <td>False</td>\n",
       "      <td>False</td>\n",
       "    </tr>\n",
       "    <tr>\n",
       "      <th>261</th>\n",
       "      <td>984504651</td>\n",
       "      <td>984504651</td>\n",
       "      <td>50000</td>\n",
       "      <td>27469.74</td>\n",
       "      <td>2016-03-12T00:26:54</td>\n",
       "      <td>670.23</td>\n",
       "      <td>Walgreens #853025</td>\n",
       "      <td>US</td>\n",
       "      <td>US</td>\n",
       "      <td>09</td>\n",
       "      <td>...</td>\n",
       "      <td>2015-07-27</td>\n",
       "      <td>2015-07-27</td>\n",
       "      <td>640</td>\n",
       "      <td>240</td>\n",
       "      <td>8332</td>\n",
       "      <td>PURCHASE</td>\n",
       "      <td>22530.26</td>\n",
       "      <td>False</td>\n",
       "      <td>False</td>\n",
       "      <td>False</td>\n",
       "    </tr>\n",
       "  </tbody>\n",
       "</table>\n",
       "<p>5 rows × 23 columns</p>\n",
       "</div>"
      ],
      "text/plain": [
       "     accountNumber  customerId  creditLimit  availableMoney  \\\n",
       "19       574788567   574788567         2500         2304.46   \n",
       "100      924729945   924729945        50000        50000.00   \n",
       "101      924729945   924729945        50000        49831.43   \n",
       "211      984504651   984504651        50000        35211.58   \n",
       "261      984504651   984504651        50000        27469.74   \n",
       "\n",
       "     transactionDateTime  transactionAmount       merchantName acqCountry  \\\n",
       "19   2016-01-29T07:33:15             196.07    Shell Auto Body         US   \n",
       "100  2016-10-04T04:20:04             168.57       discount.com         US   \n",
       "101  2016-10-19T14:01:45             168.57       discount.com         US   \n",
       "211  2016-02-16T18:41:33             296.68        WSC #467811         US   \n",
       "261  2016-03-12T00:26:54             670.23  Walgreens #853025         US   \n",
       "\n",
       "    merchantCountryCode posEntryMode  ... accountOpenDate  \\\n",
       "19                   US           09  ...      2015-10-13   \n",
       "100                  US           05  ...      2014-07-25   \n",
       "101                  US           05  ...      2014-07-25   \n",
       "211                  US           05  ...      2015-07-27   \n",
       "261                  US           09  ...      2015-07-27   \n",
       "\n",
       "    dateOfLastAddressChange cardCVV enteredCVV cardLast4Digits  \\\n",
       "19               2015-10-13     579        539            4219   \n",
       "100              2014-07-25     205        265            9459   \n",
       "101              2014-07-25     205        265            9459   \n",
       "211              2015-07-27     640        670            8332   \n",
       "261              2015-07-27     640        240            8332   \n",
       "\n",
       "     transactionType  currentBalance  cardPresent expirationDateKeyInMatch  \\\n",
       "19          PURCHASE          195.54         True                    False   \n",
       "100         PURCHASE            0.00        False                    False   \n",
       "101         REVERSAL          168.57        False                    False   \n",
       "211         PURCHASE        14788.42        False                    False   \n",
       "261         PURCHASE        22530.26        False                    False   \n",
       "\n",
       "     isFraud  \n",
       "19     False  \n",
       "100    False  \n",
       "101    False  \n",
       "211    False  \n",
       "261    False  \n",
       "\n",
       "[5 rows x 23 columns]"
      ]
     },
     "execution_count": 52,
     "metadata": {},
     "output_type": "execute_result"
    }
   ],
   "source": [
    "# Checking transactions in which EnteredCVV is not equal to the real CardCVV may cause transaction failure\n",
    "data_v0[data_v0['enteredCVV'] != data_v0['cardCVV']].head()"
   ]
  },
  {
   "cell_type": "markdown",
   "id": "c0532aba",
   "metadata": {},
   "source": [
    "### 12. cardLast4Digits Analysis"
   ]
  },
  {
   "cell_type": "code",
   "execution_count": 53,
   "id": "ffdc843d",
   "metadata": {},
   "outputs": [
    {
     "data": {
      "text/plain": [
       "593     32946\n",
       "2194    10867\n",
       "6002    10172\n",
       "6580     6747\n",
       "8502     6553\n",
       "        ...  \n",
       "3462        1\n",
       "7127        1\n",
       "501         1\n",
       "9907        1\n",
       "1803        1\n",
       "Name: cardLast4Digits, Length: 5245, dtype: int64"
      ]
     },
     "execution_count": 53,
     "metadata": {},
     "output_type": "execute_result"
    }
   ],
   "source": [
    "data_v0['cardLast4Digits'].value_counts()"
   ]
  },
  {
   "cell_type": "code",
   "execution_count": 54,
   "id": "c5fe08d6",
   "metadata": {},
   "outputs": [
    {
     "data": {
      "text/plain": [
       "5245"
      ]
     },
     "execution_count": 54,
     "metadata": {},
     "output_type": "execute_result"
    }
   ],
   "source": [
    "# The number of unique cardLast4Digits\n",
    "data_v0['cardLast4Digits'].value_counts().shape[0]"
   ]
  },
  {
   "cell_type": "code",
   "execution_count": 55,
   "id": "fb774fc9",
   "metadata": {},
   "outputs": [
    {
     "data": {
      "text/plain": [
       "0    593\n",
       "Name: cardLast4Digits, dtype: int64"
      ]
     },
     "execution_count": 55,
     "metadata": {},
     "output_type": "execute_result"
    }
   ],
   "source": [
    "# Find the cardLast4Digits with the highest frequency\n",
    "data_v0['cardLast4Digits'].mode()"
   ]
  },
  {
   "cell_type": "code",
   "execution_count": 56,
   "id": "55059fb2",
   "metadata": {},
   "outputs": [
    {
     "name": "stdout",
     "output_type": "stream",
     "text": [
      "77 customers have their own unique cardLast4Digits\n"
     ]
    }
   ],
   "source": [
    "# The number of customer who has their own unique cardLast4Digits\n",
    "c_i = (data_v0['cardLast4Digits'].value_counts() == 1).to_list()\n",
    "c_i_num = 0\n",
    "for i in c_i:\n",
    "    if i == True:\n",
    "        c_i_num += 1\n",
    "print(c_i_num, \"customers have their own unique cardLast4Digits\")"
   ]
  },
  {
   "cell_type": "markdown",
   "id": "ee34900e",
   "metadata": {},
   "source": [
    "#### Finding:\n",
    "\n",
    "(1) 593 is the cardLast4Digits with the highest frequency.\n",
    "\n",
    "(2) 77 customers have their own unique cardLast4Digits."
   ]
  },
  {
   "cell_type": "markdown",
   "id": "0c5f2678",
   "metadata": {},
   "source": [
    "### 13. merchantName merchantCategoryCode merchantCountryCode Analysis\n",
    "##### Attention: merchantCountryCode has null value"
   ]
  },
  {
   "cell_type": "code",
   "execution_count": 57,
   "id": "bc8c2042",
   "metadata": {},
   "outputs": [
    {
     "data": {
      "text/html": [
       "<div>\n",
       "<style scoped>\n",
       "    .dataframe tbody tr th:only-of-type {\n",
       "        vertical-align: middle;\n",
       "    }\n",
       "\n",
       "    .dataframe tbody tr th {\n",
       "        vertical-align: top;\n",
       "    }\n",
       "\n",
       "    .dataframe thead th {\n",
       "        text-align: right;\n",
       "    }\n",
       "</style>\n",
       "<table border=\"1\" class=\"dataframe\">\n",
       "  <thead>\n",
       "    <tr style=\"text-align: right;\">\n",
       "      <th></th>\n",
       "      <th>merchantName</th>\n",
       "      <th>merchantCategoryCode</th>\n",
       "      <th>merchantCountryCode</th>\n",
       "    </tr>\n",
       "  </thead>\n",
       "  <tbody>\n",
       "    <tr>\n",
       "      <th>0</th>\n",
       "      <td>Uber</td>\n",
       "      <td>rideshare</td>\n",
       "      <td>US</td>\n",
       "    </tr>\n",
       "    <tr>\n",
       "      <th>1</th>\n",
       "      <td>AMC #191138</td>\n",
       "      <td>entertainment</td>\n",
       "      <td>US</td>\n",
       "    </tr>\n",
       "    <tr>\n",
       "      <th>2</th>\n",
       "      <td>Play Store</td>\n",
       "      <td>mobileapps</td>\n",
       "      <td>US</td>\n",
       "    </tr>\n",
       "    <tr>\n",
       "      <th>3</th>\n",
       "      <td>Play Store</td>\n",
       "      <td>mobileapps</td>\n",
       "      <td>US</td>\n",
       "    </tr>\n",
       "    <tr>\n",
       "      <th>4</th>\n",
       "      <td>Tim Hortons #947751</td>\n",
       "      <td>fastfood</td>\n",
       "      <td>US</td>\n",
       "    </tr>\n",
       "    <tr>\n",
       "      <th>...</th>\n",
       "      <td>...</td>\n",
       "      <td>...</td>\n",
       "      <td>...</td>\n",
       "    </tr>\n",
       "    <tr>\n",
       "      <th>786358</th>\n",
       "      <td>Lyft</td>\n",
       "      <td>rideshare</td>\n",
       "      <td>US</td>\n",
       "    </tr>\n",
       "    <tr>\n",
       "      <th>786359</th>\n",
       "      <td>hulu.com</td>\n",
       "      <td>online_subscriptions</td>\n",
       "      <td>US</td>\n",
       "    </tr>\n",
       "    <tr>\n",
       "      <th>786360</th>\n",
       "      <td>Lyft</td>\n",
       "      <td>rideshare</td>\n",
       "      <td>US</td>\n",
       "    </tr>\n",
       "    <tr>\n",
       "      <th>786361</th>\n",
       "      <td>walmart.com</td>\n",
       "      <td>online_retail</td>\n",
       "      <td>US</td>\n",
       "    </tr>\n",
       "    <tr>\n",
       "      <th>786362</th>\n",
       "      <td>Uber</td>\n",
       "      <td>rideshare</td>\n",
       "      <td>US</td>\n",
       "    </tr>\n",
       "  </tbody>\n",
       "</table>\n",
       "<p>786363 rows × 3 columns</p>\n",
       "</div>"
      ],
      "text/plain": [
       "               merchantName  merchantCategoryCode merchantCountryCode\n",
       "0                      Uber             rideshare                  US\n",
       "1               AMC #191138         entertainment                  US\n",
       "2                Play Store            mobileapps                  US\n",
       "3                Play Store            mobileapps                  US\n",
       "4       Tim Hortons #947751              fastfood                  US\n",
       "...                     ...                   ...                 ...\n",
       "786358                 Lyft             rideshare                  US\n",
       "786359             hulu.com  online_subscriptions                  US\n",
       "786360                 Lyft             rideshare                  US\n",
       "786361          walmart.com         online_retail                  US\n",
       "786362                 Uber             rideshare                  US\n",
       "\n",
       "[786363 rows x 3 columns]"
      ]
     },
     "execution_count": 57,
     "metadata": {},
     "output_type": "execute_result"
    }
   ],
   "source": [
    "data_v0[['merchantName','merchantCategoryCode','merchantCountryCode']]"
   ]
  },
  {
   "cell_type": "code",
   "execution_count": 58,
   "id": "5c06e154",
   "metadata": {},
   "outputs": [
    {
     "data": {
      "text/plain": [
       "2490"
      ]
     },
     "execution_count": 58,
     "metadata": {},
     "output_type": "execute_result"
    }
   ],
   "source": [
    "# The number of merchants involved in the transactions\n",
    "data_v0['merchantName'].nunique()"
   ]
  },
  {
   "cell_type": "code",
   "execution_count": 59,
   "id": "99053777",
   "metadata": {},
   "outputs": [
    {
     "data": {
      "text/plain": [
       "Uber             25613\n",
       "Lyft             25523\n",
       "oldnavy.com      16992\n",
       "staples.com      16980\n",
       "alibaba.com      16959\n",
       "apple.com        16898\n",
       "walmart.com      16873\n",
       "cheapfast.com    16858\n",
       "ebay.com         16842\n",
       "target.com       16813\n",
       "amazon.com       16780\n",
       "Name: merchantName, dtype: int64"
      ]
     },
     "execution_count": 59,
     "metadata": {},
     "output_type": "execute_result"
    }
   ],
   "source": [
    "# Top10 merchants based on transaction volume \n",
    "data_v0['merchantName'].value_counts()[:11]"
   ]
  },
  {
   "cell_type": "code",
   "execution_count": 60,
   "id": "19cdad38",
   "metadata": {},
   "outputs": [
    {
     "data": {
      "text/plain": [
       "US     778511\n",
       "MEX      3143\n",
       "CAN      2426\n",
       "PR       1559\n",
       "Name: merchantCountryCode, dtype: int64"
      ]
     },
     "execution_count": 60,
     "metadata": {},
     "output_type": "execute_result"
    }
   ],
   "source": [
    "# Country Information for Transactions\n",
    "data_v0['merchantCountryCode'].value_counts()"
   ]
  },
  {
   "cell_type": "markdown",
   "id": "6dca468c",
   "metadata": {},
   "source": [
    "#### merchantCountryCode null value fill in\n",
    "##### I will check the merchantName of transactions with null values for merchantCountryCode, and use the merchantName with the most frequently occurring merchantCountryCode as the value to fill in, if not, using mode 'US' to fill in."
   ]
  },
  {
   "cell_type": "code",
   "execution_count": 61,
   "id": "c31fece1",
   "metadata": {},
   "outputs": [],
   "source": [
    "#for index,c in data_v0[data_v0['merchantCountryCode'].isnull()]['merchantName'].iteritems():\n",
    "#    if c in data_v0['merchantName'].value_counts().index:\n",
    "#        data_v0.loc[index,c] = data_v0[data_v0['merchantName']==c]['merchantCountryCode'].value_counts().index[0]\n",
    "#    else:\n",
    "#        data_v0.loc[index,c] = 'US'"
   ]
  },
  {
   "cell_type": "markdown",
   "id": "57d2269f",
   "metadata": {},
   "source": [
    "It runs for a long time, If I have more time, I will do this. Now, I change my method to fill null value as mode value \"US\".It runs for a long time, If I have more time, I will do this. Now, I change my method to fill null value as mode value \"US\"."
   ]
  },
  {
   "cell_type": "code",
   "execution_count": 62,
   "id": "882fabd5",
   "metadata": {},
   "outputs": [
    {
     "data": {
      "text/plain": [
       "US     779235\n",
       "MEX      3143\n",
       "CAN      2426\n",
       "PR       1559\n",
       "Name: merchantCountryCode, dtype: int64"
      ]
     },
     "execution_count": 62,
     "metadata": {},
     "output_type": "execute_result"
    }
   ],
   "source": [
    "data_v0['merchantCountryCode'] = data_v0['merchantCountryCode'].fillna(value='US')\n",
    "data_v0['merchantCountryCode'].value_counts()"
   ]
  },
  {
   "cell_type": "code",
   "execution_count": 63,
   "id": "e70dfc92",
   "metadata": {},
   "outputs": [
    {
     "data": {
      "text/plain": [
       "online_retail           202156\n",
       "fastfood                112138\n",
       "entertainment            80098\n",
       "food                     75490\n",
       "online_gifts             66238\n",
       "rideshare                51136\n",
       "hotels                   34097\n",
       "fuel                     23910\n",
       "subscriptions            22901\n",
       "auto                     21651\n",
       "health                   19092\n",
       "personal care            18964\n",
       "airline                  15412\n",
       "mobileapps               14990\n",
       "online_subscriptions     11067\n",
       "furniture                 7432\n",
       "food_delivery             6000\n",
       "gym                       2209\n",
       "cable/phone               1382\n",
       "Name: merchantCategoryCode, dtype: int64"
      ]
     },
     "execution_count": 63,
     "metadata": {},
     "output_type": "execute_result"
    }
   ],
   "source": [
    "# Mechants Type Information for Transactions\n",
    "data_v0['merchantCategoryCode'].value_counts()"
   ]
  },
  {
   "cell_type": "code",
   "execution_count": 64,
   "id": "09b504ed",
   "metadata": {},
   "outputs": [
    {
     "data": {
      "text/plain": [
       "'rideshare'"
      ]
     },
     "execution_count": 64,
     "metadata": {},
     "output_type": "execute_result"
    }
   ],
   "source": [
    "# Top1 \n",
    "data_v0[data_v0['merchantName']=='Uber']['merchantCategoryCode'].iloc[0]"
   ]
  },
  {
   "cell_type": "code",
   "execution_count": 65,
   "id": "750a8091",
   "metadata": {},
   "outputs": [
    {
     "data": {
      "text/plain": [
       "'rideshare'"
      ]
     },
     "execution_count": 65,
     "metadata": {},
     "output_type": "execute_result"
    }
   ],
   "source": [
    "# Top2\n",
    "data_v0[data_v0['merchantName']=='Lyft']['merchantCategoryCode'].iloc[0]"
   ]
  },
  {
   "cell_type": "code",
   "execution_count": 66,
   "id": "3ae9d8da",
   "metadata": {},
   "outputs": [
    {
     "data": {
      "text/plain": [
       "'online_retail'"
      ]
     },
     "execution_count": 66,
     "metadata": {},
     "output_type": "execute_result"
    }
   ],
   "source": [
    "# Top3\n",
    "data_v0[data_v0['merchantName']=='staples.com']['merchantCategoryCode'].iloc[0]"
   ]
  },
  {
   "cell_type": "markdown",
   "id": "37cdcc45",
   "metadata": {},
   "source": [
    "#### Finding:\n",
    "\n",
    "(1) 2490 merchants involved in the transactions.\n",
    "\n",
    "(2) Top10 merchants based on transaction volume (Uber, Lyft, oldnavy.com, staples.com, alibaba.com, apple.com, walmart.com  , cheapfast.com, ebay.com, target.com, amazon.com).\n",
    "\n",
    "(3) Top10 merchants mainly focus on rideshare, online_retail.\n",
    "\n",
    "(4) Merchants only come from four countries, with the majority taking place in the US."
   ]
  },
  {
   "cell_type": "markdown",
   "id": "b4facb5b",
   "metadata": {},
   "source": [
    "### 14. acqCountry Analysis"
   ]
  },
  {
   "cell_type": "code",
   "execution_count": 67,
   "id": "816d42b8",
   "metadata": {},
   "outputs": [
    {
     "data": {
      "text/plain": [
       "array(['US', nan, 'CAN', 'MEX', 'PR'], dtype=object)"
      ]
     },
     "execution_count": 67,
     "metadata": {},
     "output_type": "execute_result"
    }
   ],
   "source": [
    "data_v0['acqCountry'].unique()"
   ]
  },
  {
   "cell_type": "code",
   "execution_count": 68,
   "id": "486edbe1",
   "metadata": {},
   "outputs": [
    {
     "data": {
      "text/plain": [
       "4562"
      ]
     },
     "execution_count": 68,
     "metadata": {},
     "output_type": "execute_result"
    }
   ],
   "source": [
    "# The number of null values\n",
    "data_v0['acqCountry'].isnull().sum()"
   ]
  },
  {
   "cell_type": "code",
   "execution_count": 69,
   "id": "b14b7a2c",
   "metadata": {},
   "outputs": [
    {
     "data": {
      "text/plain": [
       "US     774709\n",
       "MEX      3130\n",
       "CAN      2424\n",
       "PR       1538\n",
       "Name: acqCountry, dtype: int64"
      ]
     },
     "execution_count": 69,
     "metadata": {},
     "output_type": "execute_result"
    }
   ],
   "source": [
    "# The number of transactions in each country\n",
    "data_v0['acqCountry'].value_counts()"
   ]
  },
  {
   "cell_type": "markdown",
   "id": "648a12b0",
   "metadata": {},
   "source": [
    "#### Finding:\n",
    "\n",
    "(1) Transactions only happened in four countries, with the majority taking place in the US, with the majority taking place in the PR.\n",
    "\n",
    "(2) acqCountry has 4562 null values. "
   ]
  },
  {
   "cell_type": "markdown",
   "id": "a7a2e39d",
   "metadata": {},
   "source": [
    "### 15. posEntryMode and posConditionCode Analysis\n",
    "##### Attention: posEntryMode and posConditionCode both have null value"
   ]
  },
  {
   "cell_type": "markdown",
   "id": "9f46acf4",
   "metadata": {},
   "source": [
    "##### posEntryMode"
   ]
  },
  {
   "cell_type": "code",
   "execution_count": 70,
   "id": "8f371d94",
   "metadata": {},
   "outputs": [
    {
     "data": {
      "text/plain": [
       "array(['02', '09', '05', '80', '90', nan], dtype=object)"
      ]
     },
     "execution_count": 70,
     "metadata": {},
     "output_type": "execute_result"
    }
   ],
   "source": [
    "data_v0['posEntryMode'].unique()"
   ]
  },
  {
   "cell_type": "code",
   "execution_count": 71,
   "id": "76719555",
   "metadata": {},
   "outputs": [
    {
     "data": {
      "text/plain": [
       "4054"
      ]
     },
     "execution_count": 71,
     "metadata": {},
     "output_type": "execute_result"
    }
   ],
   "source": [
    "data_v0['posEntryMode'].isnull().sum()"
   ]
  },
  {
   "cell_type": "code",
   "execution_count": 72,
   "id": "1994a65c",
   "metadata": {},
   "outputs": [
    {
     "data": {
      "text/plain": [
       "05    315035\n",
       "09    236481\n",
       "02    195934\n",
       "90     19576\n",
       "80     15283\n",
       "Name: posEntryMode, dtype: int64"
      ]
     },
     "execution_count": 72,
     "metadata": {},
     "output_type": "execute_result"
    }
   ],
   "source": [
    "data_v0['posEntryMode'].value_counts()"
   ]
  },
  {
   "cell_type": "markdown",
   "id": "5b8d727b",
   "metadata": {},
   "source": [
    "Finding:\n",
    "\n",
    "(1) posEntryMode has 5 categories, with the majority taking place in the '05','09','02', with the majority taking place in the '90','80'.\n",
    "\n",
    "(2) posEntryMode has 4054 null values. "
   ]
  },
  {
   "cell_type": "markdown",
   "id": "adfffcef",
   "metadata": {},
   "source": [
    "\n",
    "\n",
    "####  posEntryMode null value fill in\n",
    "\n",
    "The POS entry mode is usually determined by the type of terminal or point of sale system being used. I will use the mode \"05\" to fill in the null value.\n",
    "\n",
    "If I have more time,  I will check the merchantName of transactions with null values for posEntryMode, and use the merchantName with the most frequently occurring posEntryMode as the value to fill in. It will run for a long time. Now, I will fill null value as mode value \"05\"."
   ]
  },
  {
   "cell_type": "code",
   "execution_count": 73,
   "id": "e48102e3",
   "metadata": {},
   "outputs": [
    {
     "data": {
      "text/plain": [
       "05    319089\n",
       "09    236481\n",
       "02    195934\n",
       "90     19576\n",
       "80     15283\n",
       "Name: posEntryMode, dtype: int64"
      ]
     },
     "execution_count": 73,
     "metadata": {},
     "output_type": "execute_result"
    }
   ],
   "source": [
    "data_v0['posEntryMode'] = data_v0['posEntryMode'].fillna('05')\n",
    "data_v0['posEntryMode'].value_counts()"
   ]
  },
  {
   "cell_type": "markdown",
   "id": "557e78d0",
   "metadata": {},
   "source": [
    "##### posConditionCode"
   ]
  },
  {
   "cell_type": "code",
   "execution_count": 74,
   "id": "7340cd3e",
   "metadata": {},
   "outputs": [
    {
     "data": {
      "text/plain": [
       "array(['01', '08', '99', nan], dtype=object)"
      ]
     },
     "execution_count": 74,
     "metadata": {},
     "output_type": "execute_result"
    }
   ],
   "source": [
    "data_v0['posConditionCode'].unique()"
   ]
  },
  {
   "cell_type": "code",
   "execution_count": 75,
   "id": "7ca26cf6",
   "metadata": {},
   "outputs": [
    {
     "data": {
      "text/plain": [
       "409"
      ]
     },
     "execution_count": 75,
     "metadata": {},
     "output_type": "execute_result"
    }
   ],
   "source": [
    "data_v0['posConditionCode'].isnull().sum()"
   ]
  },
  {
   "cell_type": "code",
   "execution_count": 76,
   "id": "3c69787c",
   "metadata": {},
   "outputs": [
    {
     "data": {
      "text/plain": [
       "01    628787\n",
       "08    149634\n",
       "99      7533\n",
       "Name: posConditionCode, dtype: int64"
      ]
     },
     "execution_count": 76,
     "metadata": {},
     "output_type": "execute_result"
    }
   ],
   "source": [
    "data_v0['posConditionCode'].value_counts()"
   ]
  },
  {
   "cell_type": "markdown",
   "id": "3576fe07",
   "metadata": {},
   "source": [
    "#### Finding:\n",
    "\n",
    "(1) posConditionCode has 3 categories, with the majority taking place in the '01', with the minority taking place in the '99'.\n",
    "\n",
    "(2) posConditionCode has 409 null values. "
   ]
  },
  {
   "cell_type": "markdown",
   "id": "ae342c93",
   "metadata": {},
   "source": [
    "####  posConditionCode null value fill in\n",
    "\n",
    "I will fill null value as mode value \"01\"."
   ]
  },
  {
   "cell_type": "code",
   "execution_count": 77,
   "id": "147dc2a4",
   "metadata": {},
   "outputs": [
    {
     "data": {
      "text/plain": [
       "01    629196\n",
       "08    149634\n",
       "99      7533\n",
       "Name: posConditionCode, dtype: int64"
      ]
     },
     "execution_count": 77,
     "metadata": {},
     "output_type": "execute_result"
    }
   ],
   "source": [
    "data_v0['posConditionCode'] = data_v0['posConditionCode'].fillna('01')\n",
    "data_v0['posConditionCode'].value_counts()"
   ]
  },
  {
   "cell_type": "markdown",
   "id": "869dfb5b",
   "metadata": {},
   "source": [
    "### 16. acqCountry\n",
    "##### Attention: acqCountry has null values."
   ]
  },
  {
   "cell_type": "code",
   "execution_count": 78,
   "id": "3ac43099",
   "metadata": {},
   "outputs": [
    {
     "data": {
      "text/plain": [
       "array(['US', nan, 'CAN', 'MEX', 'PR'], dtype=object)"
      ]
     },
     "execution_count": 78,
     "metadata": {},
     "output_type": "execute_result"
    }
   ],
   "source": [
    "data_v0['acqCountry'].unique()"
   ]
  },
  {
   "cell_type": "code",
   "execution_count": 79,
   "id": "e372a7b4",
   "metadata": {},
   "outputs": [
    {
     "data": {
      "text/plain": [
       "4562"
      ]
     },
     "execution_count": 79,
     "metadata": {},
     "output_type": "execute_result"
    }
   ],
   "source": [
    "data_v0['acqCountry'].isnull().sum()"
   ]
  },
  {
   "cell_type": "code",
   "execution_count": 80,
   "id": "ad8f2bf3",
   "metadata": {},
   "outputs": [
    {
     "data": {
      "text/plain": [
       "US     774709\n",
       "MEX      3130\n",
       "CAN      2424\n",
       "PR       1538\n",
       "Name: acqCountry, dtype: int64"
      ]
     },
     "execution_count": 80,
     "metadata": {},
     "output_type": "execute_result"
    }
   ],
   "source": [
    "data_v0['acqCountry'].value_counts()"
   ]
  },
  {
   "cell_type": "markdown",
   "id": "9c76449a",
   "metadata": {},
   "source": [
    "#### Finding:\n",
    "\n",
    "(1) acqCountry has 3 categories, with the majority taking place in the 'US', with the minority taking place in the 'PR'.\n",
    "\n",
    "(2) acqCountry has 4562 null values. "
   ]
  },
  {
   "cell_type": "markdown",
   "id": "2153ecb6",
   "metadata": {},
   "source": [
    "####  acqCountry null value fill in\n",
    "\n",
    "I will fill null value as mode value \"US\"."
   ]
  },
  {
   "cell_type": "code",
   "execution_count": 81,
   "id": "2a227dae",
   "metadata": {},
   "outputs": [
    {
     "data": {
      "text/plain": [
       "US     779271\n",
       "MEX      3130\n",
       "CAN      2424\n",
       "PR       1538\n",
       "Name: acqCountry, dtype: int64"
      ]
     },
     "execution_count": 81,
     "metadata": {},
     "output_type": "execute_result"
    }
   ],
   "source": [
    "data_v0['acqCountry'] = data_v0['acqCountry'].fillna('US')\n",
    "data_v0['acqCountry'].value_counts()"
   ]
  },
  {
   "cell_type": "markdown",
   "id": "ab53a23c",
   "metadata": {},
   "source": [
    "### 17. cardPresent"
   ]
  },
  {
   "cell_type": "code",
   "execution_count": 82,
   "id": "cd8d4f23",
   "metadata": {},
   "outputs": [
    {
     "data": {
      "text/plain": [
       "False    433495\n",
       "True     352868\n",
       "Name: cardPresent, dtype: int64"
      ]
     },
     "execution_count": 82,
     "metadata": {},
     "output_type": "execute_result"
    }
   ],
   "source": [
    "data_v0['cardPresent'].value_counts()"
   ]
  },
  {
   "cell_type": "markdown",
   "id": "6136270b",
   "metadata": {},
   "source": [
    "#### Finding:\n",
    "\n",
    "(1) Out of all the transactions, 433,495 showed that the credit card was presented to a merchant, while 352,868 transactions did not involve the credit card being presented to a merchant. \n",
    "\n",
    "(2) Card present transactions are considered to be more secure than \"card not present\" transactions. Since the number of transactions where the credit card was not presented to a merchant is greater than those where it was presented, so it is essential to detect transaction fraud."
   ]
  },
  {
   "cell_type": "markdown",
   "id": "7c000fd4",
   "metadata": {},
   "source": [
    "### 18. expirationDateKeyInMatch"
   ]
  },
  {
   "cell_type": "code",
   "execution_count": 83,
   "id": "f57b394b",
   "metadata": {},
   "outputs": [
    {
     "data": {
      "text/plain": [
       "False    785320\n",
       "True       1043\n",
       "Name: expirationDateKeyInMatch, dtype: int64"
      ]
     },
     "execution_count": 83,
     "metadata": {},
     "output_type": "execute_result"
    }
   ],
   "source": [
    "data_v0['expirationDateKeyInMatch'].value_counts()"
   ]
  },
  {
   "cell_type": "code",
   "execution_count": 84,
   "id": "4c1ac78c",
   "metadata": {},
   "outputs": [
    {
     "data": {
      "text/plain": [
       "882815134    35\n",
       "570884863    33\n",
       "785901398    24\n",
       "246251253    23\n",
       "139701939    11\n",
       "225678947     9\n",
       "474934734     9\n",
       "325587097     8\n",
       "208319653     8\n",
       "832842201     8\n",
       "802191006     8\n",
       "Name: accountNumber, dtype: int64"
      ]
     },
     "execution_count": 84,
     "metadata": {},
     "output_type": "execute_result"
    }
   ],
   "source": [
    "# Top 10 accountNumber who has highest number of dismatch expiiration date transactions\n",
    "data_v0[data_v0['expirationDateKeyInMatch']==True]['accountNumber'].value_counts()[:11]"
   ]
  },
  {
   "cell_type": "markdown",
   "id": "67fd0e73",
   "metadata": {},
   "source": [
    "#### Finding:\n",
    "\n",
    "(1) When the expiration date entered during a transaction matches the expiration date on file for the credit card account, the transaction is considered an \"ExpirationDateKeyInMatch\" transaction. This indicates that the customer making the purchase likely has access to the physical credit card and is entering accurate information, which can help reduce the risk of fraud. Out of all the transactions, 1,043 showed that the entered expiration date did not match the expiration date associated with the credit card account. As a result, these 1,043 transactions were deemed to have a higher risk of fraud.\n",
    "\n",
    "(2) There are Top 4 credit card accounts that have a higher risk of fraud because their expiration date information does not match during transactions relatively many times compared to other customers. The account numbers are listed as 882815134, 570884863, 785901398, and 246251253. "
   ]
  },
  {
   "cell_type": "markdown",
   "id": "4c90b417",
   "metadata": {},
   "source": [
    "### 19. isFraud"
   ]
  },
  {
   "cell_type": "code",
   "execution_count": 85,
   "id": "bacbf182",
   "metadata": {},
   "outputs": [
    {
     "data": {
      "text/plain": [
       "False    773946\n",
       "True      12417\n",
       "Name: isFraud, dtype: int64"
      ]
     },
     "execution_count": 85,
     "metadata": {},
     "output_type": "execute_result"
    }
   ],
   "source": [
    "data_v0['isFraud'].value_counts()"
   ]
  },
  {
   "cell_type": "code",
   "execution_count": 86,
   "id": "243ce87e",
   "metadata": {},
   "outputs": [
    {
     "data": {
      "text/plain": [
       "380680241    783\n",
       "782081187    307\n",
       "246251253    278\n",
       "700725639    272\n",
       "472288969    266\n",
       "208319653    211\n",
       "419709514    207\n",
       "369308035    136\n",
       "794398270    135\n",
       "132629755    116\n",
       "269616174    112\n",
       "Name: accountNumber, dtype: int64"
      ]
     },
     "execution_count": 86,
     "metadata": {},
     "output_type": "execute_result"
    }
   ],
   "source": [
    "# Top 10 accountNumber who has highest number of fraud transactions\n",
    "data_v0[data_v0['isFraud']==True]['accountNumber'].value_counts()[:11]"
   ]
  },
  {
   "cell_type": "markdown",
   "id": "f43a1874",
   "metadata": {},
   "source": [
    "#### Finding:\n",
    "\n",
    "The accountNumber 380680241 had the highest number of fraudulent transactions among all customers. The number of fraudulent transactions was shocking, with a total of 783 in one year (2016), which averages out to about 2 fraudulent transactions per day."
   ]
  },
  {
   "cell_type": "markdown",
   "id": "dcea090e",
   "metadata": {},
   "source": [
    "### Data Preprocessing Part 1 - Before Q2"
   ]
  },
  {
   "cell_type": "markdown",
   "id": "ec9a45e6",
   "metadata": {},
   "source": [
    "Notice:\n",
    "\n",
    "Before starting Question 2,\n",
    "\n",
    "In the previous steps, I have cleared columns that had all null values and fill in null value for some columns.\n",
    "\n",
    "I will create new timestamp features based on the 'transactionDateTime' column."
   ]
  },
  {
   "cell_type": "code",
   "execution_count": 87,
   "id": "29b95f1d",
   "metadata": {},
   "outputs": [],
   "source": [
    "# make a copy\n",
    "data = data_v0.copy() "
   ]
  },
  {
   "cell_type": "markdown",
   "id": "1c516fb5",
   "metadata": {},
   "source": [
    "##### create new timestamp features - 'Date' and 'Time'"
   ]
  },
  {
   "cell_type": "code",
   "execution_count": 88,
   "id": "3290cf73",
   "metadata": {},
   "outputs": [
    {
     "data": {
      "text/html": [
       "<div>\n",
       "<style scoped>\n",
       "    .dataframe tbody tr th:only-of-type {\n",
       "        vertical-align: middle;\n",
       "    }\n",
       "\n",
       "    .dataframe tbody tr th {\n",
       "        vertical-align: top;\n",
       "    }\n",
       "\n",
       "    .dataframe thead th {\n",
       "        text-align: right;\n",
       "    }\n",
       "</style>\n",
       "<table border=\"1\" class=\"dataframe\">\n",
       "  <thead>\n",
       "    <tr style=\"text-align: right;\">\n",
       "      <th></th>\n",
       "      <th>accountNumber</th>\n",
       "      <th>customerId</th>\n",
       "      <th>creditLimit</th>\n",
       "      <th>availableMoney</th>\n",
       "      <th>transactionDateTime</th>\n",
       "      <th>transactionAmount</th>\n",
       "      <th>merchantName</th>\n",
       "      <th>acqCountry</th>\n",
       "      <th>merchantCountryCode</th>\n",
       "      <th>posEntryMode</th>\n",
       "      <th>...</th>\n",
       "      <th>enteredCVV</th>\n",
       "      <th>cardLast4Digits</th>\n",
       "      <th>transactionType</th>\n",
       "      <th>currentBalance</th>\n",
       "      <th>cardPresent</th>\n",
       "      <th>expirationDateKeyInMatch</th>\n",
       "      <th>isFraud</th>\n",
       "      <th>Date</th>\n",
       "      <th>Time</th>\n",
       "      <th>Timestamp</th>\n",
       "    </tr>\n",
       "  </thead>\n",
       "  <tbody>\n",
       "    <tr>\n",
       "      <th>0</th>\n",
       "      <td>737265056</td>\n",
       "      <td>737265056</td>\n",
       "      <td>5000</td>\n",
       "      <td>5000.0</td>\n",
       "      <td>2016-08-13T14:27:32</td>\n",
       "      <td>98.55</td>\n",
       "      <td>Uber</td>\n",
       "      <td>US</td>\n",
       "      <td>US</td>\n",
       "      <td>02</td>\n",
       "      <td>...</td>\n",
       "      <td>414</td>\n",
       "      <td>1803</td>\n",
       "      <td>PURCHASE</td>\n",
       "      <td>0.0</td>\n",
       "      <td>False</td>\n",
       "      <td>False</td>\n",
       "      <td>False</td>\n",
       "      <td>2016-08-13</td>\n",
       "      <td>14:27:32</td>\n",
       "      <td>2016-08-13 14:27:32</td>\n",
       "    </tr>\n",
       "    <tr>\n",
       "      <th>1</th>\n",
       "      <td>737265056</td>\n",
       "      <td>737265056</td>\n",
       "      <td>5000</td>\n",
       "      <td>5000.0</td>\n",
       "      <td>2016-10-11T05:05:54</td>\n",
       "      <td>74.51</td>\n",
       "      <td>AMC #191138</td>\n",
       "      <td>US</td>\n",
       "      <td>US</td>\n",
       "      <td>09</td>\n",
       "      <td>...</td>\n",
       "      <td>486</td>\n",
       "      <td>767</td>\n",
       "      <td>PURCHASE</td>\n",
       "      <td>0.0</td>\n",
       "      <td>True</td>\n",
       "      <td>False</td>\n",
       "      <td>False</td>\n",
       "      <td>2016-10-11</td>\n",
       "      <td>05:05:54</td>\n",
       "      <td>2016-10-11 05:05:54</td>\n",
       "    </tr>\n",
       "    <tr>\n",
       "      <th>2</th>\n",
       "      <td>737265056</td>\n",
       "      <td>737265056</td>\n",
       "      <td>5000</td>\n",
       "      <td>5000.0</td>\n",
       "      <td>2016-11-08T09:18:39</td>\n",
       "      <td>7.47</td>\n",
       "      <td>Play Store</td>\n",
       "      <td>US</td>\n",
       "      <td>US</td>\n",
       "      <td>09</td>\n",
       "      <td>...</td>\n",
       "      <td>486</td>\n",
       "      <td>767</td>\n",
       "      <td>PURCHASE</td>\n",
       "      <td>0.0</td>\n",
       "      <td>False</td>\n",
       "      <td>False</td>\n",
       "      <td>False</td>\n",
       "      <td>2016-11-08</td>\n",
       "      <td>09:18:39</td>\n",
       "      <td>2016-11-08 09:18:39</td>\n",
       "    </tr>\n",
       "    <tr>\n",
       "      <th>3</th>\n",
       "      <td>737265056</td>\n",
       "      <td>737265056</td>\n",
       "      <td>5000</td>\n",
       "      <td>5000.0</td>\n",
       "      <td>2016-12-10T02:14:50</td>\n",
       "      <td>7.47</td>\n",
       "      <td>Play Store</td>\n",
       "      <td>US</td>\n",
       "      <td>US</td>\n",
       "      <td>09</td>\n",
       "      <td>...</td>\n",
       "      <td>486</td>\n",
       "      <td>767</td>\n",
       "      <td>PURCHASE</td>\n",
       "      <td>0.0</td>\n",
       "      <td>False</td>\n",
       "      <td>False</td>\n",
       "      <td>False</td>\n",
       "      <td>2016-12-10</td>\n",
       "      <td>02:14:50</td>\n",
       "      <td>2016-12-10 02:14:50</td>\n",
       "    </tr>\n",
       "    <tr>\n",
       "      <th>4</th>\n",
       "      <td>830329091</td>\n",
       "      <td>830329091</td>\n",
       "      <td>5000</td>\n",
       "      <td>5000.0</td>\n",
       "      <td>2016-03-24T21:04:46</td>\n",
       "      <td>71.18</td>\n",
       "      <td>Tim Hortons #947751</td>\n",
       "      <td>US</td>\n",
       "      <td>US</td>\n",
       "      <td>02</td>\n",
       "      <td>...</td>\n",
       "      <td>885</td>\n",
       "      <td>3143</td>\n",
       "      <td>PURCHASE</td>\n",
       "      <td>0.0</td>\n",
       "      <td>True</td>\n",
       "      <td>False</td>\n",
       "      <td>False</td>\n",
       "      <td>2016-03-24</td>\n",
       "      <td>21:04:46</td>\n",
       "      <td>2016-03-24 21:04:46</td>\n",
       "    </tr>\n",
       "  </tbody>\n",
       "</table>\n",
       "<p>5 rows × 26 columns</p>\n",
       "</div>"
      ],
      "text/plain": [
       "   accountNumber  customerId  creditLimit  availableMoney  \\\n",
       "0      737265056   737265056         5000          5000.0   \n",
       "1      737265056   737265056         5000          5000.0   \n",
       "2      737265056   737265056         5000          5000.0   \n",
       "3      737265056   737265056         5000          5000.0   \n",
       "4      830329091   830329091         5000          5000.0   \n",
       "\n",
       "   transactionDateTime  transactionAmount         merchantName acqCountry  \\\n",
       "0  2016-08-13T14:27:32              98.55                 Uber         US   \n",
       "1  2016-10-11T05:05:54              74.51          AMC #191138         US   \n",
       "2  2016-11-08T09:18:39               7.47           Play Store         US   \n",
       "3  2016-12-10T02:14:50               7.47           Play Store         US   \n",
       "4  2016-03-24T21:04:46              71.18  Tim Hortons #947751         US   \n",
       "\n",
       "  merchantCountryCode posEntryMode  ... enteredCVV cardLast4Digits  \\\n",
       "0                  US           02  ...        414            1803   \n",
       "1                  US           09  ...        486             767   \n",
       "2                  US           09  ...        486             767   \n",
       "3                  US           09  ...        486             767   \n",
       "4                  US           02  ...        885            3143   \n",
       "\n",
       "  transactionType currentBalance cardPresent  expirationDateKeyInMatch  \\\n",
       "0        PURCHASE            0.0       False                     False   \n",
       "1        PURCHASE            0.0        True                     False   \n",
       "2        PURCHASE            0.0       False                     False   \n",
       "3        PURCHASE            0.0       False                     False   \n",
       "4        PURCHASE            0.0        True                     False   \n",
       "\n",
       "   isFraud       Date      Time           Timestamp  \n",
       "0    False 2016-08-13  14:27:32 2016-08-13 14:27:32  \n",
       "1    False 2016-10-11  05:05:54 2016-10-11 05:05:54  \n",
       "2    False 2016-11-08  09:18:39 2016-11-08 09:18:39  \n",
       "3    False 2016-12-10  02:14:50 2016-12-10 02:14:50  \n",
       "4    False 2016-03-24  21:04:46 2016-03-24 21:04:46  \n",
       "\n",
       "[5 rows x 26 columns]"
      ]
     },
     "execution_count": 88,
     "metadata": {},
     "output_type": "execute_result"
    }
   ],
   "source": [
    "# create 'Date' column\n",
    "data['Date'] = data_v0['transactionDateTime'].apply(lambda x: x.split('T')[0])\n",
    "\n",
    "# create 'Time' column\n",
    "data['Time'] = data_v0['transactionDateTime'].apply(lambda x: x.split('T')[1]) \n",
    "\n",
    "data.Date = pd.to_datetime(data.Date)\n",
    "data['Timestamp'] = pd.to_datetime(data.Date.astype(str)+' '+ data.Time.astype(str))\n",
    "data.head(5)"
   ]
  },
  {
   "cell_type": "code",
   "execution_count": 89,
   "id": "632d1d89",
   "metadata": {},
   "outputs": [
    {
     "name": "stdout",
     "output_type": "stream",
     "text": [
      "Now, Dataset Size is: 786363 x 26\n"
     ]
    }
   ],
   "source": [
    "# Dataset Dimension\n",
    "m,n = data.shape\n",
    "print('Now, Dataset Size is:', m, 'x',n )"
   ]
  },
  {
   "cell_type": "markdown",
   "id": "95d0a96b",
   "metadata": {},
   "source": [
    "## Question 2 Plot"
   ]
  },
  {
   "cell_type": "markdown",
   "id": "9004f57d",
   "metadata": {},
   "source": [
    "exploratory data analysis (EDA) and data visualization"
   ]
  },
  {
   "cell_type": "markdown",
   "id": "bcb50f8f",
   "metadata": {},
   "source": [
    "### 1. Transaction Amounts Basic Information "
   ]
  },
  {
   "cell_type": "code",
   "execution_count": 90,
   "id": "ea58e52b",
   "metadata": {},
   "outputs": [
    {
     "data": {
      "image/png": "[encoded data removed]",
      "text/plain": [
       "<Figure size 432x288 with 1 Axes>"
      ]
     },
     "metadata": {
      "needs_background": "light"
     },
     "output_type": "display_data"
    }
   ],
   "source": [
    "# Histogram of Transaction Amounts\n",
    "counts, bins, _ = plt.hist(data['transactionAmount'])\n",
    "plt.xlabel('Transaction Amount')\n",
    "plt.ylabel('Count')\n",
    "plt.title('Histogram of Transaction Amounts')\n",
    "plt.xticks(rotation=45)\n",
    "\n",
    "for i in range(len(counts)):\n",
    "    plt.text(bins[i], counts[i], str(int(counts[i])))\n",
    "\n",
    "plt.show()"
   ]
  },
  {
   "cell_type": "code",
   "execution_count": 91,
   "id": "fe1bd108",
   "metadata": {},
   "outputs": [
    {
     "data": {
      "text/plain": [
       "count    786363.000000\n",
       "mean        136.985791\n",
       "std         147.725569\n",
       "min           0.000000\n",
       "25%          33.650000\n",
       "50%          87.900000\n",
       "75%         191.480000\n",
       "max        2011.540000\n",
       "Name: transactionAmount, dtype: float64"
      ]
     },
     "execution_count": 91,
     "metadata": {},
     "output_type": "execute_result"
    }
   ],
   "source": [
    "# Statistical information of transactionAmount\n",
    "data['transactionAmount'].describe()"
   ]
  },
  {
   "cell_type": "code",
   "execution_count": 92,
   "id": "7df7bce8",
   "metadata": {},
   "outputs": [
    {
     "data": {
      "image/png": "[encoded data removed]",
      "text/plain": [
       "<Figure size 432x288 with 1 Axes>"
      ]
     },
     "metadata": {
      "needs_background": "light"
     },
     "output_type": "display_data"
    }
   ],
   "source": [
    "# boxplot of transactionAmount\n",
    "plt.boxplot(data['transactionAmount'], widths=0.2, showmeans=True)\n",
    "plt.ylabel('Transaction Amount')\n",
    "plt.title('Boxplot of Transaction Amounts')\n",
    "plt.show()"
   ]
  },
  {
   "cell_type": "markdown",
   "id": "a65231a2",
   "metadata": {},
   "source": [
    "#### Finding:\n",
    "\n",
    "(1) The dataset contains 786,363 transactions with a mean transaction amount of 136.99 dollars and a standard deviation of 147.73 dollars.\n",
    "\n",
    "(2) The minimum transaction amount in the dataset is 0, while the maximum transaction amount is 2,011.54 dollars.\n",
    "\n",
    "(3) Right-skewed distribution: the median transaction amount is 87.90 dollars, which is less than the mean, indicating that the distribution of transaction amounts is skewed to the right.\n",
    "\n",
    "(4) 25% of the transactions have a transaction amount of 33.65 dollars or less, while 75% of the transactions have a transaction amount of 191.48 dollars or less. This suggests that the majority of transactions fall within this price range.\n",
    "\n",
    "(5) The range of transaction amounts is quite wide, from 0 to over 2,000 dollars. This may indicate that the dataset includes a variety of different types of transactions, or that the transactions come from a variety of different sources.\n",
    "\n",
    "(6) The standard deviation of transaction amounts is quite large, indicating that there is a lot of variability in the data. Through boxplot we can see there are many outliers. "
   ]
  },
  {
   "cell_type": "markdown",
   "id": "a805ac0d",
   "metadata": {},
   "source": [
    "### 2. Relationship between Frauduent and transactionAmount"
   ]
  },
  {
   "cell_type": "code",
   "execution_count": 93,
   "id": "a6058cc4",
   "metadata": {},
   "outputs": [
    {
     "data": {
      "text/html": [
       "<div>\n",
       "<style scoped>\n",
       "    .dataframe tbody tr th:only-of-type {\n",
       "        vertical-align: middle;\n",
       "    }\n",
       "\n",
       "    .dataframe tbody tr th {\n",
       "        vertical-align: top;\n",
       "    }\n",
       "\n",
       "    .dataframe thead th {\n",
       "        text-align: right;\n",
       "    }\n",
       "</style>\n",
       "<table border=\"1\" class=\"dataframe\">\n",
       "  <thead>\n",
       "    <tr style=\"text-align: right;\">\n",
       "      <th></th>\n",
       "      <th>mean</th>\n",
       "      <th>median</th>\n",
       "      <th>std</th>\n",
       "      <th>amax</th>\n",
       "      <th>amin</th>\n",
       "    </tr>\n",
       "    <tr>\n",
       "      <th>isFraud</th>\n",
       "      <th></th>\n",
       "      <th></th>\n",
       "      <th></th>\n",
       "      <th></th>\n",
       "      <th></th>\n",
       "    </tr>\n",
       "  </thead>\n",
       "  <tbody>\n",
       "    <tr>\n",
       "      <th>False</th>\n",
       "      <td>135.570249</td>\n",
       "      <td>86.76</td>\n",
       "      <td>146.525305</td>\n",
       "      <td>2011.54</td>\n",
       "      <td>0.0</td>\n",
       "    </tr>\n",
       "    <tr>\n",
       "      <th>True</th>\n",
       "      <td>225.215905</td>\n",
       "      <td>176.98</td>\n",
       "      <td>189.551393</td>\n",
       "      <td>1608.35</td>\n",
       "      <td>0.0</td>\n",
       "    </tr>\n",
       "  </tbody>\n",
       "</table>\n",
       "</div>"
      ],
      "text/plain": [
       "               mean  median         std     amax  amin\n",
       "isFraud                                               \n",
       "False    135.570249   86.76  146.525305  2011.54   0.0\n",
       "True     225.215905  176.98  189.551393  1608.35   0.0"
      ]
     },
     "execution_count": 93,
     "metadata": {},
     "output_type": "execute_result"
    }
   ],
   "source": [
    "pd.DataFrame(data.groupby('isFraud')['transactionAmount'].agg([np.mean,np.median,np.std,np.max,np.min]))"
   ]
  },
  {
   "cell_type": "markdown",
   "id": "38018d97",
   "metadata": {},
   "source": [
    "#### Fraudulent Transaction Amounts"
   ]
  },
  {
   "cell_type": "code",
   "execution_count": 94,
   "id": "2cfb06cb",
   "metadata": {},
   "outputs": [
    {
     "data": {
      "image/png": "[encoded data removed]",
      "text/plain": [
       "<Figure size 432x288 with 1 Axes>"
      ]
     },
     "metadata": {
      "needs_background": "light"
     },
     "output_type": "display_data"
    }
   ],
   "source": [
    "# Histogram of Fraudulent Transaction Amounts\n",
    "counts, bins, _ = plt.hist(data[data['isFraud']==True]['transactionAmount'])\n",
    "plt.xlabel('Transaction Amount')\n",
    "plt.ylabel('Count')\n",
    "plt.title('Histogram of Fraudulent Transaction Amounts')\n",
    "plt.xticks(rotation=45)\n",
    "\n",
    "for i in range(len(counts)):\n",
    "    plt.text(bins[i], counts[i], str(int(counts[i])))\n",
    "\n",
    "plt.show()"
   ]
  },
  {
   "cell_type": "code",
   "execution_count": 95,
   "id": "204d0d89",
   "metadata": {},
   "outputs": [
    {
     "data": {
      "text/plain": [
       "count    12417.000000\n",
       "mean       225.215905\n",
       "std        189.551393\n",
       "min          0.000000\n",
       "25%         86.000000\n",
       "50%        176.980000\n",
       "75%        311.460000\n",
       "max       1608.350000\n",
       "Name: transactionAmount, dtype: float64"
      ]
     },
     "execution_count": 95,
     "metadata": {},
     "output_type": "execute_result"
    }
   ],
   "source": [
    "# statistical information of fraudulent transaction amounts\n",
    "data[data['isFraud']==True]['transactionAmount'].describe()"
   ]
  },
  {
   "cell_type": "markdown",
   "id": "a602be3d",
   "metadata": {},
   "source": [
    "#### Non-Fraudulent Transaction Amounts"
   ]
  },
  {
   "cell_type": "code",
   "execution_count": 96,
   "id": "7eba34d4",
   "metadata": {},
   "outputs": [
    {
     "data": {
      "image/png": "[encoded data removed]",
      "text/plain": [
       "<Figure size 432x288 with 1 Axes>"
      ]
     },
     "metadata": {
      "needs_background": "light"
     },
     "output_type": "display_data"
    }
   ],
   "source": [
    "# Histogram of non-Fraudulent Transaction Amounts\n",
    "counts, bins, _ = plt.hist(data[data['isFraud']==False]['transactionAmount'])\n",
    "plt.xlabel('Transaction Amount')\n",
    "plt.ylabel('Count')\n",
    "plt.title('Histogram of non-Fraudulent Transaction Amounts')\n",
    "plt.xticks(rotation=45)\n",
    "\n",
    "for i in range(len(counts)):\n",
    "    plt.text(bins[i], counts[i], str(int(counts[i])))\n",
    "    \n",
    "plt.show()"
   ]
  },
  {
   "cell_type": "code",
   "execution_count": 97,
   "id": "11895bee",
   "metadata": {},
   "outputs": [
    {
     "data": {
      "text/plain": [
       "count    773946.000000\n",
       "mean        135.570249\n",
       "std         146.525305\n",
       "min           0.000000\n",
       "25%          33.190000\n",
       "50%          86.760000\n",
       "75%         189.390000\n",
       "max        2011.540000\n",
       "Name: transactionAmount, dtype: float64"
      ]
     },
     "execution_count": 97,
     "metadata": {},
     "output_type": "execute_result"
    }
   ],
   "source": [
    "# statistical information of non-fraudulent transaction amounts\n",
    "data[data['isFraud']==False]['transactionAmount'].describe()"
   ]
  },
  {
   "cell_type": "markdown",
   "id": "45397fc7",
   "metadata": {},
   "source": [
    "#### Finding:\n",
    "\n",
    "Based on the distribution of transaction amounts, I found that both fraudulent and non-fraudulent transactions have a right-skewed distribution, with a concentration of transactions between 0-400 dollars.\n",
    "\n",
    "For fraudulent transactions, there is a decreasing trend in the number of transactions for amounts, with the largest transaction amount being 1608.35 dollars. \n",
    "\n",
    "For non-fraudulent transactions, I also observe a concentration of transactions between 0-400 dollars, and a decreasing trend in the number of transactions, with the largest transaction amount being 2011.54 dollars.\n",
    "\n",
    "This finding is interesting as it suggests that fraudulent transactions are more likely to occur for smaller amounts, and the larger the transaction amount, the less likely it is to be a fraudulent transaction. This information could be useful for fraud detection and prevention, as it may be possible to develop targeted strategies for detecting and preventing fraudulent transactions based on transaction amounts."
   ]
  },
  {
   "cell_type": "markdown",
   "id": "f9a2e659",
   "metadata": {},
   "source": [
    "### 3. Relationship between merchant categories and transactionAmount, also transactionCount"
   ]
  },
  {
   "cell_type": "code",
   "execution_count": 98,
   "id": "e7aa7696",
   "metadata": {},
   "outputs": [
    {
     "data": {
      "text/html": [
       "<div>\n",
       "<style scoped>\n",
       "    .dataframe tbody tr th:only-of-type {\n",
       "        vertical-align: middle;\n",
       "    }\n",
       "\n",
       "    .dataframe tbody tr th {\n",
       "        vertical-align: top;\n",
       "    }\n",
       "\n",
       "    .dataframe thead th {\n",
       "        text-align: right;\n",
       "    }\n",
       "</style>\n",
       "<table border=\"1\" class=\"dataframe\">\n",
       "  <thead>\n",
       "    <tr style=\"text-align: right;\">\n",
       "      <th></th>\n",
       "      <th>transaction_count</th>\n",
       "    </tr>\n",
       "    <tr>\n",
       "      <th>merchantCategoryCode</th>\n",
       "      <th></th>\n",
       "    </tr>\n",
       "  </thead>\n",
       "  <tbody>\n",
       "    <tr>\n",
       "      <th>online_retail</th>\n",
       "      <td>202156</td>\n",
       "    </tr>\n",
       "    <tr>\n",
       "      <th>fastfood</th>\n",
       "      <td>112138</td>\n",
       "    </tr>\n",
       "    <tr>\n",
       "      <th>entertainment</th>\n",
       "      <td>80098</td>\n",
       "    </tr>\n",
       "    <tr>\n",
       "      <th>food</th>\n",
       "      <td>75490</td>\n",
       "    </tr>\n",
       "    <tr>\n",
       "      <th>online_gifts</th>\n",
       "      <td>66238</td>\n",
       "    </tr>\n",
       "  </tbody>\n",
       "</table>\n",
       "</div>"
      ],
      "text/plain": [
       "                      transaction_count\n",
       "merchantCategoryCode                   \n",
       "online_retail                    202156\n",
       "fastfood                         112138\n",
       "entertainment                     80098\n",
       "food                              75490\n",
       "online_gifts                      66238"
      ]
     },
     "execution_count": 98,
     "metadata": {},
     "output_type": "execute_result"
    }
   ],
   "source": [
    "# Know relationship between merchant categories and transaction count\n",
    "trans_mer_cat = pd.DataFrame(data.groupby('merchantCategoryCode')['transactionAmount'].count())\n",
    "trans_mer_cat.columns = ['transaction_count']\n",
    "trans_mer_cat = trans_mer_cat.sort_values('transaction_count',ascending=False)\n",
    "trans_mer_cat.head()"
   ]
  },
  {
   "cell_type": "code",
   "execution_count": 99,
   "id": "bb9b1d7c",
   "metadata": {},
   "outputs": [
    {
     "data": {
      "image/png": "[encoded data removed]",
      "text/plain": [
       "<Figure size 720x432 with 1 Axes>"
      ]
     },
     "metadata": {
      "needs_background": "light"
     },
     "output_type": "display_data"
    }
   ],
   "source": [
    "# Create a bar plot\n",
    "fig, ax = plt.subplots(figsize=(10, 6))\n",
    "ax.barh(trans_mer_cat.index, trans_mer_cat['transaction_count'], color='blue')\n",
    "ax.set_xlabel('Transaction Count')\n",
    "ax.set_ylabel('Merchant Category')\n",
    "ax.set_title('Total Transaction Count by Merchant Category')\n",
    "plt.show()"
   ]
  },
  {
   "cell_type": "markdown",
   "id": "39664753",
   "metadata": {},
   "source": [
    "#### Top1 Merchant Category - Online Retail TransactionAmount Analysis"
   ]
  },
  {
   "cell_type": "code",
   "execution_count": 100,
   "id": "f354df8e",
   "metadata": {},
   "outputs": [
    {
     "data": {
      "image/png": "[encoded data removed]",
      "text/plain": [
       "<Figure size 432x288 with 1 Axes>"
      ]
     },
     "metadata": {
      "needs_background": "light"
     },
     "output_type": "display_data"
    }
   ],
   "source": [
    "# Histogram of Online Retail Transaction Amounts\n",
    "counts, bins, _ = plt.hist(data[data['merchantCategoryCode']=='online_retail']['transactionAmount'])\n",
    "plt.xlabel('Transaction Amount')\n",
    "plt.ylabel('Count')\n",
    "plt.title('Histogram of Online Retail Transaction Amounts')\n",
    "plt.xticks(rotation=45)\n",
    "\n",
    "for i in range(len(counts)):\n",
    "    plt.text(bins[i], counts[i], str(int(counts[i])))\n",
    "\n",
    "plt.show()"
   ]
  },
  {
   "cell_type": "code",
   "execution_count": 101,
   "id": "7554efb3",
   "metadata": {},
   "outputs": [
    {
     "data": {
      "text/plain": [
       "count    202156.000000\n",
       "mean        145.231632\n",
       "std         150.212475\n",
       "min           0.000000\n",
       "25%          38.740000\n",
       "50%          98.950000\n",
       "75%         202.425000\n",
       "max        2011.540000\n",
       "Name: transactionAmount, dtype: float64"
      ]
     },
     "execution_count": 101,
     "metadata": {},
     "output_type": "execute_result"
    }
   ],
   "source": [
    "# Statistical information of Online Retail Transaction Amounts\n",
    "data[data['merchantCategoryCode']=='online_retail']['transactionAmount'].describe()"
   ]
  },
  {
   "cell_type": "markdown",
   "id": "82706ffe",
   "metadata": {},
   "source": [
    "#### Median TransactionAmount for Merchant Category Analysis"
   ]
  },
  {
   "cell_type": "code",
   "execution_count": 102,
   "id": "d31ba37a",
   "metadata": {},
   "outputs": [
    {
     "data": {
      "image/png": "[encoded data removed]",
      "text/plain": [
       "<Figure size 720x432 with 1 Axes>"
      ]
     },
     "metadata": {
      "needs_background": "light"
     },
     "output_type": "display_data"
    }
   ],
   "source": [
    "median_transactionAmount = pd.DataFrame(data.groupby('merchantCategoryCode')['transactionAmount'].median())\n",
    "median_transactionAmount = median_transactionAmount.sort_values('transactionAmount', ascending=False)\n",
    "fig, ax = plt.subplots(figsize=(10, 6))\n",
    "ax.barh(median_transactionAmount.index, median_transactionAmount['transactionAmount'], color='blue')\n",
    "ax.set_xlabel('Median TransactionAmount')\n",
    "ax.set_ylabel('Merchant Category')\n",
    "ax.set_title('Median Transaction Amounts for Merchant Category')\n",
    "plt.show()"
   ]
  },
  {
   "cell_type": "markdown",
   "id": "bdde80f9",
   "metadata": {},
   "source": [
    "#### Mean TransactionAmount for Merchant Category Analysis"
   ]
  },
  {
   "cell_type": "code",
   "execution_count": 103,
   "id": "83bddd6b",
   "metadata": {},
   "outputs": [
    {
     "data": {
      "image/png": "[encoded data removed]",
      "text/plain": [
       "<Figure size 720x432 with 1 Axes>"
      ]
     },
     "metadata": {
      "needs_background": "light"
     },
     "output_type": "display_data"
    }
   ],
   "source": [
    "m_transactionAmount = pd.DataFrame(data.groupby('merchantCategoryCode')['transactionAmount'].mean())\n",
    "m_transactionAmount = m_transactionAmount.sort_values('transactionAmount', ascending=False)\n",
    "fig, ax = plt.subplots(figsize=(10, 6))\n",
    "ax.barh(m_transactionAmount.index, m_transactionAmount['transactionAmount'], color='blue')\n",
    "ax.set_xlabel('Mean TransactionAmount')\n",
    "ax.set_ylabel('Merchant Category')\n",
    "ax.set_title('Mean Transaction Amounts for Merchant Category')\n",
    "plt.show()"
   ]
  },
  {
   "cell_type": "markdown",
   "id": "45bb412f",
   "metadata": {},
   "source": [
    "#### Finding:\n",
    "\n",
    "Based on the median transaction amount for each merchant category, we can see that subscriptions have the highest median transaction amount, followed by entertainment and furniture. On the other hand, mobile apps, fuel, and gym have the lowest median transaction amounts.\n",
    "\n",
    "Looking at the mean transaction amount for each merchant category, we see that personal care has the highest mean transaction amount, followed by subscriptions and rideshare. The lowest mean transaction amounts are seen in mobile apps, online subscriptions, and gym.\n",
    "\n",
    "It's worth noting that the median and mean for each category has similar trend, but the median and mean values has gap, indicating that the distribution of transaction amounts for each category is skewed, same as the result of analysis I did before. "
   ]
  },
  {
   "cell_type": "markdown",
   "id": "36989452",
   "metadata": {},
   "source": [
    "### 4. Relationship between merchant categories and transactionAmount, transactionCount, isFraud or not"
   ]
  },
  {
   "cell_type": "markdown",
   "id": "41cb488f",
   "metadata": {},
   "source": [
    "#### Fraud Transactions Rate by Merchant Category Analysis"
   ]
  },
  {
   "cell_type": "code",
   "execution_count": 104,
   "id": "477705b3",
   "metadata": {},
   "outputs": [
    {
     "data": {
      "text/html": [
       "<div>\n",
       "<style scoped>\n",
       "    .dataframe tbody tr th:only-of-type {\n",
       "        vertical-align: middle;\n",
       "    }\n",
       "\n",
       "    .dataframe tbody tr th {\n",
       "        vertical-align: top;\n",
       "    }\n",
       "\n",
       "    .dataframe thead th {\n",
       "        text-align: right;\n",
       "    }\n",
       "</style>\n",
       "<table border=\"1\" class=\"dataframe\">\n",
       "  <thead>\n",
       "    <tr style=\"text-align: right;\">\n",
       "      <th>isFraud</th>\n",
       "      <th>False</th>\n",
       "      <th>True</th>\n",
       "      <th>fraud rate</th>\n",
       "    </tr>\n",
       "    <tr>\n",
       "      <th>merchantCategoryCode</th>\n",
       "      <th></th>\n",
       "      <th></th>\n",
       "      <th></th>\n",
       "    </tr>\n",
       "  </thead>\n",
       "  <tbody>\n",
       "    <tr>\n",
       "      <th>airline</th>\n",
       "      <td>14878.0</td>\n",
       "      <td>534.0</td>\n",
       "      <td>0.034648</td>\n",
       "    </tr>\n",
       "    <tr>\n",
       "      <th>rideshare</th>\n",
       "      <td>49864.0</td>\n",
       "      <td>1272.0</td>\n",
       "      <td>0.024875</td>\n",
       "    </tr>\n",
       "    <tr>\n",
       "      <th>online_retail</th>\n",
       "      <td>197218.0</td>\n",
       "      <td>4938.0</td>\n",
       "      <td>0.024427</td>\n",
       "    </tr>\n",
       "    <tr>\n",
       "      <th>online_gifts</th>\n",
       "      <td>64632.0</td>\n",
       "      <td>1606.0</td>\n",
       "      <td>0.024246</td>\n",
       "    </tr>\n",
       "    <tr>\n",
       "      <th>furniture</th>\n",
       "      <td>7329.0</td>\n",
       "      <td>103.0</td>\n",
       "      <td>0.013859</td>\n",
       "    </tr>\n",
       "    <tr>\n",
       "      <th>food</th>\n",
       "      <td>74476.0</td>\n",
       "      <td>1014.0</td>\n",
       "      <td>0.013432</td>\n",
       "    </tr>\n",
       "    <tr>\n",
       "      <th>auto</th>\n",
       "      <td>21378.0</td>\n",
       "      <td>273.0</td>\n",
       "      <td>0.012609</td>\n",
       "    </tr>\n",
       "    <tr>\n",
       "      <th>entertainment</th>\n",
       "      <td>79137.0</td>\n",
       "      <td>961.0</td>\n",
       "      <td>0.011998</td>\n",
       "    </tr>\n",
       "    <tr>\n",
       "      <th>fastfood</th>\n",
       "      <td>111064.0</td>\n",
       "      <td>1074.0</td>\n",
       "      <td>0.009577</td>\n",
       "    </tr>\n",
       "    <tr>\n",
       "      <th>subscriptions</th>\n",
       "      <td>22685.0</td>\n",
       "      <td>216.0</td>\n",
       "      <td>0.009432</td>\n",
       "    </tr>\n",
       "    <tr>\n",
       "      <th>hotels</th>\n",
       "      <td>33847.0</td>\n",
       "      <td>250.0</td>\n",
       "      <td>0.007332</td>\n",
       "    </tr>\n",
       "    <tr>\n",
       "      <th>health</th>\n",
       "      <td>19002.0</td>\n",
       "      <td>90.0</td>\n",
       "      <td>0.004714</td>\n",
       "    </tr>\n",
       "    <tr>\n",
       "      <th>personal care</th>\n",
       "      <td>18878.0</td>\n",
       "      <td>86.0</td>\n",
       "      <td>0.004535</td>\n",
       "    </tr>\n",
       "    <tr>\n",
       "      <th>mobileapps</th>\n",
       "      <td>14990.0</td>\n",
       "      <td>0.0</td>\n",
       "      <td>0.000000</td>\n",
       "    </tr>\n",
       "    <tr>\n",
       "      <th>fuel</th>\n",
       "      <td>23910.0</td>\n",
       "      <td>0.0</td>\n",
       "      <td>0.000000</td>\n",
       "    </tr>\n",
       "    <tr>\n",
       "      <th>food_delivery</th>\n",
       "      <td>6000.0</td>\n",
       "      <td>0.0</td>\n",
       "      <td>0.000000</td>\n",
       "    </tr>\n",
       "    <tr>\n",
       "      <th>online_subscriptions</th>\n",
       "      <td>11067.0</td>\n",
       "      <td>0.0</td>\n",
       "      <td>0.000000</td>\n",
       "    </tr>\n",
       "    <tr>\n",
       "      <th>cable/phone</th>\n",
       "      <td>1382.0</td>\n",
       "      <td>0.0</td>\n",
       "      <td>0.000000</td>\n",
       "    </tr>\n",
       "    <tr>\n",
       "      <th>gym</th>\n",
       "      <td>2209.0</td>\n",
       "      <td>0.0</td>\n",
       "      <td>0.000000</td>\n",
       "    </tr>\n",
       "  </tbody>\n",
       "</table>\n",
       "</div>"
      ],
      "text/plain": [
       "isFraud                  False    True  fraud rate\n",
       "merchantCategoryCode                              \n",
       "airline                14878.0   534.0    0.034648\n",
       "rideshare              49864.0  1272.0    0.024875\n",
       "online_retail         197218.0  4938.0    0.024427\n",
       "online_gifts           64632.0  1606.0    0.024246\n",
       "furniture               7329.0   103.0    0.013859\n",
       "food                   74476.0  1014.0    0.013432\n",
       "auto                   21378.0   273.0    0.012609\n",
       "entertainment          79137.0   961.0    0.011998\n",
       "fastfood              111064.0  1074.0    0.009577\n",
       "subscriptions          22685.0   216.0    0.009432\n",
       "hotels                 33847.0   250.0    0.007332\n",
       "health                 19002.0    90.0    0.004714\n",
       "personal care          18878.0    86.0    0.004535\n",
       "mobileapps             14990.0     0.0    0.000000\n",
       "fuel                   23910.0     0.0    0.000000\n",
       "food_delivery           6000.0     0.0    0.000000\n",
       "online_subscriptions   11067.0     0.0    0.000000\n",
       "cable/phone             1382.0     0.0    0.000000\n",
       "gym                     2209.0     0.0    0.000000"
      ]
     },
     "execution_count": 104,
     "metadata": {},
     "output_type": "execute_result"
    }
   ],
   "source": [
    "# Fraud Transactions Rate by Merchant Category\n",
    "merchantCategory_fraud = pd.DataFrame(data.groupby('merchantCategoryCode')['isFraud'].value_counts())\n",
    "merchantCategory_fraud.columns = ['Count']\n",
    "merchantCategory_fraud = merchantCategory_fraud.pivot_table(index='merchantCategoryCode', columns='isFraud', values='Count', aggfunc='sum')\n",
    "merchantCategory_fraud = merchantCategory_fraud.replace(np.nan,0)\n",
    "merchantCategory_fraud['fraud rate'] = merchantCategory_fraud.iloc[:,1]/(merchantCategory_fraud.iloc[:,0]+merchantCategory_fraud.iloc[:,1])\n",
    "merchantCategory_fraud.sort_values('fraud rate', ascending=False)"
   ]
  },
  {
   "cell_type": "code",
   "execution_count": 105,
   "id": "acb95cf9",
   "metadata": {
    "scrolled": true
   },
   "outputs": [
    {
     "data": {
      "image/png": "[encoded data removed]",
      "text/plain": [
       "<Figure size 432x288 with 1 Axes>"
      ]
     },
     "metadata": {
      "needs_background": "light"
     },
     "output_type": "display_data"
    }
   ],
   "source": [
    "# Bar chart of Fraudulent Transactions by Merchant Category\n",
    "merchantCategory_fraud.iloc[:,:2].plot(kind='bar', stacked=True)\n",
    "plt.axhline(y=0.5, color='grey', linestyle='--')\n",
    "\n",
    "plt.xlabel('Merchant Category')\n",
    "plt.ylabel('Transaction Count')\n",
    "plt.title('Fraudulent Transactions by Merchant Category')\n",
    "\n",
    "plt.show()"
   ]
  },
  {
   "cell_type": "markdown",
   "id": "045226ca",
   "metadata": {},
   "source": [
    "#### Finding:\n",
    "\n",
    "Looking at the table, I can see that the overall fraud rate is very low, ranging from 0.00% to 3.47%. Interestingly, some merchant categories have a zero fraud rate, which indicates that there are no fraudulent transactions in those categories.\n",
    "\n",
    "For example, I see that the categories \"mobileapps\", \"fuel\", \"food_delivery\", \"online_subscriptions\", \"cable/phone\", and \"gym\" all have zero fraud rates. This suggests that transactions in these categories are less likely to be fraudulent, which can be helpful in identifying potentially risky transactions.\n",
    "\n",
    "On the other hand, some categories have higher fraud rates, such as \"airline\", \"rideshare\", and \"online_retail\". This indicates that transactions in these categories may be more susceptible to fraudulent activity, and extra caution should be taken when processing transactions in these categories."
   ]
  },
  {
   "cell_type": "markdown",
   "id": "2d369458",
   "metadata": {},
   "source": [
    "#### Median Transaction Amount and Fraud Rate by Merchant Category"
   ]
  },
  {
   "cell_type": "code",
   "execution_count": 106,
   "id": "0e4282b5",
   "metadata": {},
   "outputs": [
    {
     "data": {
      "text/html": [
       "<div>\n",
       "<style scoped>\n",
       "    .dataframe tbody tr th:only-of-type {\n",
       "        vertical-align: middle;\n",
       "    }\n",
       "\n",
       "    .dataframe tbody tr th {\n",
       "        vertical-align: top;\n",
       "    }\n",
       "\n",
       "    .dataframe thead th {\n",
       "        text-align: right;\n",
       "    }\n",
       "</style>\n",
       "<table border=\"1\" class=\"dataframe\">\n",
       "  <thead>\n",
       "    <tr style=\"text-align: right;\">\n",
       "      <th></th>\n",
       "      <th>False</th>\n",
       "      <th>True</th>\n",
       "      <th>fraud rate</th>\n",
       "      <th>median_transactionAmount</th>\n",
       "    </tr>\n",
       "    <tr>\n",
       "      <th>merchantCategoryCode</th>\n",
       "      <th></th>\n",
       "      <th></th>\n",
       "      <th></th>\n",
       "      <th></th>\n",
       "    </tr>\n",
       "  </thead>\n",
       "  <tbody>\n",
       "    <tr>\n",
       "      <th>airline</th>\n",
       "      <td>14878.0</td>\n",
       "      <td>534.0</td>\n",
       "      <td>0.034648</td>\n",
       "      <td>98.460</td>\n",
       "    </tr>\n",
       "    <tr>\n",
       "      <th>rideshare</th>\n",
       "      <td>49864.0</td>\n",
       "      <td>1272.0</td>\n",
       "      <td>0.024875</td>\n",
       "      <td>100.080</td>\n",
       "    </tr>\n",
       "    <tr>\n",
       "      <th>online_retail</th>\n",
       "      <td>197218.0</td>\n",
       "      <td>4938.0</td>\n",
       "      <td>0.024427</td>\n",
       "      <td>98.950</td>\n",
       "    </tr>\n",
       "    <tr>\n",
       "      <th>online_gifts</th>\n",
       "      <td>64632.0</td>\n",
       "      <td>1606.0</td>\n",
       "      <td>0.024246</td>\n",
       "      <td>99.970</td>\n",
       "    </tr>\n",
       "    <tr>\n",
       "      <th>furniture</th>\n",
       "      <td>7329.0</td>\n",
       "      <td>103.0</td>\n",
       "      <td>0.013859</td>\n",
       "      <td>100.120</td>\n",
       "    </tr>\n",
       "    <tr>\n",
       "      <th>food</th>\n",
       "      <td>74476.0</td>\n",
       "      <td>1014.0</td>\n",
       "      <td>0.013432</td>\n",
       "      <td>98.680</td>\n",
       "    </tr>\n",
       "    <tr>\n",
       "      <th>auto</th>\n",
       "      <td>21378.0</td>\n",
       "      <td>273.0</td>\n",
       "      <td>0.012609</td>\n",
       "      <td>98.970</td>\n",
       "    </tr>\n",
       "    <tr>\n",
       "      <th>entertainment</th>\n",
       "      <td>79137.0</td>\n",
       "      <td>961.0</td>\n",
       "      <td>0.011998</td>\n",
       "      <td>100.120</td>\n",
       "    </tr>\n",
       "    <tr>\n",
       "      <th>fastfood</th>\n",
       "      <td>111064.0</td>\n",
       "      <td>1074.0</td>\n",
       "      <td>0.009577</td>\n",
       "      <td>99.485</td>\n",
       "    </tr>\n",
       "    <tr>\n",
       "      <th>subscriptions</th>\n",
       "      <td>22685.0</td>\n",
       "      <td>216.0</td>\n",
       "      <td>0.009432</td>\n",
       "      <td>100.800</td>\n",
       "    </tr>\n",
       "    <tr>\n",
       "      <th>hotels</th>\n",
       "      <td>33847.0</td>\n",
       "      <td>250.0</td>\n",
       "      <td>0.007332</td>\n",
       "      <td>99.730</td>\n",
       "    </tr>\n",
       "    <tr>\n",
       "      <th>health</th>\n",
       "      <td>19002.0</td>\n",
       "      <td>90.0</td>\n",
       "      <td>0.004714</td>\n",
       "      <td>98.895</td>\n",
       "    </tr>\n",
       "    <tr>\n",
       "      <th>personal care</th>\n",
       "      <td>18878.0</td>\n",
       "      <td>86.0</td>\n",
       "      <td>0.004535</td>\n",
       "      <td>99.695</td>\n",
       "    </tr>\n",
       "    <tr>\n",
       "      <th>mobileapps</th>\n",
       "      <td>14990.0</td>\n",
       "      <td>0.0</td>\n",
       "      <td>0.000000</td>\n",
       "      <td>5.860</td>\n",
       "    </tr>\n",
       "    <tr>\n",
       "      <th>fuel</th>\n",
       "      <td>23910.0</td>\n",
       "      <td>0.0</td>\n",
       "      <td>0.000000</td>\n",
       "      <td>45.870</td>\n",
       "    </tr>\n",
       "    <tr>\n",
       "      <th>food_delivery</th>\n",
       "      <td>6000.0</td>\n",
       "      <td>0.0</td>\n",
       "      <td>0.000000</td>\n",
       "      <td>51.110</td>\n",
       "    </tr>\n",
       "    <tr>\n",
       "      <th>online_subscriptions</th>\n",
       "      <td>11067.0</td>\n",
       "      <td>0.0</td>\n",
       "      <td>0.000000</td>\n",
       "      <td>14.720</td>\n",
       "    </tr>\n",
       "    <tr>\n",
       "      <th>cable/phone</th>\n",
       "      <td>1382.0</td>\n",
       "      <td>0.0</td>\n",
       "      <td>0.000000</td>\n",
       "      <td>98.500</td>\n",
       "    </tr>\n",
       "    <tr>\n",
       "      <th>gym</th>\n",
       "      <td>2209.0</td>\n",
       "      <td>0.0</td>\n",
       "      <td>0.000000</td>\n",
       "      <td>34.450</td>\n",
       "    </tr>\n",
       "  </tbody>\n",
       "</table>\n",
       "</div>"
      ],
      "text/plain": [
       "                         False    True  fraud rate  median_transactionAmount\n",
       "merchantCategoryCode                                                        \n",
       "airline                14878.0   534.0    0.034648                    98.460\n",
       "rideshare              49864.0  1272.0    0.024875                   100.080\n",
       "online_retail         197218.0  4938.0    0.024427                    98.950\n",
       "online_gifts           64632.0  1606.0    0.024246                    99.970\n",
       "furniture               7329.0   103.0    0.013859                   100.120\n",
       "food                   74476.0  1014.0    0.013432                    98.680\n",
       "auto                   21378.0   273.0    0.012609                    98.970\n",
       "entertainment          79137.0   961.0    0.011998                   100.120\n",
       "fastfood              111064.0  1074.0    0.009577                    99.485\n",
       "subscriptions          22685.0   216.0    0.009432                   100.800\n",
       "hotels                 33847.0   250.0    0.007332                    99.730\n",
       "health                 19002.0    90.0    0.004714                    98.895\n",
       "personal care          18878.0    86.0    0.004535                    99.695\n",
       "mobileapps             14990.0     0.0    0.000000                     5.860\n",
       "fuel                   23910.0     0.0    0.000000                    45.870\n",
       "food_delivery           6000.0     0.0    0.000000                    51.110\n",
       "online_subscriptions   11067.0     0.0    0.000000                    14.720\n",
       "cable/phone             1382.0     0.0    0.000000                    98.500\n",
       "gym                     2209.0     0.0    0.000000                    34.450"
      ]
     },
     "execution_count": 106,
     "metadata": {},
     "output_type": "execute_result"
    }
   ],
   "source": [
    "# Median Transaction Amount and Fraud Rate by Merchant Category\n",
    "mc_fr_median_amount = pd.merge(merchantCategory_fraud,\n",
    "                               median_transactionAmount,\n",
    "                               how = 'inner',\n",
    "                               left_index = True,\n",
    "                               right_index = True)\n",
    "mc_fr_median_amount = mc_fr_median_amount.rename(columns={'transactionAmount': 'median_transactionAmount'})\n",
    "mc_fr_median_amount = mc_fr_median_amount.sort_values('fraud rate',ascending=False)\n",
    "mc_fr_median_amount"
   ]
  },
  {
   "cell_type": "markdown",
   "id": "5c6c58f9",
   "metadata": {},
   "source": [
    "#### Finding:\n",
    "\n",
    "I can be observed that the fraud rate varies across different merchant categories. \n",
    "\n",
    "Interestingly, it can also be seen that the median transaction amount for merchant categories with relatively high fraud rates (such as airline and rideshare) is higher compared to those with low fraud rates (such as gym and online subscriptions). \n",
    "\n",
    "This suggests that there is a correlation between the median transaction amount and the likelihood of fraud in a particular merchant category."
   ]
  },
  {
   "cell_type": "markdown",
   "id": "804c8002",
   "metadata": {},
   "source": [
    "## Question 3 \n",
    "## Data Wrangling - Duplicate Transactions"
   ]
  },
  {
   "cell_type": "markdown",
   "id": "f7aa50e4",
   "metadata": {},
   "source": [
    "### 1. First Assumption of duplicate transactions: reversal transaction\n"
   ]
  },
  {
   "cell_type": "markdown",
   "id": "47c3c4b7",
   "metadata": {},
   "source": [
    "A reversed transaction in credit card transactions can seen as a chargeback. I think it occurs when a cardholder disputes a transaction and requests that the bank or card issuer reverse the charge and refund the amount back to their account.\n",
    "\n",
    "And I believe there are various reasons why a cardholder may initiate a chargeback, including fraudulent transactions, goods or services not delivered or not as described, duplicate charges, unauthorized transactions, or errors in processing. So I think this type transactions can be seen as duplicate transactions."
   ]
  },
  {
   "cell_type": "markdown",
   "id": "880741d3",
   "metadata": {},
   "source": [
    "##### Assumption 1 of reversal transaction:\n",
    "\n",
    "I assume that purchase transactions and reversal transactions are successive, the same account number, same merchantName, the same transaction amount.   "
   ]
  },
  {
   "cell_type": "markdown",
   "id": "f390c2d9",
   "metadata": {},
   "source": [
    "Now, I will sort the datasets in ascending order based on several columns, including customerID, merchantName, and Timestamp, to identify purchase-reversal consecutive transactions that occur over time."
   ]
  },
  {
   "cell_type": "code",
   "execution_count": 107,
   "id": "001c7f4d",
   "metadata": {},
   "outputs": [
    {
     "data": {
      "text/html": [
       "<div>\n",
       "<style scoped>\n",
       "    .dataframe tbody tr th:only-of-type {\n",
       "        vertical-align: middle;\n",
       "    }\n",
       "\n",
       "    .dataframe tbody tr th {\n",
       "        vertical-align: top;\n",
       "    }\n",
       "\n",
       "    .dataframe thead th {\n",
       "        text-align: right;\n",
       "    }\n",
       "</style>\n",
       "<table border=\"1\" class=\"dataframe\">\n",
       "  <thead>\n",
       "    <tr style=\"text-align: right;\">\n",
       "      <th></th>\n",
       "      <th>accountNumber</th>\n",
       "      <th>customerId</th>\n",
       "      <th>creditLimit</th>\n",
       "      <th>availableMoney</th>\n",
       "      <th>transactionDateTime</th>\n",
       "      <th>transactionAmount</th>\n",
       "      <th>merchantName</th>\n",
       "      <th>acqCountry</th>\n",
       "      <th>merchantCountryCode</th>\n",
       "      <th>posEntryMode</th>\n",
       "      <th>...</th>\n",
       "      <th>cardLast4Digits</th>\n",
       "      <th>transactionType</th>\n",
       "      <th>currentBalance</th>\n",
       "      <th>cardPresent</th>\n",
       "      <th>expirationDateKeyInMatch</th>\n",
       "      <th>isFraud</th>\n",
       "      <th>Date</th>\n",
       "      <th>Time</th>\n",
       "      <th>Timestamp</th>\n",
       "      <th>dataindex</th>\n",
       "    </tr>\n",
       "  </thead>\n",
       "  <tbody>\n",
       "    <tr>\n",
       "      <th>0</th>\n",
       "      <td>100088067</td>\n",
       "      <td>100088067</td>\n",
       "      <td>50000</td>\n",
       "      <td>49953.81</td>\n",
       "      <td>2016-04-08T19:56:36</td>\n",
       "      <td>200.12</td>\n",
       "      <td>1st BBQ</td>\n",
       "      <td>US</td>\n",
       "      <td>US</td>\n",
       "      <td>09</td>\n",
       "      <td>...</td>\n",
       "      <td>4615</td>\n",
       "      <td>PURCHASE</td>\n",
       "      <td>46.19</td>\n",
       "      <td>True</td>\n",
       "      <td>False</td>\n",
       "      <td>False</td>\n",
       "      <td>2016-04-08</td>\n",
       "      <td>19:56:36</td>\n",
       "      <td>2016-04-08 19:56:36</td>\n",
       "      <td>0</td>\n",
       "    </tr>\n",
       "    <tr>\n",
       "      <th>1</th>\n",
       "      <td>100088067</td>\n",
       "      <td>100088067</td>\n",
       "      <td>50000</td>\n",
       "      <td>49929.31</td>\n",
       "      <td>2016-11-09T07:26:06</td>\n",
       "      <td>95.11</td>\n",
       "      <td>1st Pub</td>\n",
       "      <td>US</td>\n",
       "      <td>US</td>\n",
       "      <td>02</td>\n",
       "      <td>...</td>\n",
       "      <td>2077</td>\n",
       "      <td>PURCHASE</td>\n",
       "      <td>70.69</td>\n",
       "      <td>True</td>\n",
       "      <td>False</td>\n",
       "      <td>False</td>\n",
       "      <td>2016-11-09</td>\n",
       "      <td>07:26:06</td>\n",
       "      <td>2016-11-09 07:26:06</td>\n",
       "      <td>1</td>\n",
       "    </tr>\n",
       "    <tr>\n",
       "      <th>2</th>\n",
       "      <td>100088067</td>\n",
       "      <td>100088067</td>\n",
       "      <td>50000</td>\n",
       "      <td>49996.04</td>\n",
       "      <td>2016-05-06T02:54:01</td>\n",
       "      <td>5.26</td>\n",
       "      <td>1st Sandwitch Bar #758805</td>\n",
       "      <td>US</td>\n",
       "      <td>US</td>\n",
       "      <td>02</td>\n",
       "      <td>...</td>\n",
       "      <td>4615</td>\n",
       "      <td>PURCHASE</td>\n",
       "      <td>3.96</td>\n",
       "      <td>True</td>\n",
       "      <td>False</td>\n",
       "      <td>False</td>\n",
       "      <td>2016-05-06</td>\n",
       "      <td>02:54:01</td>\n",
       "      <td>2016-05-06 02:54:01</td>\n",
       "      <td>2</td>\n",
       "    </tr>\n",
       "    <tr>\n",
       "      <th>3</th>\n",
       "      <td>100088067</td>\n",
       "      <td>100088067</td>\n",
       "      <td>50000</td>\n",
       "      <td>49933.93</td>\n",
       "      <td>2016-02-03T04:48:54</td>\n",
       "      <td>141.60</td>\n",
       "      <td>34th BBQ #412895</td>\n",
       "      <td>US</td>\n",
       "      <td>US</td>\n",
       "      <td>09</td>\n",
       "      <td>...</td>\n",
       "      <td>4615</td>\n",
       "      <td>PURCHASE</td>\n",
       "      <td>66.07</td>\n",
       "      <td>True</td>\n",
       "      <td>False</td>\n",
       "      <td>False</td>\n",
       "      <td>2016-02-03</td>\n",
       "      <td>04:48:54</td>\n",
       "      <td>2016-02-03 04:48:54</td>\n",
       "      <td>3</td>\n",
       "    </tr>\n",
       "    <tr>\n",
       "      <th>4</th>\n",
       "      <td>100088067</td>\n",
       "      <td>100088067</td>\n",
       "      <td>50000</td>\n",
       "      <td>50000.00</td>\n",
       "      <td>2016-06-03T18:50:55</td>\n",
       "      <td>304.15</td>\n",
       "      <td>AMC #191138</td>\n",
       "      <td>US</td>\n",
       "      <td>US</td>\n",
       "      <td>02</td>\n",
       "      <td>...</td>\n",
       "      <td>4615</td>\n",
       "      <td>PURCHASE</td>\n",
       "      <td>0.00</td>\n",
       "      <td>True</td>\n",
       "      <td>False</td>\n",
       "      <td>False</td>\n",
       "      <td>2016-06-03</td>\n",
       "      <td>18:50:55</td>\n",
       "      <td>2016-06-03 18:50:55</td>\n",
       "      <td>4</td>\n",
       "    </tr>\n",
       "  </tbody>\n",
       "</table>\n",
       "<p>5 rows × 27 columns</p>\n",
       "</div>"
      ],
      "text/plain": [
       "   accountNumber  customerId  creditLimit  availableMoney  \\\n",
       "0      100088067   100088067        50000        49953.81   \n",
       "1      100088067   100088067        50000        49929.31   \n",
       "2      100088067   100088067        50000        49996.04   \n",
       "3      100088067   100088067        50000        49933.93   \n",
       "4      100088067   100088067        50000        50000.00   \n",
       "\n",
       "   transactionDateTime  transactionAmount               merchantName  \\\n",
       "0  2016-04-08T19:56:36             200.12                    1st BBQ   \n",
       "1  2016-11-09T07:26:06              95.11                    1st Pub   \n",
       "2  2016-05-06T02:54:01               5.26  1st Sandwitch Bar #758805   \n",
       "3  2016-02-03T04:48:54             141.60           34th BBQ #412895   \n",
       "4  2016-06-03T18:50:55             304.15                AMC #191138   \n",
       "\n",
       "  acqCountry merchantCountryCode posEntryMode  ... cardLast4Digits  \\\n",
       "0         US                  US           09  ...            4615   \n",
       "1         US                  US           02  ...            2077   \n",
       "2         US                  US           02  ...            4615   \n",
       "3         US                  US           09  ...            4615   \n",
       "4         US                  US           02  ...            4615   \n",
       "\n",
       "  transactionType currentBalance cardPresent expirationDateKeyInMatch  \\\n",
       "0        PURCHASE          46.19        True                    False   \n",
       "1        PURCHASE          70.69        True                    False   \n",
       "2        PURCHASE           3.96        True                    False   \n",
       "3        PURCHASE          66.07        True                    False   \n",
       "4        PURCHASE           0.00        True                    False   \n",
       "\n",
       "   isFraud       Date      Time           Timestamp  dataindex  \n",
       "0    False 2016-04-08  19:56:36 2016-04-08 19:56:36          0  \n",
       "1    False 2016-11-09  07:26:06 2016-11-09 07:26:06          1  \n",
       "2    False 2016-05-06  02:54:01 2016-05-06 02:54:01          2  \n",
       "3    False 2016-02-03  04:48:54 2016-02-03 04:48:54          3  \n",
       "4    False 2016-06-03  18:50:55 2016-06-03 18:50:55          4  \n",
       "\n",
       "[5 rows x 27 columns]"
      ]
     },
     "execution_count": 107,
     "metadata": {},
     "output_type": "execute_result"
    }
   ],
   "source": [
    "data_v1 = data.sort_values(by=['customerId','merchantName','Timestamp'],ascending=True)\n",
    "\n",
    "# remove trsanctions whose transactionType is ADDRESS_VERIIFICATION and reset index\n",
    "data_v1 = data_v1[(data_v1['transactionType']=='PURCHASE')|(data_v1['transactionType']=='REVERSAL')]\n",
    "data_v1 = data_v1.reset_index(drop=True)\n",
    "data_v1['dataindex'] = data_v1.index\n",
    "data_v1.head(5)"
   ]
  },
  {
   "cell_type": "code",
   "execution_count": 108,
   "id": "316a6bbc",
   "metadata": {},
   "outputs": [],
   "source": [
    "# Get Reversal Transactions Index\n",
    "reversal_index = data_v1[data_v1['transactionType'] == 'REVERSAL'].index.values.astype(int)"
   ]
  },
  {
   "cell_type": "code",
   "execution_count": 109,
   "id": "4c1d2657",
   "metadata": {},
   "outputs": [
    {
     "name": "stderr",
     "output_type": "stream",
     "text": [
      "/var/folders/9b/mzzkk68969n4702kpcrcv8b40000gn/T/ipykernel_12936/1501163233.py:3: SettingWithCopyWarning: \n",
      "A value is trying to be set on a copy of a slice from a DataFrame.\n",
      "Try using .loc[row_indexer,col_indexer] = value instead\n",
      "\n",
      "See the caveats in the documentation: https://pandas.pydata.org/pandas-docs/stable/user_guide/indexing.html#returning-a-view-versus-a-copy\n",
      "  reversal_df['reversal_index'] = reversal_index\n"
     ]
    },
    {
     "data": {
      "text/html": [
       "<div>\n",
       "<style scoped>\n",
       "    .dataframe tbody tr th:only-of-type {\n",
       "        vertical-align: middle;\n",
       "    }\n",
       "\n",
       "    .dataframe tbody tr th {\n",
       "        vertical-align: top;\n",
       "    }\n",
       "\n",
       "    .dataframe thead th {\n",
       "        text-align: right;\n",
       "    }\n",
       "</style>\n",
       "<table border=\"1\" class=\"dataframe\">\n",
       "  <thead>\n",
       "    <tr style=\"text-align: right;\">\n",
       "      <th></th>\n",
       "      <th>accountNumber</th>\n",
       "      <th>customerId</th>\n",
       "      <th>creditLimit</th>\n",
       "      <th>availableMoney</th>\n",
       "      <th>transactionDateTime</th>\n",
       "      <th>transactionAmount</th>\n",
       "      <th>merchantName</th>\n",
       "      <th>acqCountry</th>\n",
       "      <th>merchantCountryCode</th>\n",
       "      <th>posEntryMode</th>\n",
       "      <th>...</th>\n",
       "      <th>transactionType</th>\n",
       "      <th>currentBalance</th>\n",
       "      <th>cardPresent</th>\n",
       "      <th>expirationDateKeyInMatch</th>\n",
       "      <th>isFraud</th>\n",
       "      <th>Date</th>\n",
       "      <th>Time</th>\n",
       "      <th>Timestamp</th>\n",
       "      <th>dataindex</th>\n",
       "      <th>reversal_index</th>\n",
       "    </tr>\n",
       "  </thead>\n",
       "  <tbody>\n",
       "    <tr>\n",
       "      <th>13</th>\n",
       "      <td>100088067</td>\n",
       "      <td>100088067</td>\n",
       "      <td>50000</td>\n",
       "      <td>49811.88</td>\n",
       "      <td>2016-11-20T08:00:04</td>\n",
       "      <td>22.32</td>\n",
       "      <td>AMC #79863</td>\n",
       "      <td>US</td>\n",
       "      <td>US</td>\n",
       "      <td>09</td>\n",
       "      <td>...</td>\n",
       "      <td>REVERSAL</td>\n",
       "      <td>188.12</td>\n",
       "      <td>True</td>\n",
       "      <td>False</td>\n",
       "      <td>False</td>\n",
       "      <td>2016-11-20</td>\n",
       "      <td>08:00:04</td>\n",
       "      <td>2016-11-20 08:00:04</td>\n",
       "      <td>13</td>\n",
       "      <td>13</td>\n",
       "    </tr>\n",
       "    <tr>\n",
       "      <th>124</th>\n",
       "      <td>100328049</td>\n",
       "      <td>100328049</td>\n",
       "      <td>5000</td>\n",
       "      <td>4605.10</td>\n",
       "      <td>2016-01-15T20:36:18</td>\n",
       "      <td>43.74</td>\n",
       "      <td>Lyft</td>\n",
       "      <td>US</td>\n",
       "      <td>US</td>\n",
       "      <td>09</td>\n",
       "      <td>...</td>\n",
       "      <td>REVERSAL</td>\n",
       "      <td>394.90</td>\n",
       "      <td>False</td>\n",
       "      <td>False</td>\n",
       "      <td>False</td>\n",
       "      <td>2016-01-15</td>\n",
       "      <td>20:36:18</td>\n",
       "      <td>2016-01-15 20:36:18</td>\n",
       "      <td>124</td>\n",
       "      <td>124</td>\n",
       "    </tr>\n",
       "  </tbody>\n",
       "</table>\n",
       "<p>2 rows × 28 columns</p>\n",
       "</div>"
      ],
      "text/plain": [
       "     accountNumber  customerId  creditLimit  availableMoney  \\\n",
       "13       100088067   100088067        50000        49811.88   \n",
       "124      100328049   100328049         5000         4605.10   \n",
       "\n",
       "     transactionDateTime  transactionAmount merchantName acqCountry  \\\n",
       "13   2016-11-20T08:00:04              22.32   AMC #79863         US   \n",
       "124  2016-01-15T20:36:18              43.74         Lyft         US   \n",
       "\n",
       "    merchantCountryCode posEntryMode  ... transactionType currentBalance  \\\n",
       "13                   US           09  ...        REVERSAL         188.12   \n",
       "124                  US           09  ...        REVERSAL         394.90   \n",
       "\n",
       "    cardPresent expirationDateKeyInMatch isFraud       Date      Time  \\\n",
       "13         True                    False   False 2016-11-20  08:00:04   \n",
       "124       False                    False   False 2016-01-15  20:36:18   \n",
       "\n",
       "              Timestamp dataindex  reversal_index  \n",
       "13  2016-11-20 08:00:04        13              13  \n",
       "124 2016-01-15 20:36:18       124             124  \n",
       "\n",
       "[2 rows x 28 columns]"
      ]
     },
     "execution_count": 109,
     "metadata": {},
     "output_type": "execute_result"
    }
   ],
   "source": [
    "# Create Reversal Transactions DataFrame\n",
    "reversal_df = data_v1.iloc[reversal_index]\n",
    "reversal_df['reversal_index'] = reversal_index\n",
    "reversal_df.head(2)"
   ]
  },
  {
   "cell_type": "code",
   "execution_count": 110,
   "id": "b93f47da",
   "metadata": {},
   "outputs": [
    {
     "name": "stdout",
     "output_type": "stream",
     "text": [
      "There are 20303 reversal transactions in the all transactions\n"
     ]
    }
   ],
   "source": [
    "reversal_tra_num = reversal_df.shape[0]\n",
    "print(f'There are {reversal_tra_num} reversal transactions in the all transactions')"
   ]
  },
  {
   "cell_type": "code",
   "execution_count": 111,
   "id": "c401fe80",
   "metadata": {},
   "outputs": [],
   "source": [
    "# Get consecutive index\n",
    "prev_index_equal_purchase = reversal_index - 1"
   ]
  },
  {
   "cell_type": "code",
   "execution_count": 112,
   "id": "1053b401",
   "metadata": {},
   "outputs": [
    {
     "name": "stderr",
     "output_type": "stream",
     "text": [
      "/var/folders/9b/mzzkk68969n4702kpcrcv8b40000gn/T/ipykernel_12936/4010265600.py:3: SettingWithCopyWarning: \n",
      "A value is trying to be set on a copy of a slice from a DataFrame.\n",
      "Try using .loc[row_indexer,col_indexer] = value instead\n",
      "\n",
      "See the caveats in the documentation: https://pandas.pydata.org/pandas-docs/stable/user_guide/indexing.html#returning-a-view-versus-a-copy\n",
      "  purchase_df['purchase_index'] = prev_index_equal_purchase\n"
     ]
    },
    {
     "data": {
      "text/plain": [
       "PURCHASE    20109\n",
       "REVERSAL      194\n",
       "Name: transactionType, dtype: int64"
      ]
     },
     "execution_count": 112,
     "metadata": {},
     "output_type": "execute_result"
    }
   ],
   "source": [
    "# Create consecutive transaction dataframe\n",
    "purchase_df = data_v1.iloc[prev_index_equal_purchase]\n",
    "purchase_df['purchase_index'] = prev_index_equal_purchase\n",
    "purchase_df['transactionType'].value_counts()"
   ]
  },
  {
   "cell_type": "markdown",
   "id": "b079ab22",
   "metadata": {},
   "source": [
    "##### Now, I know that purchase transactions and reversal transactions are not always consecutive. Once I finish analyzing consecutive purchase-reversal transactions, I will then analyze non-consecutive purchase-reversal transactions."
   ]
  },
  {
   "cell_type": "code",
   "execution_count": 113,
   "id": "898c8631",
   "metadata": {},
   "outputs": [
    {
     "name": "stderr",
     "output_type": "stream",
     "text": [
      "/var/folders/9b/mzzkk68969n4702kpcrcv8b40000gn/T/ipykernel_12936/2779469278.py:3: SettingWithCopyWarning: \n",
      "A value is trying to be set on a copy of a slice from a DataFrame.\n",
      "Try using .loc[row_indexer,col_indexer] = value instead\n",
      "\n",
      "See the caveats in the documentation: https://pandas.pydata.org/pandas-docs/stable/user_guide/indexing.html#returning-a-view-versus-a-copy\n",
      "  purchase_df['reversal_index'] = purchase_df['purchase_index']+1\n"
     ]
    },
    {
     "data": {
      "text/html": [
       "<div>\n",
       "<style scoped>\n",
       "    .dataframe tbody tr th:only-of-type {\n",
       "        vertical-align: middle;\n",
       "    }\n",
       "\n",
       "    .dataframe tbody tr th {\n",
       "        vertical-align: top;\n",
       "    }\n",
       "\n",
       "    .dataframe thead th {\n",
       "        text-align: right;\n",
       "    }\n",
       "</style>\n",
       "<table border=\"1\" class=\"dataframe\">\n",
       "  <thead>\n",
       "    <tr style=\"text-align: right;\">\n",
       "      <th></th>\n",
       "      <th>accountNumber</th>\n",
       "      <th>customerId</th>\n",
       "      <th>creditLimit</th>\n",
       "      <th>availableMoney</th>\n",
       "      <th>transactionDateTime</th>\n",
       "      <th>transactionAmount</th>\n",
       "      <th>merchantName</th>\n",
       "      <th>acqCountry</th>\n",
       "      <th>merchantCountryCode</th>\n",
       "      <th>posEntryMode</th>\n",
       "      <th>...</th>\n",
       "      <th>currentBalance</th>\n",
       "      <th>cardPresent</th>\n",
       "      <th>expirationDateKeyInMatch</th>\n",
       "      <th>isFraud</th>\n",
       "      <th>Date</th>\n",
       "      <th>Time</th>\n",
       "      <th>Timestamp</th>\n",
       "      <th>dataindex</th>\n",
       "      <th>purchase_index</th>\n",
       "      <th>reversal_index</th>\n",
       "    </tr>\n",
       "  </thead>\n",
       "  <tbody>\n",
       "    <tr>\n",
       "      <th>12</th>\n",
       "      <td>100088067</td>\n",
       "      <td>100088067</td>\n",
       "      <td>50000</td>\n",
       "      <td>49834.20</td>\n",
       "      <td>2016-11-20T07:57:05</td>\n",
       "      <td>22.32</td>\n",
       "      <td>AMC #79863</td>\n",
       "      <td>US</td>\n",
       "      <td>US</td>\n",
       "      <td>09</td>\n",
       "      <td>...</td>\n",
       "      <td>165.80</td>\n",
       "      <td>True</td>\n",
       "      <td>False</td>\n",
       "      <td>False</td>\n",
       "      <td>2016-11-20</td>\n",
       "      <td>07:57:05</td>\n",
       "      <td>2016-11-20 07:57:05</td>\n",
       "      <td>12</td>\n",
       "      <td>12</td>\n",
       "      <td>13</td>\n",
       "    </tr>\n",
       "    <tr>\n",
       "      <th>123</th>\n",
       "      <td>100328049</td>\n",
       "      <td>100328049</td>\n",
       "      <td>5000</td>\n",
       "      <td>4648.84</td>\n",
       "      <td>2016-01-15T20:34:35</td>\n",
       "      <td>43.74</td>\n",
       "      <td>Lyft</td>\n",
       "      <td>US</td>\n",
       "      <td>US</td>\n",
       "      <td>09</td>\n",
       "      <td>...</td>\n",
       "      <td>351.16</td>\n",
       "      <td>False</td>\n",
       "      <td>False</td>\n",
       "      <td>False</td>\n",
       "      <td>2016-01-15</td>\n",
       "      <td>20:34:35</td>\n",
       "      <td>2016-01-15 20:34:35</td>\n",
       "      <td>123</td>\n",
       "      <td>123</td>\n",
       "      <td>124</td>\n",
       "    </tr>\n",
       "  </tbody>\n",
       "</table>\n",
       "<p>2 rows × 29 columns</p>\n",
       "</div>"
      ],
      "text/plain": [
       "     accountNumber  customerId  creditLimit  availableMoney  \\\n",
       "12       100088067   100088067        50000        49834.20   \n",
       "123      100328049   100328049         5000         4648.84   \n",
       "\n",
       "     transactionDateTime  transactionAmount merchantName acqCountry  \\\n",
       "12   2016-11-20T07:57:05              22.32   AMC #79863         US   \n",
       "123  2016-01-15T20:34:35              43.74         Lyft         US   \n",
       "\n",
       "    merchantCountryCode posEntryMode  ... currentBalance cardPresent  \\\n",
       "12                   US           09  ...         165.80        True   \n",
       "123                  US           09  ...         351.16       False   \n",
       "\n",
       "    expirationDateKeyInMatch isFraud       Date      Time           Timestamp  \\\n",
       "12                     False   False 2016-11-20  07:57:05 2016-11-20 07:57:05   \n",
       "123                    False   False 2016-01-15  20:34:35 2016-01-15 20:34:35   \n",
       "\n",
       "     dataindex purchase_index  reversal_index  \n",
       "12          12             12              13  \n",
       "123        123            123             124  \n",
       "\n",
       "[2 rows x 29 columns]"
      ]
     },
     "execution_count": 113,
     "metadata": {},
     "output_type": "execute_result"
    }
   ],
   "source": [
    "# Create only purchase transaction dataframe in the consecutive transactions\n",
    "purchase_df = purchase_df[purchase_df['transactionType']=='PURCHASE']\n",
    "purchase_df['reversal_index'] = purchase_df['purchase_index']+1\n",
    "purchase_df.head(2)"
   ]
  },
  {
   "cell_type": "code",
   "execution_count": 114,
   "id": "3474dc2c",
   "metadata": {},
   "outputs": [
    {
     "data": {
      "text/html": [
       "<div>\n",
       "<style scoped>\n",
       "    .dataframe tbody tr th:only-of-type {\n",
       "        vertical-align: middle;\n",
       "    }\n",
       "\n",
       "    .dataframe tbody tr th {\n",
       "        vertical-align: top;\n",
       "    }\n",
       "\n",
       "    .dataframe thead th {\n",
       "        text-align: right;\n",
       "    }\n",
       "</style>\n",
       "<table border=\"1\" class=\"dataframe\">\n",
       "  <thead>\n",
       "    <tr style=\"text-align: right;\">\n",
       "      <th></th>\n",
       "      <th>accountNumber</th>\n",
       "      <th>transactionAmount</th>\n",
       "      <th>merchantName</th>\n",
       "      <th>Timestamp_x</th>\n",
       "      <th>transactionType_x</th>\n",
       "      <th>purchase_index</th>\n",
       "      <th>Timestamp_y</th>\n",
       "      <th>transactionType_y</th>\n",
       "      <th>reversal_index</th>\n",
       "    </tr>\n",
       "  </thead>\n",
       "  <tbody>\n",
       "    <tr>\n",
       "      <th>0</th>\n",
       "      <td>100088067</td>\n",
       "      <td>22.32</td>\n",
       "      <td>AMC #79863</td>\n",
       "      <td>2016-11-20 07:57:05</td>\n",
       "      <td>PURCHASE</td>\n",
       "      <td>12</td>\n",
       "      <td>2016-11-20 08:00:04</td>\n",
       "      <td>REVERSAL</td>\n",
       "      <td>13</td>\n",
       "    </tr>\n",
       "    <tr>\n",
       "      <th>1</th>\n",
       "      <td>100328049</td>\n",
       "      <td>43.74</td>\n",
       "      <td>Lyft</td>\n",
       "      <td>2016-01-15 20:34:35</td>\n",
       "      <td>PURCHASE</td>\n",
       "      <td>123</td>\n",
       "      <td>2016-01-15 20:36:18</td>\n",
       "      <td>REVERSAL</td>\n",
       "      <td>124</td>\n",
       "    </tr>\n",
       "  </tbody>\n",
       "</table>\n",
       "</div>"
      ],
      "text/plain": [
       "   accountNumber  transactionAmount merchantName         Timestamp_x  \\\n",
       "0      100088067              22.32   AMC #79863 2016-11-20 07:57:05   \n",
       "1      100328049              43.74         Lyft 2016-01-15 20:34:35   \n",
       "\n",
       "  transactionType_x  purchase_index         Timestamp_y transactionType_y  \\\n",
       "0          PURCHASE              12 2016-11-20 08:00:04          REVERSAL   \n",
       "1          PURCHASE             123 2016-01-15 20:36:18          REVERSAL   \n",
       "\n",
       "   reversal_index  \n",
       "0              13  \n",
       "1             124  "
      ]
     },
     "execution_count": 114,
     "metadata": {},
     "output_type": "execute_result"
    }
   ],
   "source": [
    "# Merge purchase-reversal transactions to a dataframe with the same account number, same merchantName, the same transaction amount\n",
    "merge_df = pd.merge(purchase_df, reversal_df, how = 'inner',\n",
    "                    on = ['accountNumber', 'transactionAmount','merchantName','reversal_index'])\n",
    "merge_df = merge_df[['accountNumber','transactionAmount','merchantName',\n",
    "                     'Timestamp_x','transactionType_x','purchase_index',\n",
    "                     'Timestamp_y','transactionType_y','reversal_index']]\n",
    "merge_df.head(2)"
   ]
  },
  {
   "cell_type": "code",
   "execution_count": 115,
   "id": "26929b4c",
   "metadata": {},
   "outputs": [
    {
     "data": {
      "text/html": [
       "<div>\n",
       "<style scoped>\n",
       "    .dataframe tbody tr th:only-of-type {\n",
       "        vertical-align: middle;\n",
       "    }\n",
       "\n",
       "    .dataframe tbody tr th {\n",
       "        vertical-align: top;\n",
       "    }\n",
       "\n",
       "    .dataframe thead th {\n",
       "        text-align: right;\n",
       "    }\n",
       "</style>\n",
       "<table border=\"1\" class=\"dataframe\">\n",
       "  <thead>\n",
       "    <tr style=\"text-align: right;\">\n",
       "      <th></th>\n",
       "      <th>accountNumber</th>\n",
       "      <th>customerId</th>\n",
       "      <th>creditLimit</th>\n",
       "      <th>availableMoney</th>\n",
       "      <th>transactionDateTime</th>\n",
       "      <th>transactionAmount</th>\n",
       "      <th>merchantName</th>\n",
       "      <th>acqCountry</th>\n",
       "      <th>merchantCountryCode</th>\n",
       "      <th>posEntryMode</th>\n",
       "      <th>...</th>\n",
       "      <th>cardLast4Digits</th>\n",
       "      <th>transactionType</th>\n",
       "      <th>currentBalance</th>\n",
       "      <th>cardPresent</th>\n",
       "      <th>expirationDateKeyInMatch</th>\n",
       "      <th>isFraud</th>\n",
       "      <th>Date</th>\n",
       "      <th>Time</th>\n",
       "      <th>Timestamp</th>\n",
       "      <th>dataindex</th>\n",
       "    </tr>\n",
       "  </thead>\n",
       "  <tbody>\n",
       "    <tr>\n",
       "      <th>12</th>\n",
       "      <td>100088067</td>\n",
       "      <td>100088067</td>\n",
       "      <td>50000</td>\n",
       "      <td>49834.20</td>\n",
       "      <td>2016-11-20T07:57:05</td>\n",
       "      <td>22.32</td>\n",
       "      <td>AMC #79863</td>\n",
       "      <td>US</td>\n",
       "      <td>US</td>\n",
       "      <td>09</td>\n",
       "      <td>...</td>\n",
       "      <td>4615</td>\n",
       "      <td>PURCHASE</td>\n",
       "      <td>165.80</td>\n",
       "      <td>True</td>\n",
       "      <td>False</td>\n",
       "      <td>False</td>\n",
       "      <td>2016-11-20</td>\n",
       "      <td>07:57:05</td>\n",
       "      <td>2016-11-20 07:57:05</td>\n",
       "      <td>12</td>\n",
       "    </tr>\n",
       "    <tr>\n",
       "      <th>123</th>\n",
       "      <td>100328049</td>\n",
       "      <td>100328049</td>\n",
       "      <td>5000</td>\n",
       "      <td>4648.84</td>\n",
       "      <td>2016-01-15T20:34:35</td>\n",
       "      <td>43.74</td>\n",
       "      <td>Lyft</td>\n",
       "      <td>US</td>\n",
       "      <td>US</td>\n",
       "      <td>09</td>\n",
       "      <td>...</td>\n",
       "      <td>2941</td>\n",
       "      <td>PURCHASE</td>\n",
       "      <td>351.16</td>\n",
       "      <td>False</td>\n",
       "      <td>False</td>\n",
       "      <td>False</td>\n",
       "      <td>2016-01-15</td>\n",
       "      <td>20:34:35</td>\n",
       "      <td>2016-01-15 20:34:35</td>\n",
       "      <td>123</td>\n",
       "    </tr>\n",
       "  </tbody>\n",
       "</table>\n",
       "<p>2 rows × 27 columns</p>\n",
       "</div>"
      ],
      "text/plain": [
       "     accountNumber  customerId  creditLimit  availableMoney  \\\n",
       "12       100088067   100088067        50000        49834.20   \n",
       "123      100328049   100328049         5000         4648.84   \n",
       "\n",
       "     transactionDateTime  transactionAmount merchantName acqCountry  \\\n",
       "12   2016-11-20T07:57:05              22.32   AMC #79863         US   \n",
       "123  2016-01-15T20:34:35              43.74         Lyft         US   \n",
       "\n",
       "    merchantCountryCode posEntryMode  ... cardLast4Digits transactionType  \\\n",
       "12                   US           09  ...            4615        PURCHASE   \n",
       "123                  US           09  ...            2941        PURCHASE   \n",
       "\n",
       "    currentBalance cardPresent expirationDateKeyInMatch  isFraud       Date  \\\n",
       "12          165.80        True                    False    False 2016-11-20   \n",
       "123         351.16       False                    False    False 2016-01-15   \n",
       "\n",
       "         Time           Timestamp  dataindex  \n",
       "12   07:57:05 2016-11-20 07:57:05         12  \n",
       "123  20:34:35 2016-01-15 20:34:35        123  \n",
       "\n",
       "[2 rows x 27 columns]"
      ]
     },
     "execution_count": 115,
     "metadata": {},
     "output_type": "execute_result"
    }
   ],
   "source": [
    "# Create consecutive purchase-reversal transaction dataframe\n",
    "con_purchase_index = merge_df['purchase_index'].to_list()\n",
    "con_reversal_index = merge_df['reversal_index'].to_list()\n",
    "all_con_index = con_purchase_index + con_reversal_index\n",
    "all_con_df = data_v1.iloc[all_con_index]\n",
    "all_con_df.head(2)"
   ]
  },
  {
   "cell_type": "code",
   "execution_count": 116,
   "id": "928ee473",
   "metadata": {},
   "outputs": [
    {
     "name": "stdout",
     "output_type": "stream",
     "text": [
      "There are 12665 consecutive purchase-reversal transactions.(reversal)\n"
     ]
    }
   ],
   "source": [
    "# Get consecutive purchase-reversal transaction number\n",
    "consecutive_reversal = merge_df.shape[0]\n",
    "print(f'There are {consecutive_reversal} consecutive purchase-reversal transactions.(reversal)')"
   ]
  },
  {
   "cell_type": "code",
   "execution_count": 117,
   "id": "dbc409aa",
   "metadata": {},
   "outputs": [
    {
     "name": "stdout",
     "output_type": "stream",
     "text": [
      "The transactionAmount of consecutive reversal transactions is 1907433.62.\n"
     ]
    }
   ],
   "source": [
    "# Get consecutive purchase-reversal transaction Amount\n",
    "consecutive_transaction_amount = np.round(all_con_df['transactionAmount'].sum()/2,2)\n",
    "print(f'The transactionAmount of consecutive reversal transactions is {consecutive_transaction_amount}.')"
   ]
  },
  {
   "cell_type": "markdown",
   "id": "3495d3b2",
   "metadata": {},
   "source": [
    "##### Assumption 2 of reversal transaction\n",
    "\n",
    "There are purchase transactions and reversal transactions are not successive, but they have the same account number, same merchantName, the same transaction amount. Also, purchase was ealier than reversal."
   ]
  },
  {
   "cell_type": "code",
   "execution_count": 118,
   "id": "53ba7ba7",
   "metadata": {},
   "outputs": [
    {
     "name": "stdout",
     "output_type": "stream",
     "text": [
      "Except consecutive reversal transactions, there are 7638 left. \n"
     ]
    }
   ],
   "source": [
    "# Calculate non consecutive reversal transactions number\n",
    "non_consecutive_reversal = reversal_df.shape[0] - merge_df.shape[0]\n",
    "print(f'Except consecutive reversal transactions, there are {non_consecutive_reversal} left. ')"
   ]
  },
  {
   "cell_type": "code",
   "execution_count": 119,
   "id": "7237d821",
   "metadata": {},
   "outputs": [
    {
     "data": {
      "text/html": [
       "<div>\n",
       "<style scoped>\n",
       "    .dataframe tbody tr th:only-of-type {\n",
       "        vertical-align: middle;\n",
       "    }\n",
       "\n",
       "    .dataframe tbody tr th {\n",
       "        vertical-align: top;\n",
       "    }\n",
       "\n",
       "    .dataframe thead th {\n",
       "        text-align: right;\n",
       "    }\n",
       "</style>\n",
       "<table border=\"1\" class=\"dataframe\">\n",
       "  <thead>\n",
       "    <tr style=\"text-align: right;\">\n",
       "      <th></th>\n",
       "      <th>accountNumber</th>\n",
       "      <th>customerId</th>\n",
       "      <th>creditLimit</th>\n",
       "      <th>availableMoney</th>\n",
       "      <th>transactionDateTime</th>\n",
       "      <th>transactionAmount</th>\n",
       "      <th>merchantName</th>\n",
       "      <th>acqCountry</th>\n",
       "      <th>merchantCountryCode</th>\n",
       "      <th>posEntryMode</th>\n",
       "      <th>...</th>\n",
       "      <th>transactionType</th>\n",
       "      <th>currentBalance</th>\n",
       "      <th>cardPresent</th>\n",
       "      <th>expirationDateKeyInMatch</th>\n",
       "      <th>isFraud</th>\n",
       "      <th>Date</th>\n",
       "      <th>Time</th>\n",
       "      <th>Timestamp</th>\n",
       "      <th>dataindex</th>\n",
       "      <th>reversal_index</th>\n",
       "    </tr>\n",
       "  </thead>\n",
       "  <tbody>\n",
       "    <tr>\n",
       "      <th>538</th>\n",
       "      <td>101376441</td>\n",
       "      <td>101376441</td>\n",
       "      <td>7500</td>\n",
       "      <td>7500.00</td>\n",
       "      <td>2016-08-06T17:23:47</td>\n",
       "      <td>0.0</td>\n",
       "      <td>cheapfast.com</td>\n",
       "      <td>US</td>\n",
       "      <td>US</td>\n",
       "      <td>09</td>\n",
       "      <td>...</td>\n",
       "      <td>REVERSAL</td>\n",
       "      <td>0.00</td>\n",
       "      <td>False</td>\n",
       "      <td>False</td>\n",
       "      <td>False</td>\n",
       "      <td>2016-08-06</td>\n",
       "      <td>17:23:47</td>\n",
       "      <td>2016-08-06 17:23:47</td>\n",
       "      <td>538</td>\n",
       "      <td>538</td>\n",
       "    </tr>\n",
       "    <tr>\n",
       "      <th>596</th>\n",
       "      <td>101380713</td>\n",
       "      <td>101380713</td>\n",
       "      <td>10000</td>\n",
       "      <td>725.69</td>\n",
       "      <td>2016-12-13T17:22:58</td>\n",
       "      <td>0.0</td>\n",
       "      <td>Lyft</td>\n",
       "      <td>MEX</td>\n",
       "      <td>MEX</td>\n",
       "      <td>02</td>\n",
       "      <td>...</td>\n",
       "      <td>REVERSAL</td>\n",
       "      <td>9274.31</td>\n",
       "      <td>False</td>\n",
       "      <td>False</td>\n",
       "      <td>False</td>\n",
       "      <td>2016-12-13</td>\n",
       "      <td>17:22:58</td>\n",
       "      <td>2016-12-13 17:22:58</td>\n",
       "      <td>596</td>\n",
       "      <td>596</td>\n",
       "    </tr>\n",
       "  </tbody>\n",
       "</table>\n",
       "<p>2 rows × 28 columns</p>\n",
       "</div>"
      ],
      "text/plain": [
       "     accountNumber  customerId  creditLimit  availableMoney  \\\n",
       "538      101376441   101376441         7500         7500.00   \n",
       "596      101380713   101380713        10000          725.69   \n",
       "\n",
       "     transactionDateTime  transactionAmount   merchantName acqCountry  \\\n",
       "538  2016-08-06T17:23:47                0.0  cheapfast.com         US   \n",
       "596  2016-12-13T17:22:58                0.0           Lyft        MEX   \n",
       "\n",
       "    merchantCountryCode posEntryMode  ... transactionType currentBalance  \\\n",
       "538                  US           09  ...        REVERSAL           0.00   \n",
       "596                 MEX           02  ...        REVERSAL        9274.31   \n",
       "\n",
       "    cardPresent expirationDateKeyInMatch isFraud       Date      Time  \\\n",
       "538       False                    False   False 2016-08-06  17:23:47   \n",
       "596       False                    False   False 2016-12-13  17:22:58   \n",
       "\n",
       "              Timestamp dataindex  reversal_index  \n",
       "538 2016-08-06 17:23:47       538             538  \n",
       "596 2016-12-13 17:22:58       596             596  \n",
       "\n",
       "[2 rows x 28 columns]"
      ]
     },
     "execution_count": 119,
     "metadata": {},
     "output_type": "execute_result"
    }
   ],
   "source": [
    "# Get exclude consecutive reversal transactions dataframe\n",
    "reversal_df_nc = reversal_df.drop(con_reversal_index)\n",
    "reversal_df_nc.head(2)"
   ]
  },
  {
   "cell_type": "code",
   "execution_count": 120,
   "id": "b341307e",
   "metadata": {},
   "outputs": [
    {
     "name": "stderr",
     "output_type": "stream",
     "text": [
      "/var/folders/9b/mzzkk68969n4702kpcrcv8b40000gn/T/ipykernel_12936/2891271026.py:3: SettingWithCopyWarning: \n",
      "A value is trying to be set on a copy of a slice from a DataFrame.\n",
      "Try using .loc[row_indexer,col_indexer] = value instead\n",
      "\n",
      "See the caveats in the documentation: https://pandas.pydata.org/pandas-docs/stable/user_guide/indexing.html#returning-a-view-versus-a-copy\n",
      "  purchase_all_df['purchase_index'] = purchase_all_df.index\n"
     ]
    },
    {
     "data": {
      "text/html": [
       "<div>\n",
       "<style scoped>\n",
       "    .dataframe tbody tr th:only-of-type {\n",
       "        vertical-align: middle;\n",
       "    }\n",
       "\n",
       "    .dataframe tbody tr th {\n",
       "        vertical-align: top;\n",
       "    }\n",
       "\n",
       "    .dataframe thead th {\n",
       "        text-align: right;\n",
       "    }\n",
       "</style>\n",
       "<table border=\"1\" class=\"dataframe\">\n",
       "  <thead>\n",
       "    <tr style=\"text-align: right;\">\n",
       "      <th></th>\n",
       "      <th>accountNumber</th>\n",
       "      <th>customerId</th>\n",
       "      <th>creditLimit</th>\n",
       "      <th>availableMoney</th>\n",
       "      <th>transactionDateTime</th>\n",
       "      <th>transactionAmount</th>\n",
       "      <th>merchantName</th>\n",
       "      <th>acqCountry</th>\n",
       "      <th>merchantCountryCode</th>\n",
       "      <th>posEntryMode</th>\n",
       "      <th>...</th>\n",
       "      <th>transactionType</th>\n",
       "      <th>currentBalance</th>\n",
       "      <th>cardPresent</th>\n",
       "      <th>expirationDateKeyInMatch</th>\n",
       "      <th>isFraud</th>\n",
       "      <th>Date</th>\n",
       "      <th>Time</th>\n",
       "      <th>Timestamp</th>\n",
       "      <th>dataindex</th>\n",
       "      <th>purchase_index</th>\n",
       "    </tr>\n",
       "  </thead>\n",
       "  <tbody>\n",
       "    <tr>\n",
       "      <th>0</th>\n",
       "      <td>100088067</td>\n",
       "      <td>100088067</td>\n",
       "      <td>50000</td>\n",
       "      <td>49953.81</td>\n",
       "      <td>2016-04-08T19:56:36</td>\n",
       "      <td>200.12</td>\n",
       "      <td>1st BBQ</td>\n",
       "      <td>US</td>\n",
       "      <td>US</td>\n",
       "      <td>09</td>\n",
       "      <td>...</td>\n",
       "      <td>PURCHASE</td>\n",
       "      <td>46.19</td>\n",
       "      <td>True</td>\n",
       "      <td>False</td>\n",
       "      <td>False</td>\n",
       "      <td>2016-04-08</td>\n",
       "      <td>19:56:36</td>\n",
       "      <td>2016-04-08 19:56:36</td>\n",
       "      <td>0</td>\n",
       "      <td>0</td>\n",
       "    </tr>\n",
       "    <tr>\n",
       "      <th>1</th>\n",
       "      <td>100088067</td>\n",
       "      <td>100088067</td>\n",
       "      <td>50000</td>\n",
       "      <td>49929.31</td>\n",
       "      <td>2016-11-09T07:26:06</td>\n",
       "      <td>95.11</td>\n",
       "      <td>1st Pub</td>\n",
       "      <td>US</td>\n",
       "      <td>US</td>\n",
       "      <td>02</td>\n",
       "      <td>...</td>\n",
       "      <td>PURCHASE</td>\n",
       "      <td>70.69</td>\n",
       "      <td>True</td>\n",
       "      <td>False</td>\n",
       "      <td>False</td>\n",
       "      <td>2016-11-09</td>\n",
       "      <td>07:26:06</td>\n",
       "      <td>2016-11-09 07:26:06</td>\n",
       "      <td>1</td>\n",
       "      <td>1</td>\n",
       "    </tr>\n",
       "  </tbody>\n",
       "</table>\n",
       "<p>2 rows × 28 columns</p>\n",
       "</div>"
      ],
      "text/plain": [
       "   accountNumber  customerId  creditLimit  availableMoney  \\\n",
       "0      100088067   100088067        50000        49953.81   \n",
       "1      100088067   100088067        50000        49929.31   \n",
       "\n",
       "   transactionDateTime  transactionAmount merchantName acqCountry  \\\n",
       "0  2016-04-08T19:56:36             200.12      1st BBQ         US   \n",
       "1  2016-11-09T07:26:06              95.11      1st Pub         US   \n",
       "\n",
       "  merchantCountryCode posEntryMode  ... transactionType currentBalance  \\\n",
       "0                  US           09  ...        PURCHASE          46.19   \n",
       "1                  US           02  ...        PURCHASE          70.69   \n",
       "\n",
       "  cardPresent expirationDateKeyInMatch isFraud       Date      Time  \\\n",
       "0        True                    False   False 2016-04-08  19:56:36   \n",
       "1        True                    False   False 2016-11-09  07:26:06   \n",
       "\n",
       "            Timestamp dataindex  purchase_index  \n",
       "0 2016-04-08 19:56:36         0               0  \n",
       "1 2016-11-09 07:26:06         1               1  \n",
       "\n",
       "[2 rows x 28 columns]"
      ]
     },
     "execution_count": 120,
     "metadata": {},
     "output_type": "execute_result"
    }
   ],
   "source": [
    "# Get exclude consecutive purchase transactions dataframe\n",
    "purchase_all_df = data_v1[data_v1['transactionType']=='PURCHASE']\n",
    "purchase_all_df['purchase_index'] = purchase_all_df.index\n",
    "purchase_df_nc = purchase_all_df.drop(con_purchase_index)\n",
    "purchase_df_nc.head(2)"
   ]
  },
  {
   "cell_type": "code",
   "execution_count": 121,
   "id": "62ea675f",
   "metadata": {},
   "outputs": [
    {
     "data": {
      "text/html": [
       "<div>\n",
       "<style scoped>\n",
       "    .dataframe tbody tr th:only-of-type {\n",
       "        vertical-align: middle;\n",
       "    }\n",
       "\n",
       "    .dataframe tbody tr th {\n",
       "        vertical-align: top;\n",
       "    }\n",
       "\n",
       "    .dataframe thead th {\n",
       "        text-align: right;\n",
       "    }\n",
       "</style>\n",
       "<table border=\"1\" class=\"dataframe\">\n",
       "  <thead>\n",
       "    <tr style=\"text-align: right;\">\n",
       "      <th></th>\n",
       "      <th>accountNumber</th>\n",
       "      <th>transactionAmount</th>\n",
       "      <th>merchantName</th>\n",
       "      <th>Timestamp_x</th>\n",
       "      <th>transactionType_x</th>\n",
       "      <th>purchase_index</th>\n",
       "      <th>Timestamp_y</th>\n",
       "      <th>transactionType_y</th>\n",
       "      <th>reversal_index</th>\n",
       "    </tr>\n",
       "  </thead>\n",
       "  <tbody>\n",
       "    <tr>\n",
       "      <th>0</th>\n",
       "      <td>101738384</td>\n",
       "      <td>174.92</td>\n",
       "      <td>discount.com</td>\n",
       "      <td>2016-03-03 19:51:21</td>\n",
       "      <td>PURCHASE</td>\n",
       "      <td>1045</td>\n",
       "      <td>2016-03-17 05:37:44</td>\n",
       "      <td>REVERSAL</td>\n",
       "      <td>1047</td>\n",
       "    </tr>\n",
       "    <tr>\n",
       "      <th>1</th>\n",
       "      <td>101738384</td>\n",
       "      <td>954.71</td>\n",
       "      <td>staples.com</td>\n",
       "      <td>2016-05-26 07:14:32</td>\n",
       "      <td>PURCHASE</td>\n",
       "      <td>1158</td>\n",
       "      <td>2016-06-11 00:47:21</td>\n",
       "      <td>REVERSAL</td>\n",
       "      <td>1161</td>\n",
       "    </tr>\n",
       "  </tbody>\n",
       "</table>\n",
       "</div>"
      ],
      "text/plain": [
       "   accountNumber  transactionAmount  merchantName         Timestamp_x  \\\n",
       "0      101738384             174.92  discount.com 2016-03-03 19:51:21   \n",
       "1      101738384             954.71   staples.com 2016-05-26 07:14:32   \n",
       "\n",
       "  transactionType_x  purchase_index         Timestamp_y transactionType_y  \\\n",
       "0          PURCHASE            1045 2016-03-17 05:37:44          REVERSAL   \n",
       "1          PURCHASE            1158 2016-06-11 00:47:21          REVERSAL   \n",
       "\n",
       "   reversal_index  \n",
       "0            1047  \n",
       "1            1161  "
      ]
     },
     "execution_count": 121,
     "metadata": {},
     "output_type": "execute_result"
    }
   ],
   "source": [
    "# Create non-consecutive transactions to a dataframe with the same account number, same merchantName, the same transaction amount\n",
    "merge_nc_df = pd.merge(purchase_df_nc, reversal_df_nc, how = 'inner',\n",
    "                       on = ['accountNumber', 'transactionAmount','merchantName'])\n",
    "merge_nc_df = merge_nc_df[(merge_nc_df['Timestamp_x']<=merge_nc_df['Timestamp_y'])]\n",
    "merge_nc_df = merge_nc_df[['accountNumber','transactionAmount','merchantName',\n",
    "                          'Timestamp_x','transactionType_x','purchase_index',\n",
    "                          'Timestamp_y','transactionType_y','reversal_index']]\n",
    "merge_nc_df.head(2)"
   ]
  },
  {
   "cell_type": "markdown",
   "id": "22b1bc73",
   "metadata": {},
   "source": [
    "###### check if there have been multiple matching transactions for reversal requests"
   ]
  },
  {
   "cell_type": "code",
   "execution_count": 122,
   "id": "531ce701",
   "metadata": {},
   "outputs": [
    {
     "data": {
      "text/plain": [
       "5112"
      ]
     },
     "execution_count": 122,
     "metadata": {},
     "output_type": "execute_result"
    }
   ],
   "source": [
    "merge_nc_df['reversal_index'].nunique()"
   ]
  },
  {
   "cell_type": "code",
   "execution_count": 123,
   "id": "8cb20a38",
   "metadata": {},
   "outputs": [
    {
     "data": {
      "text/plain": [
       "5216"
      ]
     },
     "execution_count": 123,
     "metadata": {},
     "output_type": "execute_result"
    }
   ],
   "source": [
    "merge_nc_df['purchase_index'].nunique()"
   ]
  },
  {
   "cell_type": "code",
   "execution_count": 124,
   "id": "bca356a5",
   "metadata": {},
   "outputs": [
    {
     "data": {
      "text/plain": [
       "5219"
      ]
     },
     "execution_count": 124,
     "metadata": {},
     "output_type": "execute_result"
    }
   ],
   "source": [
    "merge_nc_df.shape[0]"
   ]
  },
  {
   "cell_type": "markdown",
   "id": "bf426c3b",
   "metadata": {},
   "source": [
    "Yes, there have been multiple matching transactions for reversal requests that I am not able to explain. I need to find these transactions."
   ]
  },
  {
   "cell_type": "code",
   "execution_count": 125,
   "id": "d5cfce3c",
   "metadata": {},
   "outputs": [],
   "source": [
    "# Delete multiple match reversal transactions \n",
    "unable_purchase_index = list((merge_nc_df['purchase_index'].value_counts()>1).index[:3])\n",
    "need_eliminate_index = list(merge_nc_df[merge_nc_df['purchase_index'].isin(unable_purchase_index)].index)\n",
    "merge_nc_df = merge_nc_df.drop(need_eliminate_index)"
   ]
  },
  {
   "cell_type": "code",
   "execution_count": 126,
   "id": "6807f887",
   "metadata": {},
   "outputs": [],
   "source": [
    "unable_reversal_index = merge_nc_df['reversal_index'].value_counts()>1\n",
    "unable_reversal_index = list(unable_reversal_index[unable_reversal_index==True].index)\n",
    "need_eliminate_index_2 = list(merge_nc_df[merge_nc_df['reversal_index'].isin(unable_reversal_index)].index)\n",
    "merge_nc_df = merge_nc_df.drop(need_eliminate_index_2)"
   ]
  },
  {
   "cell_type": "code",
   "execution_count": 127,
   "id": "5510c284",
   "metadata": {},
   "outputs": [
    {
     "name": "stdout",
     "output_type": "stream",
     "text": [
      "Be able to explain non-consecutive reversal transactions number: 5013\n"
     ]
    }
   ],
   "source": [
    "# Be able to explain non-consecutive reversal transactions number\n",
    "print('Be able to explain non-consecutive reversal transactions number:', merge_nc_df.shape[0])"
   ]
  },
  {
   "cell_type": "code",
   "execution_count": 128,
   "id": "f1bc5616",
   "metadata": {},
   "outputs": [
    {
     "data": {
      "text/html": [
       "<div>\n",
       "<style scoped>\n",
       "    .dataframe tbody tr th:only-of-type {\n",
       "        vertical-align: middle;\n",
       "    }\n",
       "\n",
       "    .dataframe tbody tr th {\n",
       "        vertical-align: top;\n",
       "    }\n",
       "\n",
       "    .dataframe thead th {\n",
       "        text-align: right;\n",
       "    }\n",
       "</style>\n",
       "<table border=\"1\" class=\"dataframe\">\n",
       "  <thead>\n",
       "    <tr style=\"text-align: right;\">\n",
       "      <th></th>\n",
       "      <th>accountNumber</th>\n",
       "      <th>customerId</th>\n",
       "      <th>creditLimit</th>\n",
       "      <th>availableMoney</th>\n",
       "      <th>transactionDateTime</th>\n",
       "      <th>transactionAmount</th>\n",
       "      <th>merchantName</th>\n",
       "      <th>acqCountry</th>\n",
       "      <th>merchantCountryCode</th>\n",
       "      <th>posEntryMode</th>\n",
       "      <th>...</th>\n",
       "      <th>cardLast4Digits</th>\n",
       "      <th>transactionType</th>\n",
       "      <th>currentBalance</th>\n",
       "      <th>cardPresent</th>\n",
       "      <th>expirationDateKeyInMatch</th>\n",
       "      <th>isFraud</th>\n",
       "      <th>Date</th>\n",
       "      <th>Time</th>\n",
       "      <th>Timestamp</th>\n",
       "      <th>dataindex</th>\n",
       "    </tr>\n",
       "  </thead>\n",
       "  <tbody>\n",
       "    <tr>\n",
       "      <th>1047</th>\n",
       "      <td>101738384</td>\n",
       "      <td>101738384</td>\n",
       "      <td>50000</td>\n",
       "      <td>38753.10</td>\n",
       "      <td>2016-03-17T05:37:44</td>\n",
       "      <td>174.92</td>\n",
       "      <td>discount.com</td>\n",
       "      <td>US</td>\n",
       "      <td>US</td>\n",
       "      <td>05</td>\n",
       "      <td>...</td>\n",
       "      <td>4704</td>\n",
       "      <td>REVERSAL</td>\n",
       "      <td>11246.90</td>\n",
       "      <td>False</td>\n",
       "      <td>False</td>\n",
       "      <td>False</td>\n",
       "      <td>2016-03-17</td>\n",
       "      <td>05:37:44</td>\n",
       "      <td>2016-03-17 05:37:44</td>\n",
       "      <td>1047</td>\n",
       "    </tr>\n",
       "    <tr>\n",
       "      <th>1161</th>\n",
       "      <td>101738384</td>\n",
       "      <td>101738384</td>\n",
       "      <td>50000</td>\n",
       "      <td>26739.32</td>\n",
       "      <td>2016-06-11T00:47:21</td>\n",
       "      <td>954.71</td>\n",
       "      <td>staples.com</td>\n",
       "      <td>US</td>\n",
       "      <td>US</td>\n",
       "      <td>02</td>\n",
       "      <td>...</td>\n",
       "      <td>4704</td>\n",
       "      <td>REVERSAL</td>\n",
       "      <td>23260.68</td>\n",
       "      <td>False</td>\n",
       "      <td>False</td>\n",
       "      <td>False</td>\n",
       "      <td>2016-06-11</td>\n",
       "      <td>00:47:21</td>\n",
       "      <td>2016-06-11 00:47:21</td>\n",
       "      <td>1161</td>\n",
       "    </tr>\n",
       "  </tbody>\n",
       "</table>\n",
       "<p>2 rows × 27 columns</p>\n",
       "</div>"
      ],
      "text/plain": [
       "      accountNumber  customerId  creditLimit  availableMoney  \\\n",
       "1047      101738384   101738384        50000        38753.10   \n",
       "1161      101738384   101738384        50000        26739.32   \n",
       "\n",
       "      transactionDateTime  transactionAmount  merchantName acqCountry  \\\n",
       "1047  2016-03-17T05:37:44             174.92  discount.com         US   \n",
       "1161  2016-06-11T00:47:21             954.71   staples.com         US   \n",
       "\n",
       "     merchantCountryCode posEntryMode  ... cardLast4Digits transactionType  \\\n",
       "1047                  US           05  ...            4704        REVERSAL   \n",
       "1161                  US           02  ...            4704        REVERSAL   \n",
       "\n",
       "     currentBalance cardPresent expirationDateKeyInMatch  isFraud       Date  \\\n",
       "1047       11246.90       False                    False    False 2016-03-17   \n",
       "1161       23260.68       False                    False    False 2016-06-11   \n",
       "\n",
       "          Time           Timestamp  dataindex  \n",
       "1047  05:37:44 2016-03-17 05:37:44       1047  \n",
       "1161  00:47:21 2016-06-11 00:47:21       1161  \n",
       "\n",
       "[2 rows x 27 columns]"
      ]
     },
     "execution_count": 128,
     "metadata": {},
     "output_type": "execute_result"
    }
   ],
   "source": [
    "nc_reversal_index = merge_nc_df['reversal_index'].to_list()\n",
    "nc_purchase_index = merge_nc_df['purchase_index'].to_list()\n",
    "all_nc_index = nc_reversal_index + nc_purchase_index\n",
    "all_nc_df = data_v1.iloc[all_nc_index]\n",
    "all_nc_df.head(2)"
   ]
  },
  {
   "cell_type": "code",
   "execution_count": 129,
   "id": "d3293a74",
   "metadata": {},
   "outputs": [
    {
     "name": "stdout",
     "output_type": "stream",
     "text": [
      "The number of reversal transactions belongs to non-successive purchase-reversal transactions: 5013\n"
     ]
    }
   ],
   "source": [
    "# The number of reversal transactions belongs to non-successive purchase-reversal transactions\n",
    "non_consecutive_reversal_true = merge_nc_df.shape[0]\n",
    "print('The number of reversal transactions belongs to non-successive purchase-reversal transactions:', non_consecutive_reversal_true)"
   ]
  },
  {
   "cell_type": "code",
   "execution_count": 130,
   "id": "dea1d736",
   "metadata": {},
   "outputs": [
    {
     "name": "stdout",
     "output_type": "stream",
     "text": [
      "The transactionAmount of non-consecutive reversal transactions is 747915.74.\n"
     ]
    }
   ],
   "source": [
    "# Get non-consecutive purchase-reversal transaction Amount\n",
    "non_consecutive_transaction_amount = np.round(all_nc_df['transactionAmount'].sum()/2,2)\n",
    "print(f'The transactionAmount of non-consecutive reversal transactions is {non_consecutive_transaction_amount}.')"
   ]
  },
  {
   "cell_type": "code",
   "execution_count": 131,
   "id": "520feeee",
   "metadata": {},
   "outputs": [
    {
     "data": {
      "text/plain": [
       "(35356, 27)"
      ]
     },
     "execution_count": 131,
     "metadata": {},
     "output_type": "execute_result"
    }
   ],
   "source": [
    "# Concat consecutive and non-consecutive transactions in one dataframe\n",
    "able_expl_df = pd.concat([all_con_df,all_nc_df],axis=0)\n",
    "able_expl_df.shape"
   ]
  },
  {
   "cell_type": "code",
   "execution_count": 132,
   "id": "8017bb17",
   "metadata": {},
   "outputs": [
    {
     "data": {
      "text/plain": [
       "PURCHASE    17678\n",
       "REVERSAL    17678\n",
       "Name: transactionType, dtype: int64"
      ]
     },
     "execution_count": 132,
     "metadata": {},
     "output_type": "execute_result"
    }
   ],
   "source": [
    "# Able to explain reversal transactions' number\n",
    "able_expl_df['transactionType'].value_counts()"
   ]
  },
  {
   "cell_type": "code",
   "execution_count": 133,
   "id": "f6191737",
   "metadata": {},
   "outputs": [
    {
     "data": {
      "text/plain": [
       "transactionType\n",
       "PURCHASE    2655349.36\n",
       "REVERSAL    2655349.36\n",
       "Name: transactionAmount, dtype: float64"
      ]
     },
     "execution_count": 133,
     "metadata": {},
     "output_type": "execute_result"
    }
   ],
   "source": [
    "# Able to explain reversal transactions' amount\n",
    "able_expl_df.groupby(['transactionType']).sum()['transactionAmount']"
   ]
  },
  {
   "cell_type": "code",
   "execution_count": 134,
   "id": "8da94860",
   "metadata": {},
   "outputs": [
    {
     "name": "stdout",
     "output_type": "stream",
     "text": [
      "Not able to explain reversal transactions amount 166443.14\n"
     ]
    }
   ],
   "source": [
    "# Not able to explain reversal transactions' amount\n",
    "reversal_df_all = data_v1[data_v1['transactionType']=='REVERSAL']\n",
    "able_expl = con_reversal_index + nc_reversal_index\n",
    "not_able_expl_df = reversal_df_all.drop(able_expl,axis=0)\n",
    "not_able_expl_amount = not_able_expl_df['transactionAmount'].sum()\n",
    "print('Not able to explain reversal transactions amount', not_able_expl_amount)"
   ]
  },
  {
   "cell_type": "code",
   "execution_count": 135,
   "id": "0b672bac",
   "metadata": {},
   "outputs": [
    {
     "name": "stdout",
     "output_type": "stream",
     "text": [
      "There was not able to match 2625 reversal transactions.\n"
     ]
    }
   ],
   "source": [
    "# Not able to match reversal transactions number\n",
    "reversal_many_times = non_consecutive_reversal - non_consecutive_reversal_true\n",
    "print(f'There was not able to match {reversal_many_times} reversal transactions.')"
   ]
  },
  {
   "cell_type": "markdown",
   "id": "81930fda",
   "metadata": {},
   "source": [
    "##### Assumption 3 of reversal transaction\n",
    "\n",
    "##### Lessons Learned\n",
    "\n",
    "I was not able to match 2526 reversal transactions.\n",
    "\n",
    "Now, I think there are three additional situations involving reversal transactions:\n",
    "\n",
    "(1) The same purchase transaction being reversed multiple times\n",
    "\n",
    "(2) The reversal amount not matching the purchase amount\n",
    "\n",
    "(3) Data quality.\n",
    "\n",
    " "
   ]
  },
  {
   "cell_type": "markdown",
   "id": "de454937",
   "metadata": {},
   "source": [
    "### Question 3 part a - identify reversed reversed transactions result\n",
    "\n",
    "What total number of transactions and total dollar amount do you estimate for the reversed transactions?\n",
    "\n",
    "Result 1: As a result of my analysis, I found 17678 reversal transactions and total dollar value of these are $2,655,349.36\n",
    "\n",
    "Result 2: I was not able to find purchase associated to reversal transactions (2625) that corresponds to $166,443.14."
   ]
  },
  {
   "cell_type": "markdown",
   "id": "a960ca45",
   "metadata": {},
   "source": [
    "### Remove Duplicates (Reversal Transactions)"
   ]
  },
  {
   "cell_type": "code",
   "execution_count": 136,
   "id": "985cf398",
   "metadata": {},
   "outputs": [],
   "source": [
    "data_v2 = data_v1.drop(list(able_expl_df.index))"
   ]
  },
  {
   "cell_type": "code",
   "execution_count": 137,
   "id": "24d6af8d",
   "metadata": {},
   "outputs": [],
   "source": [
    "data_v2 = data_v2[data_v2['transactionType']!='REVERSAL']"
   ]
  },
  {
   "cell_type": "code",
   "execution_count": 138,
   "id": "0d4b05b7",
   "metadata": {},
   "outputs": [],
   "source": [
    "data_v2 = data_v2.reset_index()"
   ]
  },
  {
   "cell_type": "code",
   "execution_count": 139,
   "id": "25ed8a9f",
   "metadata": {},
   "outputs": [],
   "source": [
    "data_v2['dataindex'] = data_v2.index"
   ]
  },
  {
   "cell_type": "markdown",
   "id": "f5103490",
   "metadata": {},
   "source": [
    "### 2. Second Assumption of duplicate transactions: multi-swipe transactions"
   ]
  },
  {
   "cell_type": "markdown",
   "id": "5b0d199b",
   "metadata": {},
   "source": [
    "##### Assumption of multi-swipe transactions:\n",
    "\n",
    "I assume that multiple credit card transactions occur in the data as follows: a customer makes multiple credit card transactions with the same amount within 5 minutes at the same merchant location. \n",
    "\n",
    "##### Method :\n",
    "\n",
    "To sort the data by 'accountNumber', 'merchantName', 'Timestamp', and 'transactionAmount' in ascending order to ensure the accurate match of customer and merchant transaction time difference column. Then, select all transactions with time differences within 5 minutes, group by 'accountNumber', 'merchantName', and 'transactionAmount', and filter out all transactions where a customer makes more than one transaction with the same amount at the same merchant within 5 minutes. I define these transactions as multiple credit card transactions."
   ]
  },
  {
   "cell_type": "code",
   "execution_count": 140,
   "id": "0ca14610",
   "metadata": {},
   "outputs": [],
   "source": [
    "# Create a copy datset\n",
    "data_v3 = data_v2.copy()[['accountNumber','transactionAmount','merchantName','transactionType', 'Timestamp','dataindex']]"
   ]
  },
  {
   "cell_type": "code",
   "execution_count": 141,
   "id": "d0c5af04",
   "metadata": {},
   "outputs": [
    {
     "name": "stderr",
     "output_type": "stream",
     "text": [
      "/var/folders/9b/mzzkk68969n4702kpcrcv8b40000gn/T/ipykernel_12936/2890327176.py:13: UserWarning: Boolean Series key will be reindexed to match DataFrame index.\n",
      "  data_v3_3index = data_v3_3index[duplicated]\n"
     ]
    },
    {
     "data": {
      "text/html": [
       "<div>\n",
       "<style scoped>\n",
       "    .dataframe tbody tr th:only-of-type {\n",
       "        vertical-align: middle;\n",
       "    }\n",
       "\n",
       "    .dataframe tbody tr th {\n",
       "        vertical-align: top;\n",
       "    }\n",
       "\n",
       "    .dataframe thead th {\n",
       "        text-align: right;\n",
       "    }\n",
       "</style>\n",
       "<table border=\"1\" class=\"dataframe\">\n",
       "  <thead>\n",
       "    <tr style=\"text-align: right;\">\n",
       "      <th></th>\n",
       "      <th></th>\n",
       "      <th></th>\n",
       "      <th>transactionType</th>\n",
       "      <th>Timestamp</th>\n",
       "      <th>dataindex</th>\n",
       "      <th>diff</th>\n",
       "    </tr>\n",
       "    <tr>\n",
       "      <th>accountNumber</th>\n",
       "      <th>merchantName</th>\n",
       "      <th>transactionAmount</th>\n",
       "      <th></th>\n",
       "      <th></th>\n",
       "      <th></th>\n",
       "      <th></th>\n",
       "    </tr>\n",
       "  </thead>\n",
       "  <tbody>\n",
       "    <tr>\n",
       "      <th rowspan=\"5\" valign=\"top\">100737756</th>\n",
       "      <th rowspan=\"2\" valign=\"top\">34th BBQ #166379</th>\n",
       "      <th>43.25</th>\n",
       "      <td>PURCHASE</td>\n",
       "      <td>2016-07-10 14:31:07</td>\n",
       "      <td>247</td>\n",
       "      <td>-198000.516667</td>\n",
       "    </tr>\n",
       "    <tr>\n",
       "      <th>43.25</th>\n",
       "      <td>PURCHASE</td>\n",
       "      <td>2016-07-10 14:32:06</td>\n",
       "      <td>248</td>\n",
       "      <td>0.983333</td>\n",
       "    </tr>\n",
       "    <tr>\n",
       "      <th rowspan=\"3\" valign=\"top\">Franks Deli</th>\n",
       "      <th>693.50</th>\n",
       "      <td>PURCHASE</td>\n",
       "      <td>2016-01-18 01:55:24</td>\n",
       "      <td>311</td>\n",
       "      <td>-202893.200000</td>\n",
       "    </tr>\n",
       "    <tr>\n",
       "      <th>693.50</th>\n",
       "      <td>PURCHASE</td>\n",
       "      <td>2016-01-18 01:55:28</td>\n",
       "      <td>312</td>\n",
       "      <td>0.066667</td>\n",
       "    </tr>\n",
       "    <tr>\n",
       "      <th>693.50</th>\n",
       "      <td>PURCHASE</td>\n",
       "      <td>2016-01-18 01:58:26</td>\n",
       "      <td>313</td>\n",
       "      <td>2.966667</td>\n",
       "    </tr>\n",
       "  </tbody>\n",
       "</table>\n",
       "</div>"
      ],
      "text/plain": [
       "                                                 transactionType  \\\n",
       "accountNumber merchantName     transactionAmount                   \n",
       "100737756     34th BBQ #166379 43.25                    PURCHASE   \n",
       "                               43.25                    PURCHASE   \n",
       "              Franks Deli      693.50                   PURCHASE   \n",
       "                               693.50                   PURCHASE   \n",
       "                               693.50                   PURCHASE   \n",
       "\n",
       "                                                           Timestamp  \\\n",
       "accountNumber merchantName     transactionAmount                       \n",
       "100737756     34th BBQ #166379 43.25             2016-07-10 14:31:07   \n",
       "                               43.25             2016-07-10 14:32:06   \n",
       "              Franks Deli      693.50            2016-01-18 01:55:24   \n",
       "                               693.50            2016-01-18 01:55:28   \n",
       "                               693.50            2016-01-18 01:58:26   \n",
       "\n",
       "                                                  dataindex           diff  \n",
       "accountNumber merchantName     transactionAmount                            \n",
       "100737756     34th BBQ #166379 43.25                    247 -198000.516667  \n",
       "                               43.25                    248       0.983333  \n",
       "              Franks Deli      693.50                   311 -202893.200000  \n",
       "                               693.50                   312       0.066667  \n",
       "                               693.50                   313       2.966667  "
      ]
     },
     "execution_count": 141,
     "metadata": {},
     "output_type": "execute_result"
    }
   ],
   "source": [
    "# To get the accurate match of customer and merchant transaction time difference column\n",
    "data_v3 = data_v3.sort_values(['accountNumber','merchantName', 'transactionAmount','Timestamp',])\n",
    "data_v3['diff'] = data_v3['Timestamp'].diff().dt.total_seconds() / 60\n",
    "\n",
    "# Assume 5 minutes as multi-swipe time range\n",
    "data_v3 = data_v3[data_v3['diff']<=5]\n",
    "\n",
    "# Select all transactions with time differences within 5 minutes\n",
    "duplicated = data_v3.groupby(['accountNumber','merchantName','transactionAmount'])['diff'].count()>1\n",
    "\n",
    "# Filter out all transactions where a customer makes more than one transaction\n",
    "data_v3_3index = data_v3.set_index(['accountNumber','merchantName','transactionAmount'])\n",
    "data_v3_3index = data_v3_3index[duplicated]\n",
    "data_v3_3index.head(5)"
   ]
  },
  {
   "cell_type": "markdown",
   "id": "a420ccb3",
   "metadata": {},
   "source": [
    "Since I consider the first transaction as \"normal\", I exclude its index from the list of indices for multi-swipe transactions."
   ]
  },
  {
   "cell_type": "code",
   "execution_count": 142,
   "id": "313c8baf",
   "metadata": {},
   "outputs": [],
   "source": [
    "# Get native index of multi-swipe transactions\n",
    "grouped = data_v3_3index.groupby(['accountNumber', 'merchantName', 'transactionAmount'])\n",
    "dataindexes = grouped['dataindex'].apply(lambda x: x.iloc[1:]).tolist()"
   ]
  },
  {
   "cell_type": "markdown",
   "id": "fcf0fc2c",
   "metadata": {},
   "source": [
    "##### The number of multi-swipe transactions"
   ]
  },
  {
   "cell_type": "code",
   "execution_count": 143,
   "id": "f948519c",
   "metadata": {},
   "outputs": [
    {
     "name": "stdout",
     "output_type": "stream",
     "text": [
      "Excluding the first transaction which is considered as a normal transaction, there are a total of 4056 multi-swipe transactions.\n"
     ]
    }
   ],
   "source": [
    "len_multi = len(dataindexes)\n",
    "print(f'Excluding the first transaction which is considered as a normal transaction, there are a total of {len_multi} multi-swipe transactions.')"
   ]
  },
  {
   "cell_type": "markdown",
   "id": "c7da3cf9",
   "metadata": {},
   "source": [
    "##### The amount of multi-swipe transactions"
   ]
  },
  {
   "cell_type": "code",
   "execution_count": 144,
   "id": "a371337d",
   "metadata": {},
   "outputs": [
    {
     "name": "stdout",
     "output_type": "stream",
     "text": [
      "Excluding the first transaction which is considered as a normal transaction, there are a total amount of $ 594370.01 multi-swipe transactions.\n"
     ]
    }
   ],
   "source": [
    "amount = data_v2[data_v2['dataindex'].isin(dataindexes)]['transactionAmount'].sum()\n",
    "print(f'Excluding the first transaction which is considered as a normal transaction, there are a total amount of $ {amount} multi-swipe transactions.')"
   ]
  },
  {
   "cell_type": "markdown",
   "id": "c7f865a9",
   "metadata": {},
   "source": [
    "##### Swipe Time Range Analysis"
   ]
  },
  {
   "cell_type": "code",
   "execution_count": 145,
   "id": "782f09eb",
   "metadata": {},
   "outputs": [
    {
     "name": "stdout",
     "output_type": "stream",
     "text": [
      "Minimum swipe time for multi-swipe transactions: 1.0 seconds\n"
     ]
    }
   ],
   "source": [
    "# Minimum swipe time for multi-swipe transactions\n",
    "min_swipe = data_v3_3index[data_v3_3index['diff']>0]['diff'].min() * 60\n",
    "print('Minimum swipe time for multi-swipe transactions:' ,min_swipe, 'seconds')"
   ]
  },
  {
   "cell_type": "code",
   "execution_count": 146,
   "id": "f3d11c71",
   "metadata": {},
   "outputs": [
    {
     "name": "stdout",
     "output_type": "stream",
     "text": [
      "Maximum swipe time for multi-swipe transactions: 4.9 minutes\n"
     ]
    }
   ],
   "source": [
    "# Maximum swipe time for multi-swipe transactions\n",
    "max_swipe = np.round(data_v3_3index[data_v3_3index['diff']>0]['diff'].max(),1)\n",
    "print('Maximum swipe time for multi-swipe transactions:' ,max_swipe, 'minutes')"
   ]
  },
  {
   "cell_type": "code",
   "execution_count": 147,
   "id": "cf2c0559",
   "metadata": {},
   "outputs": [
    {
     "name": "stdout",
     "output_type": "stream",
     "text": [
      "Mean swipe time for multi-swipe transactions: 1.52 minutes\n"
     ]
    }
   ],
   "source": [
    "# Average swipe time for multi-swipe transactions\n",
    "mean_swipe = np.round(data_v3_3index[data_v3_3index['diff']>0]['diff'].mean(),2)\n",
    "print('Mean swipe time for multi-swipe transactions:' ,mean_swipe, 'minutes')"
   ]
  },
  {
   "cell_type": "code",
   "execution_count": 148,
   "id": "0b3468be",
   "metadata": {},
   "outputs": [
    {
     "data": {
      "image/png": "[encoded data removed]",
      "text/plain": [
       "<Figure size 432x288 with 1 Axes>"
      ]
     },
     "metadata": {
      "needs_background": "light"
     },
     "output_type": "display_data"
    }
   ],
   "source": [
    "# Histogram of Multi-Swipe Transactions Time Range\n",
    "counts, bins, _ = plt.hist(data_v3_3index[data_v3_3index['diff']>0]['diff'])\n",
    "plt.xlabel('Multi-Swipe Transactions Time Range minute(s)')\n",
    "plt.ylabel('Count')\n",
    "plt.title('Histogram of Multi-Swipe Transactions Time Range')\n",
    "\n",
    "for i in range(len(counts)):\n",
    "    plt.text(bins[i], counts[i], str(int(counts[i])))\n",
    "\n",
    "plt.show()"
   ]
  },
  {
   "cell_type": "code",
   "execution_count": 149,
   "id": "ff74a955",
   "metadata": {},
   "outputs": [
    {
     "data": {
      "text/plain": [
       "1    342543\n",
       "2      3376\n",
       "3       340\n",
       "Name: diff, dtype: int64"
      ]
     },
     "execution_count": 149,
     "metadata": {},
     "output_type": "execute_result"
    }
   ],
   "source": [
    "# Multi-swipe transactions times(frequency)\n",
    "times_swipe = data_v3.groupby(['accountNumber','merchantName','transactionAmount'])['diff'].count().value_counts()\n",
    "times_swipe"
   ]
  },
  {
   "cell_type": "markdown",
   "id": "b3c97e76",
   "metadata": {},
   "source": [
    "#### Finding:\n",
    "\n",
    "(1) Multi-swipe transactions are mainly concentrated within 0-3.5 minutes of card-swiping time.\n",
    "\n",
    "(2) Multi-swipe transactions are mostly concentrated within 2 card-swipes."
   ]
  },
  {
   "cell_type": "markdown",
   "id": "5b8b138b",
   "metadata": {},
   "source": [
    "### Question 3 part b - identify multi-swipe transactions result\n",
    "\n",
    "What total number of transactions and total dollar amount do you estimate for the multi-swipe transactions?\n",
    "\n",
    "Result 1: As a result of my analysis, total number of multi-swipe transactions is 4056 based on 5 minutes time range.\n",
    "\n",
    "Result 2: Total dollar value of multi-swipe transactions is $ 594,370."
   ]
  },
  {
   "cell_type": "markdown",
   "id": "b1c38515",
   "metadata": {},
   "source": [
    "### Remove Duplicates (Multi-Swipe Transactions)"
   ]
  },
  {
   "cell_type": "code",
   "execution_count": 150,
   "id": "61f9074e",
   "metadata": {},
   "outputs": [],
   "source": [
    "data_v4 = data_v2.drop(dataindexes)"
   ]
  },
  {
   "cell_type": "code",
   "execution_count": 151,
   "id": "6ebf786d",
   "metadata": {},
   "outputs": [],
   "source": [
    "data_v4 = data_v4.reset_index()"
   ]
  },
  {
   "cell_type": "code",
   "execution_count": 152,
   "id": "129c02b5",
   "metadata": {},
   "outputs": [],
   "source": [
    "data_v4['dataindex'] = data_v4.index"
   ]
  },
  {
   "cell_type": "code",
   "execution_count": 153,
   "id": "dba43bed",
   "metadata": {},
   "outputs": [
    {
     "name": "stdout",
     "output_type": "stream",
     "text": [
      "Both reversal and multi-swipes transactions that I can detect that corresponds to 2.76% of original data.\n"
     ]
    }
   ],
   "source": [
    "duplicats_rate = np.round((17678 + 4056)/data_v0.shape[0]*100,2)\n",
    "print(f'Both reversal and multi-swipes transactions that I can detect that corresponds to {duplicats_rate}% of original data.')"
   ]
  },
  {
   "cell_type": "markdown",
   "id": "284b089c",
   "metadata": {},
   "source": [
    "### Question 3 part c \n",
    "\n",
    "Did you find anything interesting about either kind of transaction?\n",
    "\n",
    "Yeah! Sure! \n",
    "\n",
    "For reversal transactions, I was not able to match 2526 reversal transactions. I think there are three additional situations involving reversal transactions:\n",
    "\n",
    "(1) The same purchase transaction being reversed multiple times\n",
    "\n",
    "(2) The reversal amount not matching the purchase amount\n",
    "\n",
    "(3) Data quality.\n",
    "\n",
    "For Multi-swipe transactions, I assume that multiple credit card transactions occur in when a customer makes multiple credit card transactions with the same amount within 5 minutes at the same merchant location. And I found that multi-swipe times(freequency) was not too many, mostly concentrated within 2 card-swipes.\n",
    "\n",
    "(1) Multi-swipe transactions are mainly concentrated within 0-3.5 minutes of card-swiping time.\n",
    "\n",
    "(2) Multi-swipe transactions are mostly concentrated within 2 card-swipes.\n",
    "\n",
    "I found 21734 observations as duplicates (combination of both reversal and multi-swipes) that corresponds to 2.76% of original data."
   ]
  },
  {
   "cell_type": "markdown",
   "id": "3b7a1616",
   "metadata": {},
   "source": [
    "## Question 4 \n",
    "## Modeling - Fraud Detection"
   ]
  },
  {
   "cell_type": "code",
   "execution_count": 154,
   "id": "c9f96fe6",
   "metadata": {},
   "outputs": [],
   "source": [
    "# Organize the dataset\n",
    "df_temp = data_v0.copy()\n",
    "df_temp['Date'] = df_temp['transactionDateTime'].apply(lambda x: x.split('T')[0])\n",
    "df_temp['Time'] = df_temp['transactionDateTime'].apply(lambda x: x.split('T')[1]) \n",
    "df_temp.Date = pd.to_datetime(df_temp.Date)\n",
    "df_temp['Timestamp'] = pd.to_datetime(df_temp.Date.astype(str)+' '+ df_temp.Time.astype(str))\n",
    "df_temp = df_temp[df_temp['transactionType']=='ADDRESS_VERIFICATION']\n",
    "\n",
    "data_v4 = pd.concat([data_v4,df_temp],axis=0)\n",
    "data_v4 = data_v4.iloc[:,2:]"
   ]
  },
  {
   "cell_type": "code",
   "execution_count": 155,
   "id": "c4cd724e",
   "metadata": {},
   "outputs": [
    {
     "data": {
      "text/plain": [
       "(744326, 27)"
      ]
     },
     "execution_count": 155,
     "metadata": {},
     "output_type": "execute_result"
    }
   ],
   "source": [
    "data_v4.shape"
   ]
  },
  {
   "cell_type": "markdown",
   "id": "087c020f",
   "metadata": {},
   "source": [
    "### Delete non-relevant columns\n",
    "\n",
    "Based on the exploratory data analysis I conducted, I found that 'accountNumber' and 'customerId' have a one-to-one correspondence, so I decided to keep 'customerId' and eliminate 'accountNumber'. Additionally, I created a new feature called 'Timestamp', which made 'transactionDateTime' redundant, so I removed that column as well. Since the focus of the model is on fraud detection and not the account history or longevity, I eliminated 'currentExpDate' and 'accountOpenDate'. Lastly, 'cardLast4Digits' was not found to be relevant to the model, so I also eliminated that column."
   ]
  },
  {
   "cell_type": "code",
   "execution_count": 156,
   "id": "7712d46b",
   "metadata": {},
   "outputs": [],
   "source": [
    "data_v4 = data_v4.drop(['accountNumber','transactionDateTime','currentExpDate','accountOpenDate',\n",
    "                        'cardLast4Digits','Date','Time','dataindex'],axis=1)"
   ]
  },
  {
   "cell_type": "code",
   "execution_count": 157,
   "id": "dbc9e9d8",
   "metadata": {},
   "outputs": [],
   "source": [
    "data_v4 = data_v4.drop(['dateOfLastAddressChange','cardCVV','enteredCVV'],axis=1)"
   ]
  },
  {
   "cell_type": "code",
   "execution_count": 158,
   "id": "26d692ed",
   "metadata": {},
   "outputs": [],
   "source": [
    "data_v4 = data_v4.drop(['acqCountry','merchantCountryCode'],axis=1)"
   ]
  },
  {
   "cell_type": "code",
   "execution_count": 159,
   "id": "39f9722b",
   "metadata": {},
   "outputs": [
    {
     "data": {
      "text/plain": [
       "Index(['customerId', 'creditLimit', 'availableMoney', 'transactionAmount',\n",
       "       'merchantName', 'posEntryMode', 'posConditionCode',\n",
       "       'merchantCategoryCode', 'transactionType', 'currentBalance',\n",
       "       'cardPresent', 'expirationDateKeyInMatch', 'isFraud', 'Timestamp'],\n",
       "      dtype='object')"
      ]
     },
     "execution_count": 159,
     "metadata": {},
     "output_type": "execute_result"
    }
   ],
   "source": [
    "data_v4.columns"
   ]
  },
  {
   "cell_type": "code",
   "execution_count": 160,
   "id": "0d96af93",
   "metadata": {},
   "outputs": [],
   "source": [
    "# Put 'isFraud' to the last column\n",
    "data_v4 = data_v4[['customerId', 'creditLimit', 'availableMoney', 'transactionAmount',\n",
    "                   'merchantName','posEntryMode','posConditionCode', 'merchantCategoryCode', \n",
    "                   'transactionType','currentBalance', 'cardPresent', 'expirationDateKeyInMatch',\n",
    "                   'Timestamp','isFraud']]"
   ]
  },
  {
   "cell_type": "code",
   "execution_count": 161,
   "id": "bc3513bd",
   "metadata": {},
   "outputs": [
    {
     "data": {
      "text/html": [
       "<div>\n",
       "<style scoped>\n",
       "    .dataframe tbody tr th:only-of-type {\n",
       "        vertical-align: middle;\n",
       "    }\n",
       "\n",
       "    .dataframe tbody tr th {\n",
       "        vertical-align: top;\n",
       "    }\n",
       "\n",
       "    .dataframe thead th {\n",
       "        text-align: right;\n",
       "    }\n",
       "</style>\n",
       "<table border=\"1\" class=\"dataframe\">\n",
       "  <thead>\n",
       "    <tr style=\"text-align: right;\">\n",
       "      <th></th>\n",
       "      <th>customerId</th>\n",
       "      <th>creditLimit</th>\n",
       "      <th>availableMoney</th>\n",
       "      <th>transactionAmount</th>\n",
       "      <th>merchantName</th>\n",
       "      <th>posEntryMode</th>\n",
       "      <th>posConditionCode</th>\n",
       "      <th>merchantCategoryCode</th>\n",
       "      <th>transactionType</th>\n",
       "      <th>currentBalance</th>\n",
       "      <th>cardPresent</th>\n",
       "      <th>expirationDateKeyInMatch</th>\n",
       "      <th>Timestamp</th>\n",
       "      <th>isFraud</th>\n",
       "    </tr>\n",
       "  </thead>\n",
       "  <tbody>\n",
       "    <tr>\n",
       "      <th>0</th>\n",
       "      <td>100088067</td>\n",
       "      <td>50000</td>\n",
       "      <td>49953.81</td>\n",
       "      <td>200.12</td>\n",
       "      <td>1st BBQ</td>\n",
       "      <td>09</td>\n",
       "      <td>01</td>\n",
       "      <td>food</td>\n",
       "      <td>PURCHASE</td>\n",
       "      <td>46.19</td>\n",
       "      <td>True</td>\n",
       "      <td>False</td>\n",
       "      <td>2016-04-08 19:56:36</td>\n",
       "      <td>False</td>\n",
       "    </tr>\n",
       "    <tr>\n",
       "      <th>1</th>\n",
       "      <td>100088067</td>\n",
       "      <td>50000</td>\n",
       "      <td>49929.31</td>\n",
       "      <td>95.11</td>\n",
       "      <td>1st Pub</td>\n",
       "      <td>02</td>\n",
       "      <td>01</td>\n",
       "      <td>food</td>\n",
       "      <td>PURCHASE</td>\n",
       "      <td>70.69</td>\n",
       "      <td>True</td>\n",
       "      <td>False</td>\n",
       "      <td>2016-11-09 07:26:06</td>\n",
       "      <td>False</td>\n",
       "    </tr>\n",
       "    <tr>\n",
       "      <th>2</th>\n",
       "      <td>100088067</td>\n",
       "      <td>50000</td>\n",
       "      <td>49996.04</td>\n",
       "      <td>5.26</td>\n",
       "      <td>1st Sandwitch Bar #758805</td>\n",
       "      <td>02</td>\n",
       "      <td>01</td>\n",
       "      <td>food</td>\n",
       "      <td>PURCHASE</td>\n",
       "      <td>3.96</td>\n",
       "      <td>True</td>\n",
       "      <td>False</td>\n",
       "      <td>2016-05-06 02:54:01</td>\n",
       "      <td>False</td>\n",
       "    </tr>\n",
       "    <tr>\n",
       "      <th>3</th>\n",
       "      <td>100088067</td>\n",
       "      <td>50000</td>\n",
       "      <td>49933.93</td>\n",
       "      <td>141.60</td>\n",
       "      <td>34th BBQ #412895</td>\n",
       "      <td>09</td>\n",
       "      <td>08</td>\n",
       "      <td>food</td>\n",
       "      <td>PURCHASE</td>\n",
       "      <td>66.07</td>\n",
       "      <td>True</td>\n",
       "      <td>False</td>\n",
       "      <td>2016-02-03 04:48:54</td>\n",
       "      <td>False</td>\n",
       "    </tr>\n",
       "    <tr>\n",
       "      <th>4</th>\n",
       "      <td>100088067</td>\n",
       "      <td>50000</td>\n",
       "      <td>50000.00</td>\n",
       "      <td>304.15</td>\n",
       "      <td>AMC #191138</td>\n",
       "      <td>02</td>\n",
       "      <td>01</td>\n",
       "      <td>entertainment</td>\n",
       "      <td>PURCHASE</td>\n",
       "      <td>0.00</td>\n",
       "      <td>True</td>\n",
       "      <td>False</td>\n",
       "      <td>2016-06-03 18:50:55</td>\n",
       "      <td>False</td>\n",
       "    </tr>\n",
       "  </tbody>\n",
       "</table>\n",
       "</div>"
      ],
      "text/plain": [
       "   customerId  creditLimit  availableMoney  transactionAmount  \\\n",
       "0   100088067        50000        49953.81             200.12   \n",
       "1   100088067        50000        49929.31              95.11   \n",
       "2   100088067        50000        49996.04               5.26   \n",
       "3   100088067        50000        49933.93             141.60   \n",
       "4   100088067        50000        50000.00             304.15   \n",
       "\n",
       "                merchantName posEntryMode posConditionCode  \\\n",
       "0                    1st BBQ           09               01   \n",
       "1                    1st Pub           02               01   \n",
       "2  1st Sandwitch Bar #758805           02               01   \n",
       "3           34th BBQ #412895           09               08   \n",
       "4                AMC #191138           02               01   \n",
       "\n",
       "  merchantCategoryCode transactionType  currentBalance  cardPresent  \\\n",
       "0                 food        PURCHASE           46.19         True   \n",
       "1                 food        PURCHASE           70.69         True   \n",
       "2                 food        PURCHASE            3.96         True   \n",
       "3                 food        PURCHASE           66.07         True   \n",
       "4        entertainment        PURCHASE            0.00         True   \n",
       "\n",
       "   expirationDateKeyInMatch           Timestamp  isFraud  \n",
       "0                     False 2016-04-08 19:56:36    False  \n",
       "1                     False 2016-11-09 07:26:06    False  \n",
       "2                     False 2016-05-06 02:54:01    False  \n",
       "3                     False 2016-02-03 04:48:54    False  \n",
       "4                     False 2016-06-03 18:50:55    False  "
      ]
     },
     "execution_count": 161,
     "metadata": {},
     "output_type": "execute_result"
    }
   ],
   "source": [
    "data_v4.head(5)"
   ]
  },
  {
   "cell_type": "code",
   "execution_count": null,
   "id": "100fba27",
   "metadata": {},
   "outputs": [],
   "source": []
  },
  {
   "cell_type": "markdown",
   "id": "fb44540d",
   "metadata": {},
   "source": [
    "### Data Imbalance Degree Check "
   ]
  },
  {
   "cell_type": "code",
   "execution_count": 162,
   "id": "c9ed16cd",
   "metadata": {},
   "outputs": [
    {
     "data": {
      "image/png": "[encoded data removed]",
      "text/plain": [
       "<Figure size 576x360 with 1 Axes>"
      ]
     },
     "metadata": {
      "needs_background": "light"
     },
     "output_type": "display_data"
    }
   ],
   "source": [
    "# Transaction Numbers (Fraud vs Non-Fraud)\n",
    "plt.figure(figsize=(8,5))\n",
    "sns.countplot(data=data_v4, x='isFraud')\n",
    "plt.title('Transaction Numbers (Fraud vs Non-Fraud)')\n",
    "plt.show()"
   ]
  },
  {
   "cell_type": "markdown",
   "id": "66872dc7",
   "metadata": {},
   "source": [
    "#### This dataset is severely imbalanced, so I have decided to perform sampling in order to address the imbalance."
   ]
  },
  {
   "cell_type": "markdown",
   "id": "e20725bd",
   "metadata": {},
   "source": [
    "### Sampling\n",
    "\n",
    "I am planning to use an undersampling technique in which I keep all fraud cases in the dataset. I then draw a sample (with a ratio of 0.1) from the non-fraudulent transactions of the same customer, which helps the model learn the regular patterns of that customer. Finally, to increase the model's generalization ability and improve its ability to handle noise, I also take samples from customers who have not encountered any fraud cases."
   ]
  },
  {
   "cell_type": "code",
   "execution_count": 163,
   "id": "5c272a41",
   "metadata": {},
   "outputs": [
    {
     "data": {
      "text/plain": [
       "11717"
      ]
     },
     "execution_count": 163,
     "metadata": {},
     "output_type": "execute_result"
    }
   ],
   "source": [
    "# Get all fraud transactions\n",
    "data_f = data_v4[data_v4['isFraud']==True] \n",
    "\n",
    "# There are 11717 fraud transactions\n",
    "data_f.shape[0]"
   ]
  },
  {
   "cell_type": "code",
   "execution_count": 164,
   "id": "01e9bbb8",
   "metadata": {},
   "outputs": [
    {
     "data": {
      "text/plain": [
       "2043"
      ]
     },
     "execution_count": 164,
     "metadata": {},
     "output_type": "execute_result"
    }
   ],
   "source": [
    "# 2040 unique customer have encountered fraudulent transactions\n",
    "data_f['customerId'].nunique()"
   ]
  },
  {
   "cell_type": "code",
   "execution_count": 165,
   "id": "3dfc6aee",
   "metadata": {},
   "outputs": [],
   "source": [
    "# Get all non-fraud transactions\n",
    "data_n_f = data_v4[data_v4['isFraud']==False] "
   ]
  },
  {
   "cell_type": "code",
   "execution_count": 166,
   "id": "ffe8af24",
   "metadata": {},
   "outputs": [],
   "source": [
    "# Get non-fraud transactions of 2043 customers\n",
    "c_fraud_list=data_f['customerId'].unique().tolist() \n",
    "data_f_new = data_n_f[data_n_f['customerId'].isin(c_fraud_list)] "
   ]
  },
  {
   "cell_type": "code",
   "execution_count": 167,
   "id": "db656acf",
   "metadata": {},
   "outputs": [],
   "source": [
    "# Random choose 10% non-fraud transactions from 2043 customers\n",
    "df_n = data_f_new.sample(frac=0.1, random_state=666)  "
   ]
  },
  {
   "cell_type": "code",
   "execution_count": 168,
   "id": "949fdbae",
   "metadata": {},
   "outputs": [],
   "source": [
    "# Random choose 2% non-fraud transactions from dataset\n",
    "df_noise = data_n_f.sample(frac=0.02, random_state=666)"
   ]
  },
  {
   "cell_type": "code",
   "execution_count": 169,
   "id": "ab8d9e4b",
   "metadata": {},
   "outputs": [
    {
     "data": {
      "text/plain": [
       "False    73754\n",
       "True     11717\n",
       "Name: isFraud, dtype: int64"
      ]
     },
     "execution_count": 169,
     "metadata": {},
     "output_type": "execute_result"
    }
   ],
   "source": [
    "# merge dataframes and delete duplicates\n",
    "df_final = pd.concat([data_f,df_n,df_noise], axis=0) \n",
    "df_final = df_final.drop_duplicates()\n",
    "df_final['isFraud'].value_counts()"
   ]
  },
  {
   "cell_type": "code",
   "execution_count": 170,
   "id": "d041d8e2",
   "metadata": {},
   "outputs": [
    {
     "data": {
      "text/plain": [
       "0.14"
      ]
     },
     "execution_count": 170,
     "metadata": {},
     "output_type": "execute_result"
    }
   ],
   "source": [
    "# Ratio of fraud transactions\n",
    "np.round(11717/(73754+11717),2)"
   ]
  },
  {
   "cell_type": "markdown",
   "id": "c5fa6cc9",
   "metadata": {},
   "source": [
    "### Feature Engineering"
   ]
  },
  {
   "cell_type": "code",
   "execution_count": 171,
   "id": "93a73624",
   "metadata": {},
   "outputs": [
    {
     "data": {
      "text/html": [
       "<div>\n",
       "<style scoped>\n",
       "    .dataframe tbody tr th:only-of-type {\n",
       "        vertical-align: middle;\n",
       "    }\n",
       "\n",
       "    .dataframe tbody tr th {\n",
       "        vertical-align: top;\n",
       "    }\n",
       "\n",
       "    .dataframe thead th {\n",
       "        text-align: right;\n",
       "    }\n",
       "</style>\n",
       "<table border=\"1\" class=\"dataframe\">\n",
       "  <thead>\n",
       "    <tr style=\"text-align: right;\">\n",
       "      <th></th>\n",
       "      <th>customerId</th>\n",
       "      <th>creditLimit</th>\n",
       "      <th>availableMoney</th>\n",
       "      <th>transactionAmount</th>\n",
       "      <th>merchantName</th>\n",
       "      <th>posEntryMode</th>\n",
       "      <th>posConditionCode</th>\n",
       "      <th>merchantCategoryCode</th>\n",
       "      <th>transactionType</th>\n",
       "      <th>currentBalance</th>\n",
       "      <th>cardPresent</th>\n",
       "      <th>expirationDateKeyInMatch</th>\n",
       "      <th>Timestamp</th>\n",
       "      <th>isFraud</th>\n",
       "    </tr>\n",
       "  </thead>\n",
       "  <tbody>\n",
       "    <tr>\n",
       "      <th>70</th>\n",
       "      <td>100088067</td>\n",
       "      <td>50000</td>\n",
       "      <td>49734.57</td>\n",
       "      <td>309.96</td>\n",
       "      <td>South Cafe</td>\n",
       "      <td>05</td>\n",
       "      <td>01</td>\n",
       "      <td>food</td>\n",
       "      <td>PURCHASE</td>\n",
       "      <td>265.43</td>\n",
       "      <td>True</td>\n",
       "      <td>False</td>\n",
       "      <td>2016-12-26 19:14:46</td>\n",
       "      <td>True</td>\n",
       "    </tr>\n",
       "    <tr>\n",
       "      <th>248</th>\n",
       "      <td>100737756</td>\n",
       "      <td>250</td>\n",
       "      <td>52.70</td>\n",
       "      <td>331.72</td>\n",
       "      <td>34th BBQ #166379</td>\n",
       "      <td>90</td>\n",
       "      <td>01</td>\n",
       "      <td>food</td>\n",
       "      <td>PURCHASE</td>\n",
       "      <td>197.30</td>\n",
       "      <td>True</td>\n",
       "      <td>False</td>\n",
       "      <td>2016-11-05 17:50:30</td>\n",
       "      <td>True</td>\n",
       "    </tr>\n",
       "    <tr>\n",
       "      <th>439</th>\n",
       "      <td>101132326</td>\n",
       "      <td>1000</td>\n",
       "      <td>815.86</td>\n",
       "      <td>118.36</td>\n",
       "      <td>South Steakhouse #157238</td>\n",
       "      <td>09</td>\n",
       "      <td>01</td>\n",
       "      <td>food</td>\n",
       "      <td>PURCHASE</td>\n",
       "      <td>184.14</td>\n",
       "      <td>True</td>\n",
       "      <td>False</td>\n",
       "      <td>2016-10-25 09:45:49</td>\n",
       "      <td>True</td>\n",
       "    </tr>\n",
       "  </tbody>\n",
       "</table>\n",
       "</div>"
      ],
      "text/plain": [
       "     customerId  creditLimit  availableMoney  transactionAmount  \\\n",
       "70    100088067        50000        49734.57             309.96   \n",
       "248   100737756          250           52.70             331.72   \n",
       "439   101132326         1000          815.86             118.36   \n",
       "\n",
       "                 merchantName posEntryMode posConditionCode  \\\n",
       "70                 South Cafe           05               01   \n",
       "248          34th BBQ #166379           90               01   \n",
       "439  South Steakhouse #157238           09               01   \n",
       "\n",
       "    merchantCategoryCode transactionType  currentBalance  cardPresent  \\\n",
       "70                  food        PURCHASE          265.43         True   \n",
       "248                 food        PURCHASE          197.30         True   \n",
       "439                 food        PURCHASE          184.14         True   \n",
       "\n",
       "     expirationDateKeyInMatch           Timestamp  isFraud  \n",
       "70                      False 2016-12-26 19:14:46     True  \n",
       "248                     False 2016-11-05 17:50:30     True  \n",
       "439                     False 2016-10-25 09:45:49     True  "
      ]
     },
     "execution_count": 171,
     "metadata": {},
     "output_type": "execute_result"
    }
   ],
   "source": [
    "df_final.head(3)"
   ]
  },
  {
   "cell_type": "code",
   "execution_count": 172,
   "id": "d6da05e5",
   "metadata": {},
   "outputs": [
    {
     "name": "stdout",
     "output_type": "stream",
     "text": [
      "<class 'pandas.core.frame.DataFrame'>\n",
      "Int64Index: 85471 entries, 70 to 35530\n",
      "Data columns (total 14 columns):\n",
      " #   Column                    Non-Null Count  Dtype         \n",
      "---  ------                    --------------  -----         \n",
      " 0   customerId                85471 non-null  int64         \n",
      " 1   creditLimit               85471 non-null  int64         \n",
      " 2   availableMoney            85471 non-null  float64       \n",
      " 3   transactionAmount         85471 non-null  float64       \n",
      " 4   merchantName              85471 non-null  object        \n",
      " 5   posEntryMode              85471 non-null  object        \n",
      " 6   posConditionCode          85471 non-null  object        \n",
      " 7   merchantCategoryCode      85471 non-null  object        \n",
      " 8   transactionType           85471 non-null  object        \n",
      " 9   currentBalance            85471 non-null  float64       \n",
      " 10  cardPresent               85471 non-null  bool          \n",
      " 11  expirationDateKeyInMatch  85471 non-null  bool          \n",
      " 12  Timestamp                 85471 non-null  datetime64[ns]\n",
      " 13  isFraud                   85471 non-null  bool          \n",
      "dtypes: bool(3), datetime64[ns](1), float64(3), int64(2), object(5)\n",
      "memory usage: 8.1+ MB\n"
     ]
    }
   ],
   "source": [
    "df_final.info()"
   ]
  },
  {
   "cell_type": "code",
   "execution_count": null,
   "id": "26ca15f8",
   "metadata": {},
   "outputs": [],
   "source": []
  },
  {
   "cell_type": "markdown",
   "id": "563bb534",
   "metadata": {},
   "source": [
    "#### 1. creditLimit "
   ]
  },
  {
   "cell_type": "code",
   "execution_count": 173,
   "id": "a63958ec",
   "metadata": {},
   "outputs": [
    {
     "data": {
      "text/html": [
       "<div>\n",
       "<style scoped>\n",
       "    .dataframe tbody tr th:only-of-type {\n",
       "        vertical-align: middle;\n",
       "    }\n",
       "\n",
       "    .dataframe tbody tr th {\n",
       "        vertical-align: top;\n",
       "    }\n",
       "\n",
       "    .dataframe thead th {\n",
       "        text-align: right;\n",
       "    }\n",
       "</style>\n",
       "<table border=\"1\" class=\"dataframe\">\n",
       "  <thead>\n",
       "    <tr style=\"text-align: right;\">\n",
       "      <th></th>\n",
       "      <th>CredLimit__250</th>\n",
       "      <th>CredLimit__500</th>\n",
       "      <th>CredLimit__1000</th>\n",
       "      <th>CredLimit__2500</th>\n",
       "      <th>CredLimit__5000</th>\n",
       "      <th>CredLimit__7500</th>\n",
       "      <th>CredLimit__10000</th>\n",
       "      <th>CredLimit__15000</th>\n",
       "      <th>CredLimit__20000</th>\n",
       "      <th>CredLimit__50000</th>\n",
       "    </tr>\n",
       "  </thead>\n",
       "  <tbody>\n",
       "    <tr>\n",
       "      <th>70</th>\n",
       "      <td>0</td>\n",
       "      <td>0</td>\n",
       "      <td>0</td>\n",
       "      <td>0</td>\n",
       "      <td>0</td>\n",
       "      <td>0</td>\n",
       "      <td>0</td>\n",
       "      <td>0</td>\n",
       "      <td>0</td>\n",
       "      <td>1</td>\n",
       "    </tr>\n",
       "    <tr>\n",
       "      <th>248</th>\n",
       "      <td>1</td>\n",
       "      <td>0</td>\n",
       "      <td>0</td>\n",
       "      <td>0</td>\n",
       "      <td>0</td>\n",
       "      <td>0</td>\n",
       "      <td>0</td>\n",
       "      <td>0</td>\n",
       "      <td>0</td>\n",
       "      <td>0</td>\n",
       "    </tr>\n",
       "    <tr>\n",
       "      <th>439</th>\n",
       "      <td>0</td>\n",
       "      <td>0</td>\n",
       "      <td>1</td>\n",
       "      <td>0</td>\n",
       "      <td>0</td>\n",
       "      <td>0</td>\n",
       "      <td>0</td>\n",
       "      <td>0</td>\n",
       "      <td>0</td>\n",
       "      <td>0</td>\n",
       "    </tr>\n",
       "    <tr>\n",
       "      <th>440</th>\n",
       "      <td>0</td>\n",
       "      <td>0</td>\n",
       "      <td>1</td>\n",
       "      <td>0</td>\n",
       "      <td>0</td>\n",
       "      <td>0</td>\n",
       "      <td>0</td>\n",
       "      <td>0</td>\n",
       "      <td>0</td>\n",
       "      <td>0</td>\n",
       "    </tr>\n",
       "    <tr>\n",
       "      <th>441</th>\n",
       "      <td>0</td>\n",
       "      <td>0</td>\n",
       "      <td>1</td>\n",
       "      <td>0</td>\n",
       "      <td>0</td>\n",
       "      <td>0</td>\n",
       "      <td>0</td>\n",
       "      <td>0</td>\n",
       "      <td>0</td>\n",
       "      <td>0</td>\n",
       "    </tr>\n",
       "  </tbody>\n",
       "</table>\n",
       "</div>"
      ],
      "text/plain": [
       "     CredLimit__250  CredLimit__500  CredLimit__1000  CredLimit__2500  \\\n",
       "70                0               0                0                0   \n",
       "248               1               0                0                0   \n",
       "439               0               0                1                0   \n",
       "440               0               0                1                0   \n",
       "441               0               0                1                0   \n",
       "\n",
       "     CredLimit__5000  CredLimit__7500  CredLimit__10000  CredLimit__15000  \\\n",
       "70                 0                0                 0                 0   \n",
       "248                0                0                 0                 0   \n",
       "439                0                0                 0                 0   \n",
       "440                0                0                 0                 0   \n",
       "441                0                0                 0                 0   \n",
       "\n",
       "     CredLimit__20000  CredLimit__50000  \n",
       "70                  0                 1  \n",
       "248                 0                 0  \n",
       "439                 0                 0  \n",
       "440                 0                 0  \n",
       "441                 0                 0  "
      ]
     },
     "execution_count": 173,
     "metadata": {},
     "output_type": "execute_result"
    }
   ],
   "source": [
    "dummies_1 = pd.get_dummies(df_final['creditLimit'], prefix='CredLimit_')\n",
    "dummies_1.head()"
   ]
  },
  {
   "cell_type": "markdown",
   "id": "e041772a",
   "metadata": {},
   "source": [
    "#### 2. posEntryMode\n",
    "\n",
    "Due to obejective is to predict fraud, I intend to assign encode to this column based on the frequency of fraud within each posEntryMode field."
   ]
  },
  {
   "cell_type": "code",
   "execution_count": 174,
   "id": "cd28ef24",
   "metadata": {},
   "outputs": [
    {
     "data": {
      "text/html": [
       "<div>\n",
       "<style scoped>\n",
       "    .dataframe tbody tr th:only-of-type {\n",
       "        vertical-align: middle;\n",
       "    }\n",
       "\n",
       "    .dataframe tbody tr th {\n",
       "        vertical-align: top;\n",
       "    }\n",
       "\n",
       "    .dataframe thead th {\n",
       "        text-align: right;\n",
       "    }\n",
       "</style>\n",
       "<table border=\"1\" class=\"dataframe\">\n",
       "  <thead>\n",
       "    <tr style=\"text-align: right;\">\n",
       "      <th></th>\n",
       "      <th>posEntryMode</th>\n",
       "      <th>Fraud Count</th>\n",
       "      <th>Total</th>\n",
       "      <th>percent</th>\n",
       "    </tr>\n",
       "  </thead>\n",
       "  <tbody>\n",
       "    <tr>\n",
       "      <th>1</th>\n",
       "      <td>05</td>\n",
       "      <td>2560</td>\n",
       "      <td>32661</td>\n",
       "      <td>0.078381</td>\n",
       "    </tr>\n",
       "    <tr>\n",
       "      <th>3</th>\n",
       "      <td>80</td>\n",
       "      <td>216</td>\n",
       "      <td>1653</td>\n",
       "      <td>0.130672</td>\n",
       "    </tr>\n",
       "    <tr>\n",
       "      <th>0</th>\n",
       "      <td>02</td>\n",
       "      <td>3249</td>\n",
       "      <td>21753</td>\n",
       "      <td>0.149359</td>\n",
       "    </tr>\n",
       "    <tr>\n",
       "      <th>4</th>\n",
       "      <td>90</td>\n",
       "      <td>351</td>\n",
       "      <td>2148</td>\n",
       "      <td>0.163408</td>\n",
       "    </tr>\n",
       "    <tr>\n",
       "      <th>2</th>\n",
       "      <td>09</td>\n",
       "      <td>5341</td>\n",
       "      <td>27256</td>\n",
       "      <td>0.195957</td>\n",
       "    </tr>\n",
       "  </tbody>\n",
       "</table>\n",
       "</div>"
      ],
      "text/plain": [
       "  posEntryMode  Fraud Count  Total   percent\n",
       "1           05         2560  32661  0.078381\n",
       "3           80          216   1653  0.130672\n",
       "0           02         3249  21753  0.149359\n",
       "4           90          351   2148  0.163408\n",
       "2           09         5341  27256  0.195957"
      ]
     },
     "execution_count": 174,
     "metadata": {},
     "output_type": "execute_result"
    }
   ],
   "source": [
    "pem = pd.DataFrame(df_final.groupby(['posEntryMode','isFraud']).count()['Timestamp']).reset_index()\n",
    "res = pem[pem['isFraud'] == True][['posEntryMode','Timestamp']]\n",
    "res.columns = ['posEntryMode','Fraud Count']\n",
    "\n",
    "npe = pd.DataFrame(pem.groupby(['posEntryMode']).sum()['Timestamp']).reset_index()\n",
    "npe.columns = ['posEntryMode','Total']\n",
    "\n",
    "# Merge dataset\n",
    "res = res.merge(npe, on='posEntryMode', how='inner')\n",
    "res['percent'] = res['Fraud Count']/res['Total']\n",
    "res = res.sort_values(by=['percent'],ascending=True)\n",
    "res"
   ]
  },
  {
   "cell_type": "code",
   "execution_count": 175,
   "id": "6dde4893",
   "metadata": {},
   "outputs": [],
   "source": [
    "def category_posEntryMode(m):\n",
    "    if m in ['05']:\n",
    "        return 0\n",
    "    elif m in ['80','02']:\n",
    "        return 1\n",
    "    elif m in ['90','09']:\n",
    "        return 2"
   ]
  },
  {
   "cell_type": "code",
   "execution_count": 176,
   "id": "caa825c8",
   "metadata": {},
   "outputs": [],
   "source": [
    "dummies_2 = pd.DataFrame(df_final['posEntryMode'].apply(lambda x: category_posEntryMode(x)))\n",
    "dummies_2.columns = ['Categ_posEntryMode']"
   ]
  },
  {
   "cell_type": "markdown",
   "id": "2c4c6c44",
   "metadata": {},
   "source": [
    "#### 3. posConditionCode\n",
    "\n",
    "Due to obejective is to predict fraud, I intend to assign encode to this column based on the frequency of fraud within each posConditionCode field."
   ]
  },
  {
   "cell_type": "code",
   "execution_count": 177,
   "id": "a3c42f49",
   "metadata": {},
   "outputs": [
    {
     "data": {
      "text/html": [
       "<div>\n",
       "<style scoped>\n",
       "    .dataframe tbody tr th:only-of-type {\n",
       "        vertical-align: middle;\n",
       "    }\n",
       "\n",
       "    .dataframe tbody tr th {\n",
       "        vertical-align: top;\n",
       "    }\n",
       "\n",
       "    .dataframe thead th {\n",
       "        text-align: right;\n",
       "    }\n",
       "</style>\n",
       "<table border=\"1\" class=\"dataframe\">\n",
       "  <thead>\n",
       "    <tr style=\"text-align: right;\">\n",
       "      <th></th>\n",
       "      <th>posConditionCode</th>\n",
       "      <th>Fraud Count</th>\n",
       "      <th>Total</th>\n",
       "      <th>percent</th>\n",
       "    </tr>\n",
       "  </thead>\n",
       "  <tbody>\n",
       "    <tr>\n",
       "      <th>1</th>\n",
       "      <td>08</td>\n",
       "      <td>1818</td>\n",
       "      <td>15938</td>\n",
       "      <td>0.114067</td>\n",
       "    </tr>\n",
       "    <tr>\n",
       "      <th>0</th>\n",
       "      <td>01</td>\n",
       "      <td>9688</td>\n",
       "      <td>68626</td>\n",
       "      <td>0.141171</td>\n",
       "    </tr>\n",
       "    <tr>\n",
       "      <th>2</th>\n",
       "      <td>99</td>\n",
       "      <td>211</td>\n",
       "      <td>907</td>\n",
       "      <td>0.232635</td>\n",
       "    </tr>\n",
       "  </tbody>\n",
       "</table>\n",
       "</div>"
      ],
      "text/plain": [
       "  posConditionCode  Fraud Count  Total   percent\n",
       "1               08         1818  15938  0.114067\n",
       "0               01         9688  68626  0.141171\n",
       "2               99          211    907  0.232635"
      ]
     },
     "execution_count": 177,
     "metadata": {},
     "output_type": "execute_result"
    }
   ],
   "source": [
    "pos = pd.DataFrame(df_final.groupby(['posConditionCode','isFraud']).count()['Timestamp']).reset_index()\n",
    "res = pos[pos['isFraud'] == True][['posConditionCode','Timestamp']]\n",
    "res.columns = ['posConditionCode','Fraud Count']\n",
    "\n",
    "npos = pd.DataFrame(pos.groupby(['posConditionCode']).sum()['Timestamp']).reset_index()\n",
    "npos.columns = ['posConditionCode','Total']\n",
    "\n",
    "# Merge dataset\n",
    "res = res.merge(npos, on='posConditionCode', how='inner')\n",
    "res['percent'] = res['Fraud Count']/res['Total']\n",
    "res = res.sort_values(by=['percent'],ascending=True)\n",
    "res"
   ]
  },
  {
   "cell_type": "code",
   "execution_count": 178,
   "id": "a4032a93",
   "metadata": {},
   "outputs": [],
   "source": [
    "def category_posConditionCode(m):\n",
    "    if m in ['08']:\n",
    "        return 0\n",
    "    elif m in ['01']:\n",
    "        return 1\n",
    "    elif m in ['99']:\n",
    "        return 2"
   ]
  },
  {
   "cell_type": "code",
   "execution_count": 179,
   "id": "65ee9a0a",
   "metadata": {},
   "outputs": [],
   "source": [
    "dummies_3 = pd.DataFrame(df_final['posConditionCode'].apply(lambda x: category_posConditionCode(x)))\n",
    "dummies_3.columns = ['Categ_posConditionCode']"
   ]
  },
  {
   "cell_type": "markdown",
   "id": "1119b2d3",
   "metadata": {},
   "source": [
    "#### 4. merchantCategoryCode\n",
    "\n",
    "Due to obejective is to predict fraud, I intend to assign encode to this column based on the frequency of fraud within each merchantCategoryCode field."
   ]
  },
  {
   "cell_type": "code",
   "execution_count": 180,
   "id": "bf416340",
   "metadata": {},
   "outputs": [
    {
     "data": {
      "text/html": [
       "<div>\n",
       "<style scoped>\n",
       "    .dataframe tbody tr th:only-of-type {\n",
       "        vertical-align: middle;\n",
       "    }\n",
       "\n",
       "    .dataframe tbody tr th {\n",
       "        vertical-align: top;\n",
       "    }\n",
       "\n",
       "    .dataframe thead th {\n",
       "        text-align: right;\n",
       "    }\n",
       "</style>\n",
       "<table border=\"1\" class=\"dataframe\">\n",
       "  <thead>\n",
       "    <tr style=\"text-align: right;\">\n",
       "      <th></th>\n",
       "      <th>merchantCategoryCode</th>\n",
       "      <th>Fraud Count</th>\n",
       "      <th>Total</th>\n",
       "      <th>percent</th>\n",
       "    </tr>\n",
       "  </thead>\n",
       "  <tbody>\n",
       "    <tr>\n",
       "      <th>10</th>\n",
       "      <td>personal care</td>\n",
       "      <td>78</td>\n",
       "      <td>1677</td>\n",
       "      <td>0.046512</td>\n",
       "    </tr>\n",
       "    <tr>\n",
       "      <th>6</th>\n",
       "      <td>health</td>\n",
       "      <td>86</td>\n",
       "      <td>1834</td>\n",
       "      <td>0.046892</td>\n",
       "    </tr>\n",
       "    <tr>\n",
       "      <th>7</th>\n",
       "      <td>hotels</td>\n",
       "      <td>240</td>\n",
       "      <td>3540</td>\n",
       "      <td>0.067797</td>\n",
       "    </tr>\n",
       "    <tr>\n",
       "      <th>12</th>\n",
       "      <td>subscriptions</td>\n",
       "      <td>205</td>\n",
       "      <td>2316</td>\n",
       "      <td>0.088515</td>\n",
       "    </tr>\n",
       "    <tr>\n",
       "      <th>3</th>\n",
       "      <td>fastfood</td>\n",
       "      <td>1023</td>\n",
       "      <td>11272</td>\n",
       "      <td>0.090756</td>\n",
       "    </tr>\n",
       "    <tr>\n",
       "      <th>1</th>\n",
       "      <td>auto</td>\n",
       "      <td>260</td>\n",
       "      <td>2512</td>\n",
       "      <td>0.103503</td>\n",
       "    </tr>\n",
       "    <tr>\n",
       "      <th>2</th>\n",
       "      <td>entertainment</td>\n",
       "      <td>904</td>\n",
       "      <td>8250</td>\n",
       "      <td>0.109576</td>\n",
       "    </tr>\n",
       "    <tr>\n",
       "      <th>4</th>\n",
       "      <td>food</td>\n",
       "      <td>963</td>\n",
       "      <td>8191</td>\n",
       "      <td>0.117568</td>\n",
       "    </tr>\n",
       "    <tr>\n",
       "      <th>5</th>\n",
       "      <td>furniture</td>\n",
       "      <td>99</td>\n",
       "      <td>785</td>\n",
       "      <td>0.126115</td>\n",
       "    </tr>\n",
       "    <tr>\n",
       "      <th>8</th>\n",
       "      <td>online_gifts</td>\n",
       "      <td>1509</td>\n",
       "      <td>8359</td>\n",
       "      <td>0.180524</td>\n",
       "    </tr>\n",
       "    <tr>\n",
       "      <th>9</th>\n",
       "      <td>online_retail</td>\n",
       "      <td>4659</td>\n",
       "      <td>24998</td>\n",
       "      <td>0.186375</td>\n",
       "    </tr>\n",
       "    <tr>\n",
       "      <th>11</th>\n",
       "      <td>rideshare</td>\n",
       "      <td>1201</td>\n",
       "      <td>6124</td>\n",
       "      <td>0.196114</td>\n",
       "    </tr>\n",
       "    <tr>\n",
       "      <th>0</th>\n",
       "      <td>airline</td>\n",
       "      <td>490</td>\n",
       "      <td>1981</td>\n",
       "      <td>0.247350</td>\n",
       "    </tr>\n",
       "  </tbody>\n",
       "</table>\n",
       "</div>"
      ],
      "text/plain": [
       "   merchantCategoryCode  Fraud Count  Total   percent\n",
       "10        personal care           78   1677  0.046512\n",
       "6                health           86   1834  0.046892\n",
       "7                hotels          240   3540  0.067797\n",
       "12        subscriptions          205   2316  0.088515\n",
       "3              fastfood         1023  11272  0.090756\n",
       "1                  auto          260   2512  0.103503\n",
       "2         entertainment          904   8250  0.109576\n",
       "4                  food          963   8191  0.117568\n",
       "5             furniture           99    785  0.126115\n",
       "8          online_gifts         1509   8359  0.180524\n",
       "9         online_retail         4659  24998  0.186375\n",
       "11            rideshare         1201   6124  0.196114\n",
       "0               airline          490   1981  0.247350"
      ]
     },
     "execution_count": 180,
     "metadata": {},
     "output_type": "execute_result"
    }
   ],
   "source": [
    "mmC = pd.DataFrame(df_final.groupby(['merchantCategoryCode','isFraud']).count()['Timestamp']).reset_index()\n",
    "res = mmC[mmC['isFraud'] == True][['merchantCategoryCode','Timestamp']]\n",
    "res.columns = ['merchantCategoryCode','Fraud Count']\n",
    "\n",
    "nmC = pd.DataFrame(mmC.groupby(['merchantCategoryCode']).sum()['Timestamp']).reset_index()\n",
    "nmC.columns = ['merchantCategoryCode','Total']\n",
    "\n",
    "# Merge dataset\n",
    "res = res.merge(nmC, on='merchantCategoryCode', how='inner')\n",
    "res['percent'] = res['Fraud Count']/res['Total']\n",
    "res = res.sort_values(by=['percent'],ascending=True)\n",
    "res"
   ]
  },
  {
   "cell_type": "code",
   "execution_count": 181,
   "id": "842d1421",
   "metadata": {},
   "outputs": [],
   "source": [
    "def category_merchant(m):\n",
    "    if m in ['personal care','health','hotels','subscriptions','cable/phone','gym','food_delivery','online_subscriptions','mobileapps','fuel']:\n",
    "        return 0\n",
    "    elif m in ['fastfood','auto','entertainment','food','furniture']:\n",
    "        return 1\n",
    "    elif m in ['online_gifts','online_retail','rideshare','airline']:\n",
    "        return 2"
   ]
  },
  {
   "cell_type": "code",
   "execution_count": 182,
   "id": "3070eb0f",
   "metadata": {},
   "outputs": [],
   "source": [
    "dummies_4 = pd.DataFrame(df_final['merchantCategoryCode'].apply(lambda x: category_merchant(x)))\n",
    "dummies_4.columns = ['Categ_merchant']"
   ]
  },
  {
   "cell_type": "markdown",
   "id": "eb300857",
   "metadata": {},
   "source": [
    "#### 5. transactionType"
   ]
  },
  {
   "cell_type": "code",
   "execution_count": 183,
   "id": "0cbbb74e",
   "metadata": {},
   "outputs": [
    {
     "data": {
      "text/html": [
       "<div>\n",
       "<style scoped>\n",
       "    .dataframe tbody tr th:only-of-type {\n",
       "        vertical-align: middle;\n",
       "    }\n",
       "\n",
       "    .dataframe tbody tr th {\n",
       "        vertical-align: top;\n",
       "    }\n",
       "\n",
       "    .dataframe thead th {\n",
       "        text-align: right;\n",
       "    }\n",
       "</style>\n",
       "<table border=\"1\" class=\"dataframe\">\n",
       "  <thead>\n",
       "    <tr style=\"text-align: right;\">\n",
       "      <th></th>\n",
       "      <th>transactionType__ADDRESS_VERIFICATION</th>\n",
       "      <th>transactionType__PURCHASE</th>\n",
       "    </tr>\n",
       "  </thead>\n",
       "  <tbody>\n",
       "    <tr>\n",
       "      <th>70</th>\n",
       "      <td>0</td>\n",
       "      <td>1</td>\n",
       "    </tr>\n",
       "    <tr>\n",
       "      <th>248</th>\n",
       "      <td>0</td>\n",
       "      <td>1</td>\n",
       "    </tr>\n",
       "    <tr>\n",
       "      <th>439</th>\n",
       "      <td>0</td>\n",
       "      <td>1</td>\n",
       "    </tr>\n",
       "    <tr>\n",
       "      <th>440</th>\n",
       "      <td>0</td>\n",
       "      <td>1</td>\n",
       "    </tr>\n",
       "    <tr>\n",
       "      <th>441</th>\n",
       "      <td>0</td>\n",
       "      <td>1</td>\n",
       "    </tr>\n",
       "  </tbody>\n",
       "</table>\n",
       "</div>"
      ],
      "text/plain": [
       "     transactionType__ADDRESS_VERIFICATION  transactionType__PURCHASE\n",
       "70                                       0                          1\n",
       "248                                      0                          1\n",
       "439                                      0                          1\n",
       "440                                      0                          1\n",
       "441                                      0                          1"
      ]
     },
     "execution_count": 183,
     "metadata": {},
     "output_type": "execute_result"
    }
   ],
   "source": [
    "dummies_5 = pd.get_dummies(df_final['transactionType'], prefix='transactionType_')\n",
    "dummies_5.head()"
   ]
  },
  {
   "cell_type": "markdown",
   "id": "7fc7c146",
   "metadata": {},
   "source": [
    "#### 6. cardPresent"
   ]
  },
  {
   "cell_type": "code",
   "execution_count": 184,
   "id": "a5bb15a8",
   "metadata": {},
   "outputs": [
    {
     "data": {
      "text/html": [
       "<div>\n",
       "<style scoped>\n",
       "    .dataframe tbody tr th:only-of-type {\n",
       "        vertical-align: middle;\n",
       "    }\n",
       "\n",
       "    .dataframe tbody tr th {\n",
       "        vertical-align: top;\n",
       "    }\n",
       "\n",
       "    .dataframe thead th {\n",
       "        text-align: right;\n",
       "    }\n",
       "</style>\n",
       "<table border=\"1\" class=\"dataframe\">\n",
       "  <thead>\n",
       "    <tr style=\"text-align: right;\">\n",
       "      <th></th>\n",
       "      <th>cardPresent__False</th>\n",
       "      <th>cardPresent__True</th>\n",
       "    </tr>\n",
       "  </thead>\n",
       "  <tbody>\n",
       "    <tr>\n",
       "      <th>70</th>\n",
       "      <td>0</td>\n",
       "      <td>1</td>\n",
       "    </tr>\n",
       "    <tr>\n",
       "      <th>248</th>\n",
       "      <td>0</td>\n",
       "      <td>1</td>\n",
       "    </tr>\n",
       "    <tr>\n",
       "      <th>439</th>\n",
       "      <td>0</td>\n",
       "      <td>1</td>\n",
       "    </tr>\n",
       "    <tr>\n",
       "      <th>440</th>\n",
       "      <td>0</td>\n",
       "      <td>1</td>\n",
       "    </tr>\n",
       "    <tr>\n",
       "      <th>441</th>\n",
       "      <td>0</td>\n",
       "      <td>1</td>\n",
       "    </tr>\n",
       "  </tbody>\n",
       "</table>\n",
       "</div>"
      ],
      "text/plain": [
       "     cardPresent__False  cardPresent__True\n",
       "70                    0                  1\n",
       "248                   0                  1\n",
       "439                   0                  1\n",
       "440                   0                  1\n",
       "441                   0                  1"
      ]
     },
     "execution_count": 184,
     "metadata": {},
     "output_type": "execute_result"
    }
   ],
   "source": [
    "dummies_6 = pd.get_dummies(df_final['cardPresent'], prefix='cardPresent_')\n",
    "dummies_6.head()"
   ]
  },
  {
   "cell_type": "markdown",
   "id": "acc72928",
   "metadata": {},
   "source": [
    "#### 7.expirationDateKeyInMatch"
   ]
  },
  {
   "cell_type": "code",
   "execution_count": 185,
   "id": "c648718c",
   "metadata": {},
   "outputs": [
    {
     "data": {
      "text/html": [
       "<div>\n",
       "<style scoped>\n",
       "    .dataframe tbody tr th:only-of-type {\n",
       "        vertical-align: middle;\n",
       "    }\n",
       "\n",
       "    .dataframe tbody tr th {\n",
       "        vertical-align: top;\n",
       "    }\n",
       "\n",
       "    .dataframe thead th {\n",
       "        text-align: right;\n",
       "    }\n",
       "</style>\n",
       "<table border=\"1\" class=\"dataframe\">\n",
       "  <thead>\n",
       "    <tr style=\"text-align: right;\">\n",
       "      <th></th>\n",
       "      <th>expirationDateKeyInMatch__False</th>\n",
       "      <th>expirationDateKeyInMatch__True</th>\n",
       "    </tr>\n",
       "  </thead>\n",
       "  <tbody>\n",
       "    <tr>\n",
       "      <th>70</th>\n",
       "      <td>1</td>\n",
       "      <td>0</td>\n",
       "    </tr>\n",
       "    <tr>\n",
       "      <th>248</th>\n",
       "      <td>1</td>\n",
       "      <td>0</td>\n",
       "    </tr>\n",
       "    <tr>\n",
       "      <th>439</th>\n",
       "      <td>1</td>\n",
       "      <td>0</td>\n",
       "    </tr>\n",
       "    <tr>\n",
       "      <th>440</th>\n",
       "      <td>1</td>\n",
       "      <td>0</td>\n",
       "    </tr>\n",
       "    <tr>\n",
       "      <th>441</th>\n",
       "      <td>1</td>\n",
       "      <td>0</td>\n",
       "    </tr>\n",
       "  </tbody>\n",
       "</table>\n",
       "</div>"
      ],
      "text/plain": [
       "     expirationDateKeyInMatch__False  expirationDateKeyInMatch__True\n",
       "70                                 1                               0\n",
       "248                                1                               0\n",
       "439                                1                               0\n",
       "440                                1                               0\n",
       "441                                1                               0"
      ]
     },
     "execution_count": 185,
     "metadata": {},
     "output_type": "execute_result"
    }
   ],
   "source": [
    "dummies_7 = pd.get_dummies(df_final['expirationDateKeyInMatch'], prefix='expirationDateKeyInMatch_')\n",
    "dummies_7.head()"
   ]
  },
  {
   "cell_type": "markdown",
   "id": "39b26a95",
   "metadata": {},
   "source": [
    "#### Label: isFraud"
   ]
  },
  {
   "cell_type": "code",
   "execution_count": 186,
   "id": "768a7e62",
   "metadata": {},
   "outputs": [],
   "source": [
    "le = LabelEncoder()\n",
    "le.fit(df_final['isFraud'])\n",
    "df_final['isFraud'] = le.transform(df_final['isFraud'])"
   ]
  },
  {
   "cell_type": "markdown",
   "id": "9f275ca0",
   "metadata": {},
   "source": [
    "### Data integration"
   ]
  },
  {
   "cell_type": "code",
   "execution_count": 187,
   "id": "db2e69fd",
   "metadata": {},
   "outputs": [
    {
     "data": {
      "text/html": [
       "<div>\n",
       "<style scoped>\n",
       "    .dataframe tbody tr th:only-of-type {\n",
       "        vertical-align: middle;\n",
       "    }\n",
       "\n",
       "    .dataframe tbody tr th {\n",
       "        vertical-align: top;\n",
       "    }\n",
       "\n",
       "    .dataframe thead th {\n",
       "        text-align: right;\n",
       "    }\n",
       "</style>\n",
       "<table border=\"1\" class=\"dataframe\">\n",
       "  <thead>\n",
       "    <tr style=\"text-align: right;\">\n",
       "      <th></th>\n",
       "      <th>customerId</th>\n",
       "      <th>creditLimit</th>\n",
       "      <th>availableMoney</th>\n",
       "      <th>transactionAmount</th>\n",
       "      <th>merchantName</th>\n",
       "      <th>posEntryMode</th>\n",
       "      <th>posConditionCode</th>\n",
       "      <th>merchantCategoryCode</th>\n",
       "      <th>transactionType</th>\n",
       "      <th>currentBalance</th>\n",
       "      <th>cardPresent</th>\n",
       "      <th>expirationDateKeyInMatch</th>\n",
       "      <th>Timestamp</th>\n",
       "      <th>isFraud</th>\n",
       "    </tr>\n",
       "  </thead>\n",
       "  <tbody>\n",
       "    <tr>\n",
       "      <th>70</th>\n",
       "      <td>100088067</td>\n",
       "      <td>50000</td>\n",
       "      <td>49734.57</td>\n",
       "      <td>309.96</td>\n",
       "      <td>South Cafe</td>\n",
       "      <td>05</td>\n",
       "      <td>01</td>\n",
       "      <td>food</td>\n",
       "      <td>PURCHASE</td>\n",
       "      <td>265.43</td>\n",
       "      <td>True</td>\n",
       "      <td>False</td>\n",
       "      <td>2016-12-26 19:14:46</td>\n",
       "      <td>1</td>\n",
       "    </tr>\n",
       "    <tr>\n",
       "      <th>248</th>\n",
       "      <td>100737756</td>\n",
       "      <td>250</td>\n",
       "      <td>52.70</td>\n",
       "      <td>331.72</td>\n",
       "      <td>34th BBQ #166379</td>\n",
       "      <td>90</td>\n",
       "      <td>01</td>\n",
       "      <td>food</td>\n",
       "      <td>PURCHASE</td>\n",
       "      <td>197.30</td>\n",
       "      <td>True</td>\n",
       "      <td>False</td>\n",
       "      <td>2016-11-05 17:50:30</td>\n",
       "      <td>1</td>\n",
       "    </tr>\n",
       "    <tr>\n",
       "      <th>439</th>\n",
       "      <td>101132326</td>\n",
       "      <td>1000</td>\n",
       "      <td>815.86</td>\n",
       "      <td>118.36</td>\n",
       "      <td>South Steakhouse #157238</td>\n",
       "      <td>09</td>\n",
       "      <td>01</td>\n",
       "      <td>food</td>\n",
       "      <td>PURCHASE</td>\n",
       "      <td>184.14</td>\n",
       "      <td>True</td>\n",
       "      <td>False</td>\n",
       "      <td>2016-10-25 09:45:49</td>\n",
       "      <td>1</td>\n",
       "    </tr>\n",
       "    <tr>\n",
       "      <th>440</th>\n",
       "      <td>101132326</td>\n",
       "      <td>1000</td>\n",
       "      <td>59.24</td>\n",
       "      <td>44.14</td>\n",
       "      <td>South Steakhouse #378389</td>\n",
       "      <td>05</td>\n",
       "      <td>01</td>\n",
       "      <td>food</td>\n",
       "      <td>PURCHASE</td>\n",
       "      <td>940.76</td>\n",
       "      <td>True</td>\n",
       "      <td>False</td>\n",
       "      <td>2016-07-29 08:55:46</td>\n",
       "      <td>1</td>\n",
       "    </tr>\n",
       "    <tr>\n",
       "      <th>441</th>\n",
       "      <td>101132326</td>\n",
       "      <td>1000</td>\n",
       "      <td>441.92</td>\n",
       "      <td>125.41</td>\n",
       "      <td>South Steakhouse #481929</td>\n",
       "      <td>09</td>\n",
       "      <td>01</td>\n",
       "      <td>food</td>\n",
       "      <td>PURCHASE</td>\n",
       "      <td>558.08</td>\n",
       "      <td>True</td>\n",
       "      <td>False</td>\n",
       "      <td>2016-02-12 01:31:38</td>\n",
       "      <td>1</td>\n",
       "    </tr>\n",
       "  </tbody>\n",
       "</table>\n",
       "</div>"
      ],
      "text/plain": [
       "     customerId  creditLimit  availableMoney  transactionAmount  \\\n",
       "70    100088067        50000        49734.57             309.96   \n",
       "248   100737756          250           52.70             331.72   \n",
       "439   101132326         1000          815.86             118.36   \n",
       "440   101132326         1000           59.24              44.14   \n",
       "441   101132326         1000          441.92             125.41   \n",
       "\n",
       "                 merchantName posEntryMode posConditionCode  \\\n",
       "70                 South Cafe           05               01   \n",
       "248          34th BBQ #166379           90               01   \n",
       "439  South Steakhouse #157238           09               01   \n",
       "440  South Steakhouse #378389           05               01   \n",
       "441  South Steakhouse #481929           09               01   \n",
       "\n",
       "    merchantCategoryCode transactionType  currentBalance  cardPresent  \\\n",
       "70                  food        PURCHASE          265.43         True   \n",
       "248                 food        PURCHASE          197.30         True   \n",
       "439                 food        PURCHASE          184.14         True   \n",
       "440                 food        PURCHASE          940.76         True   \n",
       "441                 food        PURCHASE          558.08         True   \n",
       "\n",
       "     expirationDateKeyInMatch           Timestamp  isFraud  \n",
       "70                      False 2016-12-26 19:14:46        1  \n",
       "248                     False 2016-11-05 17:50:30        1  \n",
       "439                     False 2016-10-25 09:45:49        1  \n",
       "440                     False 2016-07-29 08:55:46        1  \n",
       "441                     False 2016-02-12 01:31:38        1  "
      ]
     },
     "execution_count": 187,
     "metadata": {},
     "output_type": "execute_result"
    }
   ],
   "source": [
    "df_final.head()"
   ]
  },
  {
   "cell_type": "code",
   "execution_count": 188,
   "id": "4358b15a",
   "metadata": {},
   "outputs": [],
   "source": [
    "d1 = pd.DataFrame(df_final.iloc[:,0:4])\n",
    "d2 = pd.DataFrame(df_final.iloc[:,9])\n",
    "d3 = pd.DataFrame(df_final.iloc[:,-1])"
   ]
  },
  {
   "cell_type": "code",
   "execution_count": 189,
   "id": "b06694e8",
   "metadata": {},
   "outputs": [],
   "source": [
    "df_fianl_ = pd.concat([d1,d2,dummies_1,\n",
    "                       dummies_2,dummies_3,dummies_4,dummies_5,\n",
    "                       dummies_6,dummies_7,d3], axis=1)"
   ]
  },
  {
   "cell_type": "code",
   "execution_count": 190,
   "id": "a6228e67",
   "metadata": {},
   "outputs": [
    {
     "data": {
      "text/html": [
       "<div>\n",
       "<style scoped>\n",
       "    .dataframe tbody tr th:only-of-type {\n",
       "        vertical-align: middle;\n",
       "    }\n",
       "\n",
       "    .dataframe tbody tr th {\n",
       "        vertical-align: top;\n",
       "    }\n",
       "\n",
       "    .dataframe thead th {\n",
       "        text-align: right;\n",
       "    }\n",
       "</style>\n",
       "<table border=\"1\" class=\"dataframe\">\n",
       "  <thead>\n",
       "    <tr style=\"text-align: right;\">\n",
       "      <th></th>\n",
       "      <th>customerId</th>\n",
       "      <th>creditLimit</th>\n",
       "      <th>availableMoney</th>\n",
       "      <th>transactionAmount</th>\n",
       "      <th>currentBalance</th>\n",
       "      <th>CredLimit__250</th>\n",
       "      <th>CredLimit__500</th>\n",
       "      <th>CredLimit__1000</th>\n",
       "      <th>CredLimit__2500</th>\n",
       "      <th>CredLimit__5000</th>\n",
       "      <th>...</th>\n",
       "      <th>Categ_posEntryMode</th>\n",
       "      <th>Categ_posConditionCode</th>\n",
       "      <th>Categ_merchant</th>\n",
       "      <th>transactionType__ADDRESS_VERIFICATION</th>\n",
       "      <th>transactionType__PURCHASE</th>\n",
       "      <th>cardPresent__False</th>\n",
       "      <th>cardPresent__True</th>\n",
       "      <th>expirationDateKeyInMatch__False</th>\n",
       "      <th>expirationDateKeyInMatch__True</th>\n",
       "      <th>isFraud</th>\n",
       "    </tr>\n",
       "  </thead>\n",
       "  <tbody>\n",
       "    <tr>\n",
       "      <th>70</th>\n",
       "      <td>100088067</td>\n",
       "      <td>50000</td>\n",
       "      <td>49734.57</td>\n",
       "      <td>309.96</td>\n",
       "      <td>265.43</td>\n",
       "      <td>0</td>\n",
       "      <td>0</td>\n",
       "      <td>0</td>\n",
       "      <td>0</td>\n",
       "      <td>0</td>\n",
       "      <td>...</td>\n",
       "      <td>0</td>\n",
       "      <td>1</td>\n",
       "      <td>1</td>\n",
       "      <td>0</td>\n",
       "      <td>1</td>\n",
       "      <td>0</td>\n",
       "      <td>1</td>\n",
       "      <td>1</td>\n",
       "      <td>0</td>\n",
       "      <td>1</td>\n",
       "    </tr>\n",
       "    <tr>\n",
       "      <th>248</th>\n",
       "      <td>100737756</td>\n",
       "      <td>250</td>\n",
       "      <td>52.70</td>\n",
       "      <td>331.72</td>\n",
       "      <td>197.30</td>\n",
       "      <td>1</td>\n",
       "      <td>0</td>\n",
       "      <td>0</td>\n",
       "      <td>0</td>\n",
       "      <td>0</td>\n",
       "      <td>...</td>\n",
       "      <td>2</td>\n",
       "      <td>1</td>\n",
       "      <td>1</td>\n",
       "      <td>0</td>\n",
       "      <td>1</td>\n",
       "      <td>0</td>\n",
       "      <td>1</td>\n",
       "      <td>1</td>\n",
       "      <td>0</td>\n",
       "      <td>1</td>\n",
       "    </tr>\n",
       "    <tr>\n",
       "      <th>439</th>\n",
       "      <td>101132326</td>\n",
       "      <td>1000</td>\n",
       "      <td>815.86</td>\n",
       "      <td>118.36</td>\n",
       "      <td>184.14</td>\n",
       "      <td>0</td>\n",
       "      <td>0</td>\n",
       "      <td>1</td>\n",
       "      <td>0</td>\n",
       "      <td>0</td>\n",
       "      <td>...</td>\n",
       "      <td>2</td>\n",
       "      <td>1</td>\n",
       "      <td>1</td>\n",
       "      <td>0</td>\n",
       "      <td>1</td>\n",
       "      <td>0</td>\n",
       "      <td>1</td>\n",
       "      <td>1</td>\n",
       "      <td>0</td>\n",
       "      <td>1</td>\n",
       "    </tr>\n",
       "    <tr>\n",
       "      <th>440</th>\n",
       "      <td>101132326</td>\n",
       "      <td>1000</td>\n",
       "      <td>59.24</td>\n",
       "      <td>44.14</td>\n",
       "      <td>940.76</td>\n",
       "      <td>0</td>\n",
       "      <td>0</td>\n",
       "      <td>1</td>\n",
       "      <td>0</td>\n",
       "      <td>0</td>\n",
       "      <td>...</td>\n",
       "      <td>0</td>\n",
       "      <td>1</td>\n",
       "      <td>1</td>\n",
       "      <td>0</td>\n",
       "      <td>1</td>\n",
       "      <td>0</td>\n",
       "      <td>1</td>\n",
       "      <td>1</td>\n",
       "      <td>0</td>\n",
       "      <td>1</td>\n",
       "    </tr>\n",
       "    <tr>\n",
       "      <th>441</th>\n",
       "      <td>101132326</td>\n",
       "      <td>1000</td>\n",
       "      <td>441.92</td>\n",
       "      <td>125.41</td>\n",
       "      <td>558.08</td>\n",
       "      <td>0</td>\n",
       "      <td>0</td>\n",
       "      <td>1</td>\n",
       "      <td>0</td>\n",
       "      <td>0</td>\n",
       "      <td>...</td>\n",
       "      <td>2</td>\n",
       "      <td>1</td>\n",
       "      <td>1</td>\n",
       "      <td>0</td>\n",
       "      <td>1</td>\n",
       "      <td>0</td>\n",
       "      <td>1</td>\n",
       "      <td>1</td>\n",
       "      <td>0</td>\n",
       "      <td>1</td>\n",
       "    </tr>\n",
       "  </tbody>\n",
       "</table>\n",
       "<p>5 rows × 25 columns</p>\n",
       "</div>"
      ],
      "text/plain": [
       "     customerId  creditLimit  availableMoney  transactionAmount  \\\n",
       "70    100088067        50000        49734.57             309.96   \n",
       "248   100737756          250           52.70             331.72   \n",
       "439   101132326         1000          815.86             118.36   \n",
       "440   101132326         1000           59.24              44.14   \n",
       "441   101132326         1000          441.92             125.41   \n",
       "\n",
       "     currentBalance  CredLimit__250  CredLimit__500  CredLimit__1000  \\\n",
       "70           265.43               0               0                0   \n",
       "248          197.30               1               0                0   \n",
       "439          184.14               0               0                1   \n",
       "440          940.76               0               0                1   \n",
       "441          558.08               0               0                1   \n",
       "\n",
       "     CredLimit__2500  CredLimit__5000  ...  Categ_posEntryMode  \\\n",
       "70                 0                0  ...                   0   \n",
       "248                0                0  ...                   2   \n",
       "439                0                0  ...                   2   \n",
       "440                0                0  ...                   0   \n",
       "441                0                0  ...                   2   \n",
       "\n",
       "     Categ_posConditionCode  Categ_merchant  \\\n",
       "70                        1               1   \n",
       "248                       1               1   \n",
       "439                       1               1   \n",
       "440                       1               1   \n",
       "441                       1               1   \n",
       "\n",
       "     transactionType__ADDRESS_VERIFICATION  transactionType__PURCHASE  \\\n",
       "70                                       0                          1   \n",
       "248                                      0                          1   \n",
       "439                                      0                          1   \n",
       "440                                      0                          1   \n",
       "441                                      0                          1   \n",
       "\n",
       "     cardPresent__False  cardPresent__True  expirationDateKeyInMatch__False  \\\n",
       "70                    0                  1                                1   \n",
       "248                   0                  1                                1   \n",
       "439                   0                  1                                1   \n",
       "440                   0                  1                                1   \n",
       "441                   0                  1                                1   \n",
       "\n",
       "     expirationDateKeyInMatch__True  isFraud  \n",
       "70                                0        1  \n",
       "248                               0        1  \n",
       "439                               0        1  \n",
       "440                               0        1  \n",
       "441                               0        1  \n",
       "\n",
       "[5 rows x 25 columns]"
      ]
     },
     "execution_count": 190,
     "metadata": {},
     "output_type": "execute_result"
    }
   ],
   "source": [
    "df_fianl_.head()"
   ]
  },
  {
   "cell_type": "markdown",
   "id": "450a36fe",
   "metadata": {},
   "source": [
    "### Data Train and Test Split"
   ]
  },
  {
   "cell_type": "code",
   "execution_count": 191,
   "id": "31d5eb84",
   "metadata": {},
   "outputs": [],
   "source": [
    "X = df_fianl_.iloc[:,:-1]\n",
    "y = df_fianl_.iloc[:,-1]"
   ]
  },
  {
   "cell_type": "code",
   "execution_count": 192,
   "id": "cec851f3",
   "metadata": {},
   "outputs": [],
   "source": [
    "Xtrain, Xtest, Ytrain, Ytest = train_test_split(X, y, test_size = 0.3, random_state = 42)"
   ]
  },
  {
   "cell_type": "code",
   "execution_count": 193,
   "id": "e0cafd29",
   "metadata": {},
   "outputs": [
    {
     "name": "stdout",
     "output_type": "stream",
     "text": [
      "Training Features Shape: (59829, 24)\n",
      "Training Labels Shape: (25642, 24)\n",
      "Testing Features Shape: (59829,)\n",
      "Testing Labels Shape: (25642,)\n"
     ]
    }
   ],
   "source": [
    "print('Training Features Shape:', Xtrain.shape)\n",
    "print('Training Labels Shape:', Xtest.shape)\n",
    "print('Testing Features Shape:', Ytrain.shape)\n",
    "print('Testing Labels Shape:', Ytest.shape)"
   ]
  },
  {
   "cell_type": "markdown",
   "id": "28972ae7",
   "metadata": {},
   "source": [
    "### Modelling"
   ]
  },
  {
   "cell_type": "markdown",
   "id": "8e3375ce",
   "metadata": {},
   "source": [
    "#### Why I choose Randon Forest Classifier and XGBoost Classifier?\n",
    "\n",
    "Ensemble learning algorithms that combine multiple decision trees to create a more accurate model. \n",
    "\n",
    "###### Random Forest Classifier: \n",
    "\n",
    "I think it is effective in dealing with high-dimensional datasets with complex relationships between features. It is a good choice for fraud detection because it can handle imbalanced data, where the number of fraudulent transactions is typically much smaller than the number of non-fraudulent transactions. It can also provide an estimate of feature importance, which can be helpful in identifying the most relevant features for fraud detection.\n",
    "\n",
    "###### XGBoost Classifier:\n",
    "\n",
    "XGBoost is particularly good at handling imbalanced data, and it can also handle missing data effectively. XGBoost also provides an estimate of feature importance, which can be used to identify the most relevant features for fraud detection. "
   ]
  },
  {
   "cell_type": "markdown",
   "id": "aa1fe9be",
   "metadata": {},
   "source": [
    "### Randon Forest Classifier"
   ]
  },
  {
   "cell_type": "code",
   "execution_count": 194,
   "id": "cd5dbee4",
   "metadata": {},
   "outputs": [
    {
     "data": {
      "text/html": [
       "<style>#sk-container-id-1 {color: black;background-color: white;}#sk-container-id-1 pre{padding: 0;}#sk-container-id-1 div.sk-toggleable {background-color: white;}#sk-container-id-1 label.sk-toggleable__label {cursor: pointer;display: block;width: 100%;margin-bottom: 0;padding: 0.3em;box-sizing: border-box;text-align: center;}#sk-container-id-1 label.sk-toggleable__label-arrow:before {content: \"▸\";float: left;margin-right: 0.25em;color: #696969;}#sk-container-id-1 label.sk-toggleable__label-arrow:hover:before {color: black;}#sk-container-id-1 div.sk-estimator:hover label.sk-toggleable__label-arrow:before {color: black;}#sk-container-id-1 div.sk-toggleable__content {max-height: 0;max-width: 0;overflow: hidden;text-align: left;background-color: #f0f8ff;}#sk-container-id-1 div.sk-toggleable__content pre {margin: 0.2em;color: black;border-radius: 0.25em;background-color: #f0f8ff;}#sk-container-id-1 input.sk-toggleable__control:checked~div.sk-toggleable__content {max-height: 200px;max-width: 100%;overflow: auto;}#sk-container-id-1 input.sk-toggleable__control:checked~label.sk-toggleable__label-arrow:before {content: \"▾\";}#sk-container-id-1 div.sk-estimator input.sk-toggleable__control:checked~label.sk-toggleable__label {background-color: #d4ebff;}#sk-container-id-1 div.sk-label input.sk-toggleable__control:checked~label.sk-toggleable__label {background-color: #d4ebff;}#sk-container-id-1 input.sk-hidden--visually {border: 0;clip: rect(1px 1px 1px 1px);clip: rect(1px, 1px, 1px, 1px);height: 1px;margin: -1px;overflow: hidden;padding: 0;position: absolute;width: 1px;}#sk-container-id-1 div.sk-estimator {font-family: monospace;background-color: #f0f8ff;border: 1px dotted black;border-radius: 0.25em;box-sizing: border-box;margin-bottom: 0.5em;}#sk-container-id-1 div.sk-estimator:hover {background-color: #d4ebff;}#sk-container-id-1 div.sk-parallel-item::after {content: \"\";width: 100%;border-bottom: 1px solid gray;flex-grow: 1;}#sk-container-id-1 div.sk-label:hover label.sk-toggleable__label {background-color: #d4ebff;}#sk-container-id-1 div.sk-serial::before {content: \"\";position: absolute;border-left: 1px solid gray;box-sizing: border-box;top: 0;bottom: 0;left: 50%;z-index: 0;}#sk-container-id-1 div.sk-serial {display: flex;flex-direction: column;align-items: center;background-color: white;padding-right: 0.2em;padding-left: 0.2em;position: relative;}#sk-container-id-1 div.sk-item {position: relative;z-index: 1;}#sk-container-id-1 div.sk-parallel {display: flex;align-items: stretch;justify-content: center;background-color: white;position: relative;}#sk-container-id-1 div.sk-item::before, #sk-container-id-1 div.sk-parallel-item::before {content: \"\";position: absolute;border-left: 1px solid gray;box-sizing: border-box;top: 0;bottom: 0;left: 50%;z-index: -1;}#sk-container-id-1 div.sk-parallel-item {display: flex;flex-direction: column;z-index: 1;position: relative;background-color: white;}#sk-container-id-1 div.sk-parallel-item:first-child::after {align-self: flex-end;width: 50%;}#sk-container-id-1 div.sk-parallel-item:last-child::after {align-self: flex-start;width: 50%;}#sk-container-id-1 div.sk-parallel-item:only-child::after {width: 0;}#sk-container-id-1 div.sk-dashed-wrapped {border: 1px dashed gray;margin: 0 0.4em 0.5em 0.4em;box-sizing: border-box;padding-bottom: 0.4em;background-color: white;}#sk-container-id-1 div.sk-label label {font-family: monospace;font-weight: bold;display: inline-block;line-height: 1.2em;}#sk-container-id-1 div.sk-label-container {text-align: center;}#sk-container-id-1 div.sk-container {/* jupyter's `normalize.less` sets `[hidden] { display: none; }` but bootstrap.min.css set `[hidden] { display: none !important; }` so we also need the `!important` here to be able to override the default hidden behavior on the sphinx rendered scikit-learn.org. See: https://github.com/scikit-learn/scikit-learn/issues/21755 */display: inline-block !important;position: relative;}#sk-container-id-1 div.sk-text-repr-fallback {display: none;}</style><div id=\"sk-container-id-1\" class=\"sk-top-container\"><div class=\"sk-text-repr-fallback\"><pre>RandomForestClassifier(max_depth=15, min_samples_split=4, n_estimators=50)</pre><b>In a Jupyter environment, please rerun this cell to show the HTML representation or trust the notebook. <br />On GitHub, the HTML representation is unable to render, please try loading this page with nbviewer.org.</b></div><div class=\"sk-container\" hidden><div class=\"sk-item\"><div class=\"sk-estimator sk-toggleable\"><input class=\"sk-toggleable__control sk-hidden--visually\" id=\"sk-estimator-id-1\" type=\"checkbox\" checked><label for=\"sk-estimator-id-1\" class=\"sk-toggleable__label sk-toggleable__label-arrow\">RandomForestClassifier</label><div class=\"sk-toggleable__content\"><pre>RandomForestClassifier(max_depth=15, min_samples_split=4, n_estimators=50)</pre></div></div></div></div></div>"
      ],
      "text/plain": [
       "RandomForestClassifier(max_depth=15, min_samples_split=4, n_estimators=50)"
      ]
     },
     "execution_count": 194,
     "metadata": {},
     "output_type": "execute_result"
    }
   ],
   "source": [
    "# hyperparameters\n",
    "rfc = RandomForestClassifier()\n",
    "\n",
    "model_params = {\n",
    "    'n_estimators': [50, 100, 200, 300, 400, 500],\n",
    "    'max_depth': [5, 7, 9, 11, 13, 15],\n",
    "    'min_samples_split': [2, 3, 4, 5],\n",
    "    'min_samples_leaf': [1, 2, 3, 4]\n",
    "}\n",
    "\n",
    "clf = GridSearchCV(rfc, model_params, cv=5, scoring='recall')\n",
    "\n",
    "# Find the best model\n",
    "model = clf.fit(Xtrain, Ytrain)\n",
    "\n",
    "model.best_estimator_\n"
   ]
  },
  {
   "cell_type": "code",
   "execution_count": 208,
   "id": "f1a05df8",
   "metadata": {},
   "outputs": [
    {
     "data": {
      "text/plain": [
       "(0.8797071654214511, 0.8650651275251541)"
      ]
     },
     "execution_count": 208,
     "metadata": {},
     "output_type": "execute_result"
    }
   ],
   "source": [
    "# Randon Forest Classifier\n",
    "clf = RandomForestClassifier(n_estimators=50,bootstrap=True, ccp_alpha=0.0, \n",
    "                             class_weight=None,criterion='gini', max_depth=15, \n",
    "                             min_samples_split=4)\n",
    "\n",
    "clf.fit(Xtrain,Ytrain)\n",
    "clf.score(Xtrain, Ytrain),clf.score(Xtest, Ytest)"
   ]
  },
  {
   "cell_type": "code",
   "execution_count": 209,
   "id": "bc52fbd1",
   "metadata": {},
   "outputs": [],
   "source": [
    "# y_pred of Xtest\n",
    "y_pred = clf.predict(Xtest)"
   ]
  },
  {
   "cell_type": "code",
   "execution_count": 320,
   "id": "03b8a857",
   "metadata": {},
   "outputs": [],
   "source": [
    "# Define a function of plot auc_roc curve\n",
    "def plot_roc(labels, predict_prob):\n",
    "    false_positive_rate,true_positive_rate,thresholds=roc_curve(labels, predict_prob)\n",
    "    roc_auc=auc(false_positive_rate, true_positive_rate)\n",
    "    plt.title('ROC')\n",
    "    plt.plot(false_positive_rate, true_positive_rate,'b',label='AUC = %0.4f'% roc_auc)\n",
    "    plt.legend(loc='lower right')\n",
    "    plt.plot([0,1],[0,1],'r--')\n",
    "    plt.ylabel('TPR')\n",
    "    plt.xlabel('FPR')\n",
    "    plt.show()"
   ]
  },
  {
   "cell_type": "code",
   "execution_count": 321,
   "id": "bdf3e124",
   "metadata": {
    "scrolled": true
   },
   "outputs": [
    {
     "data": {
      "text/plain": [
       "(array([0.5, 1.5]),\n",
       " [Text(0, 0.5, 'Actual Positive:0'), Text(0, 1.5, 'Actual Negative:1')])"
      ]
     },
     "execution_count": 321,
     "metadata": {},
     "output_type": "execute_result"
    },
    {
     "data": {
      "image/png": "[encoded data removed]",
      "text/plain": [
       "<Figure size 432x288 with 2 Axes>"
      ]
     },
     "metadata": {
      "needs_background": "light"
     },
     "output_type": "display_data"
    }
   ],
   "source": [
    "# confusion_matrix of test data\n",
    "cm = confusion_matrix(Ytest, y_pred)\n",
    "\n",
    "cm_matrix = pd.DataFrame(data = cm, columns=['Predict Positive:0', 'Predict Negative:1'], \n",
    "                         index=['Actual Positive:0', 'Actual Negative:1'])\n",
    "sns.heatmap(cm_matrix, annot=True, fmt='d')\n",
    "plt.yticks(rotation=40)"
   ]
  },
  {
   "cell_type": "code",
   "execution_count": 322,
   "id": "e4938acf",
   "metadata": {},
   "outputs": [
    {
     "name": "stdout",
     "output_type": "stream",
     "text": [
      "Accuracy: 0.8651\n"
     ]
    }
   ],
   "source": [
    "# Randon Forest Classifier Model Accuracy\n",
    "print(\"Accuracy:\",np.round(accuracy_score(Ytest, y_pred),4))"
   ]
  },
  {
   "cell_type": "code",
   "execution_count": 323,
   "id": "dcd258c5",
   "metadata": {},
   "outputs": [
    {
     "data": {
      "image/png": "[encoded data removed]",
      "text/plain": [
       "<Figure size 432x288 with 1 Axes>"
      ]
     },
     "metadata": {
      "needs_background": "light"
     },
     "output_type": "display_data"
    }
   ],
   "source": [
    "# ROC_AUC Curve of Train Dataset\n",
    "plot_roc(Ytrain, clf.predict_proba(Xtrain)[:,1])"
   ]
  },
  {
   "cell_type": "code",
   "execution_count": 324,
   "id": "e6f0b283",
   "metadata": {},
   "outputs": [
    {
     "data": {
      "image/png": "[encoded data removed]",
      "text/plain": [
       "<Figure size 432x288 with 1 Axes>"
      ]
     },
     "metadata": {
      "needs_background": "light"
     },
     "output_type": "display_data"
    }
   ],
   "source": [
    "# ROC_AUC Curve of Test Dataset\n",
    "plot_roc(Ytest, clf.predict_proba(Xtest)[:,1])"
   ]
  },
  {
   "cell_type": "code",
   "execution_count": 213,
   "id": "d2397999",
   "metadata": {},
   "outputs": [],
   "source": [
    "def plot_feature_importance(importance, names, model_):\n",
    "\n",
    "    #Create arrays from feature importance and feature names\n",
    "    feature_importance = np.array(importance)\n",
    "    feature_names = np.array(names)\n",
    "\n",
    "    #Create a DataFrame using a Dictionary\n",
    "    data = {'feature_names':feature_names,'feature_importance':feature_importance}\n",
    "    dff = pd.DataFrame(data)\n",
    "\n",
    "    #Sort the DataFrame in order decreasing feature importance\n",
    "    dff.sort_values(by=['feature_importance'], ascending=False,inplace=True)\n",
    "\n",
    "    #Define size of bar plot\n",
    "    plt.figure(figsize=(18,9))\n",
    "    #Plot Searborn bar chart\n",
    "    sns.barplot(x = dff['feature_importance'], y = dff['feature_names'])\n",
    "    #Add chart labels\n",
    "    plt.title(model_ + \" \" +'Feature Importance',weight='bold')\n",
    "    plt.xlabel('Feature Importance')\n",
    "    plt.ylabel('Feature Names')"
   ]
  },
  {
   "cell_type": "code",
   "execution_count": 214,
   "id": "8ea89b29",
   "metadata": {},
   "outputs": [
    {
     "data": {
      "image/png": "[encoded data removed]",
      "text/plain": [
       "<Figure size 1296x648 with 1 Axes>"
      ]
     },
     "metadata": {
      "needs_background": "light"
     },
     "output_type": "display_data"
    }
   ],
   "source": [
    "plot_feature_importance(clf.feature_importances_, Xtrain.columns, 'Random Forest Classifier')"
   ]
  },
  {
   "cell_type": "markdown",
   "id": "585501e7",
   "metadata": {},
   "source": [
    "#### In Random Forest Classifier Model, these features are relatively important than others when do the detection of fraud transactions \n",
    "1. transactionAmount\n",
    "\n",
    "2. customerld\n",
    "\n",
    "3. currentBalance\n",
    "\n",
    "4. availableMoney\n",
    "\n",
    "5. posEntryMode\n",
    "\n",
    "6. Categ_merchant"
   ]
  },
  {
   "cell_type": "markdown",
   "id": "8ec9dc59",
   "metadata": {},
   "source": [
    "#### Result:\n",
    "\n",
    "The accuracy of the Random Forest Classifier model was 0.88 on the training dataset, 0.87 on the testing dataset, which indicates that the model is able to correctly classify 87% of transactions as either fraudulent or not fraudulent. The precision of the model was 0.90, which means that out of all the transactions predicted to be fraudulent, 90% of them were actually fraudulent. Also, I chosed the AUC score since it is not affected by imbalanced data. For this Random Forest model, in the training data, the AUC score is 0.9294, in the test data, it's 0.7745. This suggests that there may be overfitting. So I will try XGBoost mext, because it has regularization term to prevent overfitting. I also plot a feature importance graph to understand what features are important to detect fraudulent transactions. I know that transactionAmount, customerld, currentBalance, availableMoney, posEntryMode, Categ_merchant are relatively important than others when do the detection of fraud transactions."
   ]
  },
  {
   "cell_type": "markdown",
   "id": "ffac51bf",
   "metadata": {},
   "source": [
    "### XGBoost Classifier"
   ]
  },
  {
   "cell_type": "markdown",
   "id": "427fd685",
   "metadata": {},
   "source": [
    "##### Using Sklearn XGBoost API do GridSearch"
   ]
  },
  {
   "cell_type": "code",
   "execution_count": 225,
   "id": "a8b02207",
   "metadata": {},
   "outputs": [
    {
     "name": "stdout",
     "output_type": "stream",
     "text": [
      "Fitting 10 folds for each of 27 candidates, totalling 270 fits\n"
     ]
    },
    {
     "data": {
      "text/html": [
       "<style>#sk-container-id-2 {color: black;background-color: white;}#sk-container-id-2 pre{padding: 0;}#sk-container-id-2 div.sk-toggleable {background-color: white;}#sk-container-id-2 label.sk-toggleable__label {cursor: pointer;display: block;width: 100%;margin-bottom: 0;padding: 0.3em;box-sizing: border-box;text-align: center;}#sk-container-id-2 label.sk-toggleable__label-arrow:before {content: \"▸\";float: left;margin-right: 0.25em;color: #696969;}#sk-container-id-2 label.sk-toggleable__label-arrow:hover:before {color: black;}#sk-container-id-2 div.sk-estimator:hover label.sk-toggleable__label-arrow:before {color: black;}#sk-container-id-2 div.sk-toggleable__content {max-height: 0;max-width: 0;overflow: hidden;text-align: left;background-color: #f0f8ff;}#sk-container-id-2 div.sk-toggleable__content pre {margin: 0.2em;color: black;border-radius: 0.25em;background-color: #f0f8ff;}#sk-container-id-2 input.sk-toggleable__control:checked~div.sk-toggleable__content {max-height: 200px;max-width: 100%;overflow: auto;}#sk-container-id-2 input.sk-toggleable__control:checked~label.sk-toggleable__label-arrow:before {content: \"▾\";}#sk-container-id-2 div.sk-estimator input.sk-toggleable__control:checked~label.sk-toggleable__label {background-color: #d4ebff;}#sk-container-id-2 div.sk-label input.sk-toggleable__control:checked~label.sk-toggleable__label {background-color: #d4ebff;}#sk-container-id-2 input.sk-hidden--visually {border: 0;clip: rect(1px 1px 1px 1px);clip: rect(1px, 1px, 1px, 1px);height: 1px;margin: -1px;overflow: hidden;padding: 0;position: absolute;width: 1px;}#sk-container-id-2 div.sk-estimator {font-family: monospace;background-color: #f0f8ff;border: 1px dotted black;border-radius: 0.25em;box-sizing: border-box;margin-bottom: 0.5em;}#sk-container-id-2 div.sk-estimator:hover {background-color: #d4ebff;}#sk-container-id-2 div.sk-parallel-item::after {content: \"\";width: 100%;border-bottom: 1px solid gray;flex-grow: 1;}#sk-container-id-2 div.sk-label:hover label.sk-toggleable__label {background-color: #d4ebff;}#sk-container-id-2 div.sk-serial::before {content: \"\";position: absolute;border-left: 1px solid gray;box-sizing: border-box;top: 0;bottom: 0;left: 50%;z-index: 0;}#sk-container-id-2 div.sk-serial {display: flex;flex-direction: column;align-items: center;background-color: white;padding-right: 0.2em;padding-left: 0.2em;position: relative;}#sk-container-id-2 div.sk-item {position: relative;z-index: 1;}#sk-container-id-2 div.sk-parallel {display: flex;align-items: stretch;justify-content: center;background-color: white;position: relative;}#sk-container-id-2 div.sk-item::before, #sk-container-id-2 div.sk-parallel-item::before {content: \"\";position: absolute;border-left: 1px solid gray;box-sizing: border-box;top: 0;bottom: 0;left: 50%;z-index: -1;}#sk-container-id-2 div.sk-parallel-item {display: flex;flex-direction: column;z-index: 1;position: relative;background-color: white;}#sk-container-id-2 div.sk-parallel-item:first-child::after {align-self: flex-end;width: 50%;}#sk-container-id-2 div.sk-parallel-item:last-child::after {align-self: flex-start;width: 50%;}#sk-container-id-2 div.sk-parallel-item:only-child::after {width: 0;}#sk-container-id-2 div.sk-dashed-wrapped {border: 1px dashed gray;margin: 0 0.4em 0.5em 0.4em;box-sizing: border-box;padding-bottom: 0.4em;background-color: white;}#sk-container-id-2 div.sk-label label {font-family: monospace;font-weight: bold;display: inline-block;line-height: 1.2em;}#sk-container-id-2 div.sk-label-container {text-align: center;}#sk-container-id-2 div.sk-container {/* jupyter's `normalize.less` sets `[hidden] { display: none; }` but bootstrap.min.css set `[hidden] { display: none !important; }` so we also need the `!important` here to be able to override the default hidden behavior on the sphinx rendered scikit-learn.org. See: https://github.com/scikit-learn/scikit-learn/issues/21755 */display: inline-block !important;position: relative;}#sk-container-id-2 div.sk-text-repr-fallback {display: none;}</style><div id=\"sk-container-id-2\" class=\"sk-top-container\"><div class=\"sk-text-repr-fallback\"><pre>GridSearchCV(cv=10,\n",
       "             estimator=XGBClassifier(base_score=None, booster=None,\n",
       "                                     callbacks=None, colsample_bylevel=None,\n",
       "                                     colsample_bynode=None,\n",
       "                                     colsample_bytree=None,\n",
       "                                     early_stopping_rounds=None,\n",
       "                                     enable_categorical=False, eval_metric=None,\n",
       "                                     feature_types=None, gamma=None,\n",
       "                                     gpu_id=None, grow_policy=None,\n",
       "                                     importance_type=None,\n",
       "                                     interaction_constraints=None,\n",
       "                                     learning_rate=None...\n",
       "                                     max_cat_to_onehot=None,\n",
       "                                     max_delta_step=None, max_depth=None,\n",
       "                                     max_leaves=None, min_child_weight=None,\n",
       "                                     missing=nan, monotone_constraints=None,\n",
       "                                     n_estimators=100, n_jobs=None,\n",
       "                                     num_parallel_tree=None, predictor=None,\n",
       "                                     random_state=None, ...),\n",
       "             n_jobs=10,\n",
       "             param_grid={&#x27;learning_rate&#x27;: [0.1, 0.01, 0.001],\n",
       "                         &#x27;max_depth&#x27;: [5, 9, 13],\n",
       "                         &#x27;n_estimators&#x27;: [500, 700, 900]},\n",
       "             scoring=&#x27;f1&#x27;, verbose=True)</pre><b>In a Jupyter environment, please rerun this cell to show the HTML representation or trust the notebook. <br />On GitHub, the HTML representation is unable to render, please try loading this page with nbviewer.org.</b></div><div class=\"sk-container\" hidden><div class=\"sk-item sk-dashed-wrapped\"><div class=\"sk-label-container\"><div class=\"sk-label sk-toggleable\"><input class=\"sk-toggleable__control sk-hidden--visually\" id=\"sk-estimator-id-2\" type=\"checkbox\" ><label for=\"sk-estimator-id-2\" class=\"sk-toggleable__label sk-toggleable__label-arrow\">GridSearchCV</label><div class=\"sk-toggleable__content\"><pre>GridSearchCV(cv=10,\n",
       "             estimator=XGBClassifier(base_score=None, booster=None,\n",
       "                                     callbacks=None, colsample_bylevel=None,\n",
       "                                     colsample_bynode=None,\n",
       "                                     colsample_bytree=None,\n",
       "                                     early_stopping_rounds=None,\n",
       "                                     enable_categorical=False, eval_metric=None,\n",
       "                                     feature_types=None, gamma=None,\n",
       "                                     gpu_id=None, grow_policy=None,\n",
       "                                     importance_type=None,\n",
       "                                     interaction_constraints=None,\n",
       "                                     learning_rate=None...\n",
       "                                     max_cat_to_onehot=None,\n",
       "                                     max_delta_step=None, max_depth=None,\n",
       "                                     max_leaves=None, min_child_weight=None,\n",
       "                                     missing=nan, monotone_constraints=None,\n",
       "                                     n_estimators=100, n_jobs=None,\n",
       "                                     num_parallel_tree=None, predictor=None,\n",
       "                                     random_state=None, ...),\n",
       "             n_jobs=10,\n",
       "             param_grid={&#x27;learning_rate&#x27;: [0.1, 0.01, 0.001],\n",
       "                         &#x27;max_depth&#x27;: [5, 9, 13],\n",
       "                         &#x27;n_estimators&#x27;: [500, 700, 900]},\n",
       "             scoring=&#x27;f1&#x27;, verbose=True)</pre></div></div></div><div class=\"sk-parallel\"><div class=\"sk-parallel-item\"><div class=\"sk-item\"><div class=\"sk-label-container\"><div class=\"sk-label sk-toggleable\"><input class=\"sk-toggleable__control sk-hidden--visually\" id=\"sk-estimator-id-3\" type=\"checkbox\" ><label for=\"sk-estimator-id-3\" class=\"sk-toggleable__label sk-toggleable__label-arrow\">estimator: XGBClassifier</label><div class=\"sk-toggleable__content\"><pre>XGBClassifier(base_score=None, booster=None, callbacks=None,\n",
       "              colsample_bylevel=None, colsample_bynode=None,\n",
       "              colsample_bytree=None, early_stopping_rounds=None,\n",
       "              enable_categorical=False, eval_metric=None, feature_types=None,\n",
       "              gamma=None, gpu_id=None, grow_policy=None, importance_type=None,\n",
       "              interaction_constraints=None, learning_rate=None, max_bin=None,\n",
       "              max_cat_threshold=None, max_cat_to_onehot=None,\n",
       "              max_delta_step=None, max_depth=None, max_leaves=None,\n",
       "              min_child_weight=None, missing=nan, monotone_constraints=None,\n",
       "              n_estimators=100, n_jobs=None, num_parallel_tree=None,\n",
       "              predictor=None, random_state=None, ...)</pre></div></div></div><div class=\"sk-serial\"><div class=\"sk-item\"><div class=\"sk-estimator sk-toggleable\"><input class=\"sk-toggleable__control sk-hidden--visually\" id=\"sk-estimator-id-4\" type=\"checkbox\" ><label for=\"sk-estimator-id-4\" class=\"sk-toggleable__label sk-toggleable__label-arrow\">XGBClassifier</label><div class=\"sk-toggleable__content\"><pre>XGBClassifier(base_score=None, booster=None, callbacks=None,\n",
       "              colsample_bylevel=None, colsample_bynode=None,\n",
       "              colsample_bytree=None, early_stopping_rounds=None,\n",
       "              enable_categorical=False, eval_metric=None, feature_types=None,\n",
       "              gamma=None, gpu_id=None, grow_policy=None, importance_type=None,\n",
       "              interaction_constraints=None, learning_rate=None, max_bin=None,\n",
       "              max_cat_threshold=None, max_cat_to_onehot=None,\n",
       "              max_delta_step=None, max_depth=None, max_leaves=None,\n",
       "              min_child_weight=None, missing=nan, monotone_constraints=None,\n",
       "              n_estimators=100, n_jobs=None, num_parallel_tree=None,\n",
       "              predictor=None, random_state=None, ...)</pre></div></div></div></div></div></div></div></div></div></div>"
      ],
      "text/plain": [
       "GridSearchCV(cv=10,\n",
       "             estimator=XGBClassifier(base_score=None, booster=None,\n",
       "                                     callbacks=None, colsample_bylevel=None,\n",
       "                                     colsample_bynode=None,\n",
       "                                     colsample_bytree=None,\n",
       "                                     early_stopping_rounds=None,\n",
       "                                     enable_categorical=False, eval_metric=None,\n",
       "                                     feature_types=None, gamma=None,\n",
       "                                     gpu_id=None, grow_policy=None,\n",
       "                                     importance_type=None,\n",
       "                                     interaction_constraints=None,\n",
       "                                     learning_rate=None...\n",
       "                                     max_cat_to_onehot=None,\n",
       "                                     max_delta_step=None, max_depth=None,\n",
       "                                     max_leaves=None, min_child_weight=None,\n",
       "                                     missing=nan, monotone_constraints=None,\n",
       "                                     n_estimators=100, n_jobs=None,\n",
       "                                     num_parallel_tree=None, predictor=None,\n",
       "                                     random_state=None, ...),\n",
       "             n_jobs=10,\n",
       "             param_grid={'learning_rate': [0.1, 0.01, 0.001],\n",
       "                         'max_depth': [5, 9, 13],\n",
       "                         'n_estimators': [500, 700, 900]},\n",
       "             scoring='f1', verbose=True)"
      ]
     },
     "execution_count": 225,
     "metadata": {},
     "output_type": "execute_result"
    }
   ],
   "source": [
    "estimator = xgb.XGBClassifier(\n",
    "    objective= 'binary:logistic',\n",
    "    seed=666\n",
    ")\n",
    "\n",
    "parameters=  { 'max_depth': [5, 9, 13],\n",
    "               'n_estimators': [500, 700, 900],\n",
    "               'learning_rate': [0.1, 0.01, 0.001]}\n",
    "\n",
    "grid_search = GridSearchCV(\n",
    "    estimator=estimator,\n",
    "    param_grid=parameters,\n",
    "    scoring='f1',\n",
    "    n_jobs = 10,\n",
    "    cv = 10,\n",
    "    verbose=True\n",
    ")\n",
    "\n",
    "grid_search.fit(Xtrain, Ytrain)"
   ]
  },
  {
   "cell_type": "code",
   "execution_count": 226,
   "id": "088ba12c",
   "metadata": {},
   "outputs": [
    {
     "data": {
      "text/html": [
       "<style>#sk-container-id-3 {color: black;background-color: white;}#sk-container-id-3 pre{padding: 0;}#sk-container-id-3 div.sk-toggleable {background-color: white;}#sk-container-id-3 label.sk-toggleable__label {cursor: pointer;display: block;width: 100%;margin-bottom: 0;padding: 0.3em;box-sizing: border-box;text-align: center;}#sk-container-id-3 label.sk-toggleable__label-arrow:before {content: \"▸\";float: left;margin-right: 0.25em;color: #696969;}#sk-container-id-3 label.sk-toggleable__label-arrow:hover:before {color: black;}#sk-container-id-3 div.sk-estimator:hover label.sk-toggleable__label-arrow:before {color: black;}#sk-container-id-3 div.sk-toggleable__content {max-height: 0;max-width: 0;overflow: hidden;text-align: left;background-color: #f0f8ff;}#sk-container-id-3 div.sk-toggleable__content pre {margin: 0.2em;color: black;border-radius: 0.25em;background-color: #f0f8ff;}#sk-container-id-3 input.sk-toggleable__control:checked~div.sk-toggleable__content {max-height: 200px;max-width: 100%;overflow: auto;}#sk-container-id-3 input.sk-toggleable__control:checked~label.sk-toggleable__label-arrow:before {content: \"▾\";}#sk-container-id-3 div.sk-estimator input.sk-toggleable__control:checked~label.sk-toggleable__label {background-color: #d4ebff;}#sk-container-id-3 div.sk-label input.sk-toggleable__control:checked~label.sk-toggleable__label {background-color: #d4ebff;}#sk-container-id-3 input.sk-hidden--visually {border: 0;clip: rect(1px 1px 1px 1px);clip: rect(1px, 1px, 1px, 1px);height: 1px;margin: -1px;overflow: hidden;padding: 0;position: absolute;width: 1px;}#sk-container-id-3 div.sk-estimator {font-family: monospace;background-color: #f0f8ff;border: 1px dotted black;border-radius: 0.25em;box-sizing: border-box;margin-bottom: 0.5em;}#sk-container-id-3 div.sk-estimator:hover {background-color: #d4ebff;}#sk-container-id-3 div.sk-parallel-item::after {content: \"\";width: 100%;border-bottom: 1px solid gray;flex-grow: 1;}#sk-container-id-3 div.sk-label:hover label.sk-toggleable__label {background-color: #d4ebff;}#sk-container-id-3 div.sk-serial::before {content: \"\";position: absolute;border-left: 1px solid gray;box-sizing: border-box;top: 0;bottom: 0;left: 50%;z-index: 0;}#sk-container-id-3 div.sk-serial {display: flex;flex-direction: column;align-items: center;background-color: white;padding-right: 0.2em;padding-left: 0.2em;position: relative;}#sk-container-id-3 div.sk-item {position: relative;z-index: 1;}#sk-container-id-3 div.sk-parallel {display: flex;align-items: stretch;justify-content: center;background-color: white;position: relative;}#sk-container-id-3 div.sk-item::before, #sk-container-id-3 div.sk-parallel-item::before {content: \"\";position: absolute;border-left: 1px solid gray;box-sizing: border-box;top: 0;bottom: 0;left: 50%;z-index: -1;}#sk-container-id-3 div.sk-parallel-item {display: flex;flex-direction: column;z-index: 1;position: relative;background-color: white;}#sk-container-id-3 div.sk-parallel-item:first-child::after {align-self: flex-end;width: 50%;}#sk-container-id-3 div.sk-parallel-item:last-child::after {align-self: flex-start;width: 50%;}#sk-container-id-3 div.sk-parallel-item:only-child::after {width: 0;}#sk-container-id-3 div.sk-dashed-wrapped {border: 1px dashed gray;margin: 0 0.4em 0.5em 0.4em;box-sizing: border-box;padding-bottom: 0.4em;background-color: white;}#sk-container-id-3 div.sk-label label {font-family: monospace;font-weight: bold;display: inline-block;line-height: 1.2em;}#sk-container-id-3 div.sk-label-container {text-align: center;}#sk-container-id-3 div.sk-container {/* jupyter's `normalize.less` sets `[hidden] { display: none; }` but bootstrap.min.css set `[hidden] { display: none !important; }` so we also need the `!important` here to be able to override the default hidden behavior on the sphinx rendered scikit-learn.org. See: https://github.com/scikit-learn/scikit-learn/issues/21755 */display: inline-block !important;position: relative;}#sk-container-id-3 div.sk-text-repr-fallback {display: none;}</style><div id=\"sk-container-id-3\" class=\"sk-top-container\"><div class=\"sk-text-repr-fallback\"><pre>XGBClassifier(base_score=0.5, booster=&#x27;gbtree&#x27;, callbacks=None,\n",
       "              colsample_bylevel=1, colsample_bynode=1, colsample_bytree=1,\n",
       "              early_stopping_rounds=None, enable_categorical=False,\n",
       "              eval_metric=None, feature_types=None, gamma=0, gpu_id=-1,\n",
       "              grow_policy=&#x27;depthwise&#x27;, importance_type=None,\n",
       "              interaction_constraints=&#x27;&#x27;, learning_rate=0.1, max_bin=256,\n",
       "              max_cat_threshold=64, max_cat_to_onehot=4, max_delta_step=0,\n",
       "              max_depth=13, max_leaves=0, min_child_weight=1, missing=nan,\n",
       "              monotone_constraints=&#x27;()&#x27;, n_estimators=900, n_jobs=0,\n",
       "              num_parallel_tree=1, predictor=&#x27;auto&#x27;, random_state=666, ...)</pre><b>In a Jupyter environment, please rerun this cell to show the HTML representation or trust the notebook. <br />On GitHub, the HTML representation is unable to render, please try loading this page with nbviewer.org.</b></div><div class=\"sk-container\" hidden><div class=\"sk-item\"><div class=\"sk-estimator sk-toggleable\"><input class=\"sk-toggleable__control sk-hidden--visually\" id=\"sk-estimator-id-5\" type=\"checkbox\" checked><label for=\"sk-estimator-id-5\" class=\"sk-toggleable__label sk-toggleable__label-arrow\">XGBClassifier</label><div class=\"sk-toggleable__content\"><pre>XGBClassifier(base_score=0.5, booster=&#x27;gbtree&#x27;, callbacks=None,\n",
       "              colsample_bylevel=1, colsample_bynode=1, colsample_bytree=1,\n",
       "              early_stopping_rounds=None, enable_categorical=False,\n",
       "              eval_metric=None, feature_types=None, gamma=0, gpu_id=-1,\n",
       "              grow_policy=&#x27;depthwise&#x27;, importance_type=None,\n",
       "              interaction_constraints=&#x27;&#x27;, learning_rate=0.1, max_bin=256,\n",
       "              max_cat_threshold=64, max_cat_to_onehot=4, max_delta_step=0,\n",
       "              max_depth=13, max_leaves=0, min_child_weight=1, missing=nan,\n",
       "              monotone_constraints=&#x27;()&#x27;, n_estimators=900, n_jobs=0,\n",
       "              num_parallel_tree=1, predictor=&#x27;auto&#x27;, random_state=666, ...)</pre></div></div></div></div></div>"
      ],
      "text/plain": [
       "XGBClassifier(base_score=0.5, booster='gbtree', callbacks=None,\n",
       "              colsample_bylevel=1, colsample_bynode=1, colsample_bytree=1,\n",
       "              early_stopping_rounds=None, enable_categorical=False,\n",
       "              eval_metric=None, feature_types=None, gamma=0, gpu_id=-1,\n",
       "              grow_policy='depthwise', importance_type=None,\n",
       "              interaction_constraints='', learning_rate=0.1, max_bin=256,\n",
       "              max_cat_threshold=64, max_cat_to_onehot=4, max_delta_step=0,\n",
       "              max_depth=13, max_leaves=0, min_child_weight=1, missing=nan,\n",
       "              monotone_constraints='()', n_estimators=900, n_jobs=0,\n",
       "              num_parallel_tree=1, predictor='auto', random_state=666, ...)"
      ]
     },
     "execution_count": 226,
     "metadata": {},
     "output_type": "execute_result"
    }
   ],
   "source": [
    "grid_search.best_estimator_"
   ]
  },
  {
   "cell_type": "code",
   "execution_count": 298,
   "id": "64afb790",
   "metadata": {},
   "outputs": [],
   "source": [
    "dtrain = xgb.DMatrix(Xtrain, Ytrain)\n",
    "dtest = xgb.DMatrix(Xtest, Ytest)\n",
    "\n",
    "params = {\n",
    "    'objective' : 'binary:logistic', \n",
    "    'booster' : 'gbtree', \n",
    "    'eta' : 0.01,\n",
    "    'max_depth' : 13, \n",
    "    'gamma' : 0, \n",
    "    'min_child_weight' : 1, \n",
    "    'subsample' : 0.8, \n",
    "    'colsample_bytree' : 1, \n",
    "    'lambda' : 7,\n",
    "    'eval_metric' : ['error', 'auc'] \n",
    "}\n",
    "\n",
    "watch_list = [(dtrain, 'train'), (dtest, 'test')]\n",
    "\n",
    "\n",
    "model = xgb.train(params, dtrain, num_boost_round = 1000,\n",
    "                  evals = watch_list, \n",
    "                  early_stopping_rounds = 30, \n",
    "                  verbose_eval = False\n",
    "                 )"
   ]
  },
  {
   "cell_type": "code",
   "execution_count": 300,
   "id": "d64a7808",
   "metadata": {},
   "outputs": [
    {
     "name": "stdout",
     "output_type": "stream",
     "text": [
      "XGBoost Classifier model auc score is:  0.793\n"
     ]
    }
   ],
   "source": [
    "# auc score of XGBoost Classifier model\n",
    "fpr, tpr, threshold = roc_curve(Ytest, model.predict(dtest))\n",
    "print('XGBoost Classifier model auc score is: ',round(auc(fpr, tpr),4))"
   ]
  },
  {
   "cell_type": "code",
   "execution_count": 301,
   "id": "6c8db7af",
   "metadata": {},
   "outputs": [
    {
     "data": {
      "image/png": "[encoded data removed]",
      "text/plain": [
       "<Figure size 432x288 with 1 Axes>"
      ]
     },
     "metadata": {
      "needs_background": "light"
     },
     "output_type": "display_data"
    }
   ],
   "source": [
    "# ROC_AUC Curve of Train Dataset\n",
    "plot_roc(Ytrain, model.predict(dtrain))"
   ]
  },
  {
   "cell_type": "code",
   "execution_count": 302,
   "id": "3c3c70a0",
   "metadata": {},
   "outputs": [
    {
     "data": {
      "image/png": "[encoded data removed]",
      "text/plain": [
       "<Figure size 432x288 with 1 Axes>"
      ]
     },
     "metadata": {
      "needs_background": "light"
     },
     "output_type": "display_data"
    }
   ],
   "source": [
    "# ROC_AUC Curve of Test Dataset\n",
    "plot_roc(Ytest, model.predict(dtest))"
   ]
  },
  {
   "cell_type": "markdown",
   "id": "e01f9f46",
   "metadata": {},
   "source": [
    "##### In the training data, the AUC score is 0.9379, in the test data, it's 0.7930. This suggests that there may be overfitting. I tried GridSearch, also implemented regularization, but you know tree models are more prone to overfitting by nature."
   ]
  },
  {
   "cell_type": "code",
   "execution_count": 303,
   "id": "4c5a0cbb",
   "metadata": {},
   "outputs": [
    {
     "data": {
      "text/html": [
       "<div>\n",
       "<style scoped>\n",
       "    .dataframe tbody tr th:only-of-type {\n",
       "        vertical-align: middle;\n",
       "    }\n",
       "\n",
       "    .dataframe tbody tr th {\n",
       "        vertical-align: top;\n",
       "    }\n",
       "\n",
       "    .dataframe thead th {\n",
       "        text-align: right;\n",
       "    }\n",
       "</style>\n",
       "<table border=\"1\" class=\"dataframe\">\n",
       "  <thead>\n",
       "    <tr style=\"text-align: right;\">\n",
       "      <th></th>\n",
       "      <th>features</th>\n",
       "      <th>feature_importance</th>\n",
       "    </tr>\n",
       "  </thead>\n",
       "  <tbody>\n",
       "    <tr>\n",
       "      <th>3</th>\n",
       "      <td>transactionAmount</td>\n",
       "      <td>0.243296</td>\n",
       "    </tr>\n",
       "    <tr>\n",
       "      <th>2</th>\n",
       "      <td>availableMoney</td>\n",
       "      <td>0.225633</td>\n",
       "    </tr>\n",
       "    <tr>\n",
       "      <th>0</th>\n",
       "      <td>customerId</td>\n",
       "      <td>0.223792</td>\n",
       "    </tr>\n",
       "    <tr>\n",
       "      <th>4</th>\n",
       "      <td>currentBalance</td>\n",
       "      <td>0.164682</td>\n",
       "    </tr>\n",
       "    <tr>\n",
       "      <th>13</th>\n",
       "      <td>Categ_posEntryMode</td>\n",
       "      <td>0.024489</td>\n",
       "    </tr>\n",
       "    <tr>\n",
       "      <th>14</th>\n",
       "      <td>Categ_posConditionCode</td>\n",
       "      <td>0.018323</td>\n",
       "    </tr>\n",
       "    <tr>\n",
       "      <th>15</th>\n",
       "      <td>Categ_merchant</td>\n",
       "      <td>0.017916</td>\n",
       "    </tr>\n",
       "    <tr>\n",
       "      <th>1</th>\n",
       "      <td>creditLimit</td>\n",
       "      <td>0.014989</td>\n",
       "    </tr>\n",
       "    <tr>\n",
       "      <th>17</th>\n",
       "      <td>cardPresent__False</td>\n",
       "      <td>0.010588</td>\n",
       "    </tr>\n",
       "    <tr>\n",
       "      <th>9</th>\n",
       "      <td>CredLimit__7500</td>\n",
       "      <td>0.009282</td>\n",
       "    </tr>\n",
       "    <tr>\n",
       "      <th>8</th>\n",
       "      <td>CredLimit__5000</td>\n",
       "      <td>0.008582</td>\n",
       "    </tr>\n",
       "    <tr>\n",
       "      <th>10</th>\n",
       "      <td>CredLimit__10000</td>\n",
       "      <td>0.008404</td>\n",
       "    </tr>\n",
       "    <tr>\n",
       "      <th>11</th>\n",
       "      <td>CredLimit__15000</td>\n",
       "      <td>0.007697</td>\n",
       "    </tr>\n",
       "    <tr>\n",
       "      <th>7</th>\n",
       "      <td>CredLimit__2500</td>\n",
       "      <td>0.007571</td>\n",
       "    </tr>\n",
       "    <tr>\n",
       "      <th>5</th>\n",
       "      <td>CredLimit__500</td>\n",
       "      <td>0.005028</td>\n",
       "    </tr>\n",
       "    <tr>\n",
       "      <th>12</th>\n",
       "      <td>CredLimit__20000</td>\n",
       "      <td>0.004926</td>\n",
       "    </tr>\n",
       "    <tr>\n",
       "      <th>6</th>\n",
       "      <td>CredLimit__1000</td>\n",
       "      <td>0.004469</td>\n",
       "    </tr>\n",
       "    <tr>\n",
       "      <th>16</th>\n",
       "      <td>transactionType__ADDRESS_VERIFICATION</td>\n",
       "      <td>0.000218</td>\n",
       "    </tr>\n",
       "    <tr>\n",
       "      <th>18</th>\n",
       "      <td>expirationDateKeyInMatch__False</td>\n",
       "      <td>0.000116</td>\n",
       "    </tr>\n",
       "  </tbody>\n",
       "</table>\n",
       "</div>"
      ],
      "text/plain": [
       "                                 features  feature_importance\n",
       "3                       transactionAmount            0.243296\n",
       "2                          availableMoney            0.225633\n",
       "0                              customerId            0.223792\n",
       "4                          currentBalance            0.164682\n",
       "13                     Categ_posEntryMode            0.024489\n",
       "14                 Categ_posConditionCode            0.018323\n",
       "15                         Categ_merchant            0.017916\n",
       "1                             creditLimit            0.014989\n",
       "17                     cardPresent__False            0.010588\n",
       "9                         CredLimit__7500            0.009282\n",
       "8                         CredLimit__5000            0.008582\n",
       "10                       CredLimit__10000            0.008404\n",
       "11                       CredLimit__15000            0.007697\n",
       "7                         CredLimit__2500            0.007571\n",
       "5                          CredLimit__500            0.005028\n",
       "12                       CredLimit__20000            0.004926\n",
       "6                         CredLimit__1000            0.004469\n",
       "16  transactionType__ADDRESS_VERIFICATION            0.000218\n",
       "18        expirationDateKeyInMatch__False            0.000116"
      ]
     },
     "execution_count": 303,
     "metadata": {},
     "output_type": "execute_result"
    }
   ],
   "source": [
    "importance = model.get_fscore()\n",
    "importance_new = {i : [importance[i]] for i in importance}\n",
    "importance_df = pd.DataFrame(importance_new).T.reset_index()\n",
    "importance_df.columns = ['features', 'feature_importance']\n",
    "importance_df['feature_importance'] = importance_df['feature_importance']/importance_df['feature_importance'].sum()\n",
    "importance_df.sort_values(by = 'feature_importance', ascending = False)"
   ]
  },
  {
   "cell_type": "code",
   "execution_count": 304,
   "id": "5ea4b677",
   "metadata": {},
   "outputs": [
    {
     "data": {
      "text/plain": [
       "<AxesSubplot:title={'center':'Feature importance'}, xlabel='F score', ylabel='Features'>"
      ]
     },
     "execution_count": 304,
     "metadata": {},
     "output_type": "execute_result"
    },
    {
     "data": {
      "image/png": "[encoded data removed]",
      "text/plain": [
       "<Figure size 432x288 with 1 Axes>"
      ]
     },
     "metadata": {
      "needs_background": "light"
     },
     "output_type": "display_data"
    }
   ],
   "source": [
    "xgb.plot_importance(model, ax = None, height = 0.5)"
   ]
  },
  {
   "cell_type": "markdown",
   "id": "c3059082",
   "metadata": {},
   "source": [
    "#### In XGBoost Classifier Model, the same four features are most important as Random Forest Classifier Model, but the importance order changed.\n",
    "1. transactionAmount\n",
    "\n",
    "2. availableMoney\n",
    "\n",
    "3. customerld\n",
    "\n",
    "4. currentBalance"
   ]
  },
  {
   "cell_type": "markdown",
   "id": "2984ff36",
   "metadata": {},
   "source": [
    "#### Result:\n",
    "\n",
    "The performance of the XGBoost model was evaluated using the area under the curve (AUC) score. I chose the AUC score since it is not affected by imbalanced data. For this XGBoost model, in the training data, the AUC score is 0.9379, in the test data, it's 0.7930. This suggests that there may be overfitting. I tried GridSearch, also implemented regularization, so it was better than the Random Forest Model, but you know tree models are more prone to overfitting by nature. To better understand which features are important in detecting fraudulent transactions, I created a feature importance chart. Compared to the Random Forest Classifier, the XGBoost model showed that transactionAmount, availableMoney, customerld and currentBalance were more important in detecting fraudulent transactions."
   ]
  },
  {
   "cell_type": "markdown",
   "id": "f26fcd22",
   "metadata": {},
   "source": [
    "### Model Performance\n",
    "So it appears that the XGBoost model performs slightly better than the Random Forest model, due to its ability (like regularization term) to prevent overfitting."
   ]
  },
  {
   "cell_type": "markdown",
   "id": "929408c0",
   "metadata": {},
   "source": [
    "### Next steps for future\n",
    "\n",
    "With more time, I would explore additional machine learning algorithms, such as neural networks, to see if they could improve the performance of the model.\n",
    "\n",
    "Tree model are more like overfitting from native. Overly complex models, such as tree models with too many levels, are more prone to overfitting. Simplifying the model by reducing the number of features or levels can help improve its generalization ability, so this also a direction I will try.\n",
    "\n",
    "I would also investigate the impact of different feature sets on the accuracy of the model and try to identify which features are most important for fraud detection. Additionally, I would experiment with different sampling techniques, such as oversampling or undersampling, to address any imbalances in the dataset. Finally, I would explore the possibility of using additional data sources, such as external fraud databases or transaction logs, to improve the accuracy of the model.\n"
   ]
  },
  {
   "cell_type": "markdown",
   "id": "b4cb8523",
   "metadata": {},
   "source": [
    "#### Thank you for reviewing my analysis. Wish you a happy work!"
   ]
  }
 ],
 "metadata": {
  "kernelspec": {
   "display_name": "Python 3 (ipykernel)",
   "language": "python",
   "name": "python3"
  },
  "language_info": {
   "codemirror_mode": {
    "name": "ipython",
    "version": 3
   },
   "file_extension": ".py",
   "mimetype": "text/x-python",
   "name": "python",
   "nbconvert_exporter": "python",
   "pygments_lexer": "ipython3",
   "version": "3.9.12"
  }
 },
 "nbformat": 4,
 "nbformat_minor": 5
}
